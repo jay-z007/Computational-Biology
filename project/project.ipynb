{
 "cells": [
  {
   "cell_type": "markdown",
   "metadata": {},
   "source": [
    "***\n",
    "# Project 1 - Phenotypic Prediction from Transcriptomic Features\n",
    "***\n",
    "\n"
   ]
  },
  {
   "cell_type": "markdown",
   "metadata": {},
   "source": [
    "## Imports"
   ]
  },
  {
   "cell_type": "code",
   "execution_count": 1,
   "metadata": {},
   "outputs": [],
   "source": [
    "import pandas as pd\n",
    "import numpy as np\n",
    "import pickle as pkl\n",
    "from sklearn.decomposition import PCA\n",
    "from sklearn.metrics import f1_score, make_scorer\n",
    "from sklearn.preprocessing import StandardScaler,LabelEncoder\n",
    "from sklearn.model_selection import train_test_split, KFold, cross_val_score, GridSearchCV\n",
    "from sklearn.ensemble import ExtraTreesClassifier\n",
    "from sklearn.ensemble import RandomForestClassifier\n",
    "from sklearn.neural_network import MLPClassifier\n",
    "from sklearn.neighbors import KNeighborsClassifier as KNN\n",
    "import matplotlib.pyplot as plt\n",
    "import utilities\n",
    "import os\n",
    "import gc\n",
    "import random"
   ]
  },
  {
   "cell_type": "markdown",
   "metadata": {},
   "source": [
    "## Data Extraction"
   ]
  },
  {
   "cell_type": "markdown",
   "metadata": {},
   "source": [
    " Extracted the TPM value for each Accession folder and stored in the 'tpm_train.pkl' file."
   ]
  },
  {
   "cell_type": "code",
   "execution_count": null,
   "metadata": {},
   "outputs": [],
   "source": [
    "with open(\"tpm_train.pkl\", 'rb') as input_file:\n",
    "    data = pkl.load(input_file)\n",
    "    "
   ]
  },
  {
   "cell_type": "code",
   "execution_count": 28,
   "metadata": {},
   "outputs": [],
   "source": [
    "data = pd.DataFrame(data)    \n",
    "data.set_index(0, inplace=True)\n",
    "\n",
    "labels = data.iloc[:,-2:]\n",
    "\n",
    "data.columns = [str(i) for i in data.columns]"
   ]
  },
  {
   "cell_type": "code",
   "execution_count": 29,
   "metadata": {},
   "outputs": [],
   "source": [
    "X = data.drop(['199325','199326'], axis=1)\n",
    "y = labels"
   ]
  },
  {
   "cell_type": "code",
   "execution_count": 30,
   "metadata": {
    "scrolled": true
   },
   "outputs": [],
   "source": [
    "X = X.astype(np.float32)"
   ]
  },
  {
   "cell_type": "code",
   "execution_count": 34,
   "metadata": {},
   "outputs": [
    {
     "data": {
      "text/html": [
       "<div>\n",
       "<style>\n",
       "    .dataframe thead tr:only-child th {\n",
       "        text-align: right;\n",
       "    }\n",
       "\n",
       "    .dataframe thead th {\n",
       "        text-align: left;\n",
       "    }\n",
       "\n",
       "    .dataframe tbody tr th {\n",
       "        vertical-align: top;\n",
       "    }\n",
       "</style>\n",
       "<table border=\"1\" class=\"dataframe\">\n",
       "  <thead>\n",
       "    <tr style=\"text-align: right;\">\n",
       "      <th></th>\n",
       "      <th>199325</th>\n",
       "      <th>199326</th>\n",
       "    </tr>\n",
       "  </thead>\n",
       "  <tbody>\n",
       "    <tr>\n",
       "      <th>count</th>\n",
       "      <td>369</td>\n",
       "      <td>369</td>\n",
       "    </tr>\n",
       "    <tr>\n",
       "      <th>unique</th>\n",
       "      <td>5</td>\n",
       "      <td>7</td>\n",
       "    </tr>\n",
       "    <tr>\n",
       "      <th>top</th>\n",
       "      <td>FIN</td>\n",
       "      <td>1</td>\n",
       "    </tr>\n",
       "    <tr>\n",
       "      <th>freq</th>\n",
       "      <td>77</td>\n",
       "      <td>90</td>\n",
       "    </tr>\n",
       "  </tbody>\n",
       "</table>\n",
       "</div>"
      ],
      "text/plain": [
       "       199325 199326\n",
       "count     369    369\n",
       "unique      5      7\n",
       "top       FIN      1\n",
       "freq       77     90"
      ]
     },
     "execution_count": 34,
     "metadata": {},
     "output_type": "execute_result"
    }
   ],
   "source": [
    "y.describe()"
   ]
  },
  {
   "cell_type": "code",
   "execution_count": 9,
   "metadata": {},
   "outputs": [
    {
     "data": {
      "text/html": [
       "<div>\n",
       "<style>\n",
       "    .dataframe thead tr:only-child th {\n",
       "        text-align: right;\n",
       "    }\n",
       "\n",
       "    .dataframe thead th {\n",
       "        text-align: left;\n",
       "    }\n",
       "\n",
       "    .dataframe tbody tr th {\n",
       "        vertical-align: top;\n",
       "    }\n",
       "</style>\n",
       "<table border=\"1\" class=\"dataframe\">\n",
       "  <thead>\n",
       "    <tr style=\"text-align: right;\">\n",
       "      <th></th>\n",
       "      <th>1</th>\n",
       "      <th>2</th>\n",
       "      <th>3</th>\n",
       "      <th>4</th>\n",
       "      <th>5</th>\n",
       "      <th>6</th>\n",
       "      <th>7</th>\n",
       "      <th>8</th>\n",
       "      <th>9</th>\n",
       "      <th>10</th>\n",
       "      <th>...</th>\n",
       "      <th>199315</th>\n",
       "      <th>199316</th>\n",
       "      <th>199317</th>\n",
       "      <th>199318</th>\n",
       "      <th>199319</th>\n",
       "      <th>199320</th>\n",
       "      <th>199321</th>\n",
       "      <th>199322</th>\n",
       "      <th>199323</th>\n",
       "      <th>199324</th>\n",
       "    </tr>\n",
       "    <tr>\n",
       "      <th>0</th>\n",
       "      <th></th>\n",
       "      <th></th>\n",
       "      <th></th>\n",
       "      <th></th>\n",
       "      <th></th>\n",
       "      <th></th>\n",
       "      <th></th>\n",
       "      <th></th>\n",
       "      <th></th>\n",
       "      <th></th>\n",
       "      <th></th>\n",
       "      <th></th>\n",
       "      <th></th>\n",
       "      <th></th>\n",
       "      <th></th>\n",
       "      <th></th>\n",
       "      <th></th>\n",
       "      <th></th>\n",
       "      <th></th>\n",
       "      <th></th>\n",
       "      <th></th>\n",
       "    </tr>\n",
       "  </thead>\n",
       "  <tbody>\n",
       "    <tr>\n",
       "      <th>ERR188408</th>\n",
       "      <td>0.234074</td>\n",
       "      <td>0.0</td>\n",
       "      <td>3.67617</td>\n",
       "      <td>0.0</td>\n",
       "      <td>0.0</td>\n",
       "      <td>0.0</td>\n",
       "      <td>0.0</td>\n",
       "      <td>0.0</td>\n",
       "      <td>0.424268</td>\n",
       "      <td>0.0</td>\n",
       "      <td>...</td>\n",
       "      <td>8344.730469</td>\n",
       "      <td>47.279900</td>\n",
       "      <td>67.131699</td>\n",
       "      <td>309.765015</td>\n",
       "      <td>3487.449951</td>\n",
       "      <td>8528.700195</td>\n",
       "      <td>205.423004</td>\n",
       "      <td>5413.819824</td>\n",
       "      <td>423.902008</td>\n",
       "      <td>3361.919922</td>\n",
       "    </tr>\n",
       "    <tr>\n",
       "      <th>ERR188348</th>\n",
       "      <td>0.000000</td>\n",
       "      <td>0.0</td>\n",
       "      <td>1.98881</td>\n",
       "      <td>0.0</td>\n",
       "      <td>0.0</td>\n",
       "      <td>0.0</td>\n",
       "      <td>0.0</td>\n",
       "      <td>0.0</td>\n",
       "      <td>0.137385</td>\n",
       "      <td>0.0</td>\n",
       "      <td>...</td>\n",
       "      <td>7749.709961</td>\n",
       "      <td>18.325001</td>\n",
       "      <td>33.006401</td>\n",
       "      <td>23.371000</td>\n",
       "      <td>2073.770020</td>\n",
       "      <td>5866.830078</td>\n",
       "      <td>148.636002</td>\n",
       "      <td>4562.600098</td>\n",
       "      <td>360.488007</td>\n",
       "      <td>1861.000000</td>\n",
       "    </tr>\n",
       "    <tr>\n",
       "      <th>ERR188021</th>\n",
       "      <td>0.221792</td>\n",
       "      <td>0.0</td>\n",
       "      <td>5.42060</td>\n",
       "      <td>0.0</td>\n",
       "      <td>0.0</td>\n",
       "      <td>0.0</td>\n",
       "      <td>0.0</td>\n",
       "      <td>0.0</td>\n",
       "      <td>1.080040</td>\n",
       "      <td>0.0</td>\n",
       "      <td>...</td>\n",
       "      <td>8584.839844</td>\n",
       "      <td>35.289902</td>\n",
       "      <td>36.760399</td>\n",
       "      <td>92.426003</td>\n",
       "      <td>3532.689941</td>\n",
       "      <td>5837.020020</td>\n",
       "      <td>299.964996</td>\n",
       "      <td>3237.989990</td>\n",
       "      <td>85.903198</td>\n",
       "      <td>2026.969971</td>\n",
       "    </tr>\n",
       "    <tr>\n",
       "      <th>ERR188289</th>\n",
       "      <td>0.000000</td>\n",
       "      <td>0.0</td>\n",
       "      <td>8.29350</td>\n",
       "      <td>0.0</td>\n",
       "      <td>0.0</td>\n",
       "      <td>0.0</td>\n",
       "      <td>0.0</td>\n",
       "      <td>0.0</td>\n",
       "      <td>0.404072</td>\n",
       "      <td>0.0</td>\n",
       "      <td>...</td>\n",
       "      <td>7107.479980</td>\n",
       "      <td>27.253099</td>\n",
       "      <td>62.682098</td>\n",
       "      <td>87.815498</td>\n",
       "      <td>2366.439941</td>\n",
       "      <td>6055.959961</td>\n",
       "      <td>121.125000</td>\n",
       "      <td>2903.419922</td>\n",
       "      <td>459.035004</td>\n",
       "      <td>1813.839966</td>\n",
       "    </tr>\n",
       "    <tr>\n",
       "      <th>ERR188262</th>\n",
       "      <td>0.016667</td>\n",
       "      <td>0.0</td>\n",
       "      <td>2.00487</td>\n",
       "      <td>0.0</td>\n",
       "      <td>0.0</td>\n",
       "      <td>0.0</td>\n",
       "      <td>0.0</td>\n",
       "      <td>0.0</td>\n",
       "      <td>0.680980</td>\n",
       "      <td>0.0</td>\n",
       "      <td>...</td>\n",
       "      <td>10734.000000</td>\n",
       "      <td>28.609100</td>\n",
       "      <td>79.920303</td>\n",
       "      <td>103.341003</td>\n",
       "      <td>3527.360107</td>\n",
       "      <td>6186.930176</td>\n",
       "      <td>74.823898</td>\n",
       "      <td>5829.339844</td>\n",
       "      <td>119.750000</td>\n",
       "      <td>2343.639893</td>\n",
       "    </tr>\n",
       "  </tbody>\n",
       "</table>\n",
       "<p>5 rows × 199324 columns</p>\n",
       "</div>"
      ],
      "text/plain": [
       "                  1    2        3    4    5    6    7    8         9   10  \\\n",
       "0                                                                           \n",
       "ERR188408  0.234074  0.0  3.67617  0.0  0.0  0.0  0.0  0.0  0.424268  0.0   \n",
       "ERR188348  0.000000  0.0  1.98881  0.0  0.0  0.0  0.0  0.0  0.137385  0.0   \n",
       "ERR188021  0.221792  0.0  5.42060  0.0  0.0  0.0  0.0  0.0  1.080040  0.0   \n",
       "ERR188289  0.000000  0.0  8.29350  0.0  0.0  0.0  0.0  0.0  0.404072  0.0   \n",
       "ERR188262  0.016667  0.0  2.00487  0.0  0.0  0.0  0.0  0.0  0.680980  0.0   \n",
       "\n",
       "              ...             199315     199316     199317      199318  \\\n",
       "0             ...                                                        \n",
       "ERR188408     ...        8344.730469  47.279900  67.131699  309.765015   \n",
       "ERR188348     ...        7749.709961  18.325001  33.006401   23.371000   \n",
       "ERR188021     ...        8584.839844  35.289902  36.760399   92.426003   \n",
       "ERR188289     ...        7107.479980  27.253099  62.682098   87.815498   \n",
       "ERR188262     ...       10734.000000  28.609100  79.920303  103.341003   \n",
       "\n",
       "                199319       199320      199321       199322      199323  \\\n",
       "0                                                                          \n",
       "ERR188408  3487.449951  8528.700195  205.423004  5413.819824  423.902008   \n",
       "ERR188348  2073.770020  5866.830078  148.636002  4562.600098  360.488007   \n",
       "ERR188021  3532.689941  5837.020020  299.964996  3237.989990   85.903198   \n",
       "ERR188289  2366.439941  6055.959961  121.125000  2903.419922  459.035004   \n",
       "ERR188262  3527.360107  6186.930176   74.823898  5829.339844  119.750000   \n",
       "\n",
       "                199324  \n",
       "0                       \n",
       "ERR188408  3361.919922  \n",
       "ERR188348  1861.000000  \n",
       "ERR188021  2026.969971  \n",
       "ERR188289  1813.839966  \n",
       "ERR188262  2343.639893  \n",
       "\n",
       "[5 rows x 199324 columns]"
      ]
     },
     "execution_count": 9,
     "metadata": {},
     "output_type": "execute_result"
    }
   ],
   "source": [
    "X.head()"
   ]
  },
  {
   "cell_type": "code",
   "execution_count": 35,
   "metadata": {},
   "outputs": [
    {
     "data": {
      "text/html": [
       "<div>\n",
       "<style>\n",
       "    .dataframe thead tr:only-child th {\n",
       "        text-align: right;\n",
       "    }\n",
       "\n",
       "    .dataframe thead th {\n",
       "        text-align: left;\n",
       "    }\n",
       "\n",
       "    .dataframe tbody tr th {\n",
       "        vertical-align: top;\n",
       "    }\n",
       "</style>\n",
       "<table border=\"1\" class=\"dataframe\">\n",
       "  <thead>\n",
       "    <tr style=\"text-align: right;\">\n",
       "      <th></th>\n",
       "      <th>199325</th>\n",
       "      <th>199326</th>\n",
       "    </tr>\n",
       "    <tr>\n",
       "      <th>0</th>\n",
       "      <th></th>\n",
       "      <th></th>\n",
       "    </tr>\n",
       "  </thead>\n",
       "  <tbody>\n",
       "    <tr>\n",
       "      <th>ERR188023</th>\n",
       "      <td>FIN</td>\n",
       "      <td>2</td>\n",
       "    </tr>\n",
       "    <tr>\n",
       "      <th>ERR188022</th>\n",
       "      <td>CEU</td>\n",
       "      <td>1</td>\n",
       "    </tr>\n",
       "    <tr>\n",
       "      <th>ERR188356</th>\n",
       "      <td>TSI</td>\n",
       "      <td>1</td>\n",
       "    </tr>\n",
       "    <tr>\n",
       "      <th>ERR188079</th>\n",
       "      <td>TSI</td>\n",
       "      <td>4</td>\n",
       "    </tr>\n",
       "    <tr>\n",
       "      <th>ERR188032</th>\n",
       "      <td>CEU</td>\n",
       "      <td>7</td>\n",
       "    </tr>\n",
       "  </tbody>\n",
       "</table>\n",
       "</div>"
      ],
      "text/plain": [
       "          199325 199326\n",
       "0                      \n",
       "ERR188023    FIN      2\n",
       "ERR188022    CEU      1\n",
       "ERR188356    TSI      1\n",
       "ERR188079    TSI      4\n",
       "ERR188032    CEU      7"
      ]
     },
     "execution_count": 35,
     "metadata": {},
     "output_type": "execute_result"
    }
   ],
   "source": [
    "y.head()"
   ]
  },
  {
   "cell_type": "markdown",
   "metadata": {},
   "source": [
    "***\n",
    "## Trying ExtraTreesClassifier on TPM for finding Feature importance"
   ]
  },
  {
   "cell_type": "code",
   "execution_count": 36,
   "metadata": {},
   "outputs": [
    {
     "name": "stderr",
     "output_type": "stream",
     "text": [
      "[Parallel(n_jobs=-1)]: Done  34 tasks      | elapsed:    0.3s\n",
      "[Parallel(n_jobs=-1)]: Done 184 tasks      | elapsed:    1.1s\n",
      "[Parallel(n_jobs=-1)]: Done 250 out of 250 | elapsed:    1.5s finished\n"
     ]
    },
    {
     "name": "stdout",
     "output_type": "stream",
     "text": [
      "Feature ranking:\n",
      "1. feature 146538 (0.001027)\n",
      "2. feature 26680 (0.000885)\n",
      "3. feature 146526 (0.000839)\n",
      "4. feature 27152 (0.000744)\n",
      "5. feature 2601 (0.000743)\n",
      "6. feature 188191 (0.000739)\n",
      "7. feature 164230 (0.000730)\n",
      "8. feature 105409 (0.000677)\n",
      "9. feature 86816 (0.000675)\n",
      "10. feature 168691 (0.000645)\n",
      "11. feature 94604 (0.000636)\n",
      "12. feature 157375 (0.000631)\n",
      "13. feature 35348 (0.000617)\n",
      "14. feature 175821 (0.000613)\n",
      "15. feature 64611 (0.000608)\n"
     ]
    }
   ],
   "source": [
    "# Build a forest and compute the feature importances\n",
    "forest = ExtraTreesClassifier(n_estimators=250, n_jobs=-1, bootstrap=True, oob_score=True, verbose=1,\n",
    "                              random_state=0)\n",
    "\n",
    "# using out-of-bag samples for testing generalization accuracy\n",
    "\n",
    "forest.fit(X, y)\n",
    "importances = forest.feature_importances_\n",
    "std = np.std([tree.feature_importances_ for tree in forest.estimators_],\n",
    "             axis=0)\n",
    "indices = np.argsort(importances)[::-1]\n",
    "\n",
    "# Print the feature ranking\n",
    "print(\"Feature ranking:\")\n",
    "\n",
    "for f in range(X.shape[1])[:15]:\n",
    "    print(\"%d. feature %d (%f)\" % (f + 1, indices[f], importances[indices[f]]))"
   ]
  },
  {
   "cell_type": "code",
   "execution_count": 26,
   "metadata": {},
   "outputs": [
    {
     "data": {
      "image/png": "[encoded data removed]",
      "text/plain": [
       "<matplotlib.figure.Figure at 0x7fb91fe10290>"
      ]
     },
     "metadata": {},
     "output_type": "display_data"
    }
   ],
   "source": [
    "# Plot the feature importances of the forest\n",
    "count = 20\n",
    "plt.figure(figsize=(16, 8))\n",
    "# plt.bar(range(X_train.shape[1]), importances[indices],\n",
    "#        color=\"r\", yerr=std[indices], align=\"center\")\n",
    "plt.bar(range(count), importances[indices[:count]],\n",
    "       color=\"r\", align=\"center\")\n",
    "\n",
    "# plt.xticks(range(X_train.shape[1]), indices)\n",
    "plt.xticks(range(count), indices[:count])\n",
    "plt.xlim([-1, count])\n",
    "plt.xlabel(\"Transcript Index\", fontsize=16)\n",
    "plt.ylabel(\"Feature Importance\", fontsize=16)\n",
    "# plt.xlim([-1, X_train.shape[1]])\n",
    "plt.show()"
   ]
  },
  {
   "cell_type": "markdown",
   "metadata": {},
   "source": [
    "### Dumping the variables to pickle\n",
    "To save processing time for future runs"
   ]
  },
  {
   "cell_type": "code",
   "execution_count": 37,
   "metadata": {},
   "outputs": [],
   "source": [
    "if not os.path.exists(\"indices.pkl\"):\n",
    "    with open(\"indices.pkl\", 'wb') as out:\n",
    "        pkl.dump(indices, out)"
   ]
  },
  {
   "cell_type": "code",
   "execution_count": 38,
   "metadata": {},
   "outputs": [],
   "source": [
    "if not os.path.exists(\"X.pkl\"):\n",
    "    with open(\"X.pkl\", 'wb') as out:\n",
    "        pkl.dump(X, out)"
   ]
  },
  {
   "cell_type": "code",
   "execution_count": 39,
   "metadata": {},
   "outputs": [],
   "source": [
    "if not os.path.exists(\"y.pkl\"):\n",
    "    with open(\"y.pkl\", 'wb') as out:\n",
    "        pkl.dump(y, out)"
   ]
  },
  {
   "cell_type": "code",
   "execution_count": 40,
   "metadata": {},
   "outputs": [],
   "source": [
    "X = X.iloc[:, indices[:10000]]"
   ]
  },
  {
   "cell_type": "code",
   "execution_count": 41,
   "metadata": {},
   "outputs": [],
   "source": [
    "if not os.path.exists(\"X_train_reduced.pkl\"):\n",
    "    with open(\"X_train_reduced.pkl\", 'wb') as out:\n",
    "        pkl.dump(X, out)"
   ]
  },
  {
   "cell_type": "markdown",
   "metadata": {},
   "source": [
    "***\n",
    "## Implementing PCA on the selected important features"
   ]
  },
  {
   "cell_type": "code",
   "execution_count": 34,
   "metadata": {
    "collapsed": true
   },
   "outputs": [],
   "source": [
    "pca = PCA(n_components=512)\n",
    "X_new = pca.fit_transform(X)"
   ]
  },
  {
   "cell_type": "code",
   "execution_count": 35,
   "metadata": {},
   "outputs": [
    {
     "data": {
      "text/plain": [
       "(369, 369)"
      ]
     },
     "execution_count": 35,
     "metadata": {},
     "output_type": "execute_result"
    }
   ],
   "source": [
    "X_new.shape"
   ]
  },
  {
   "cell_type": "markdown",
   "metadata": {},
   "source": [
    "Interesting observation, after trying PCA we get a worse answer. This is because the fact that we have very less data to train on.<br>\n",
    "***"
   ]
  },
  {
   "cell_type": "markdown",
   "metadata": {},
   "source": [
    "## Cross Validation on RandomForestClassifier\n",
    "<br>\n",
    "<b>Parameters for the Forest :</b>\n",
    "- Number of trees = 200\n",
    "- Max depth of a tree - 60\n",
    "\n",
    "<b>Parameters Cross validation :</b>\n",
    "- number of folds = 5"
   ]
  },
  {
   "cell_type": "code",
   "execution_count": 114,
   "metadata": {
    "scrolled": false
   },
   "outputs": [],
   "source": [
    "def avg_f1_score(y_test,y_pred):\n",
    "    pop_score = f1_score(y_test[199325], y_pred[:,0], average='macro',)\n",
    "    center_score = f1_score(y_test[199326], y_pred[:,1], average='macro')\n",
    "    return (pop_score+center_score)/2.0\n",
    "score = make_scorer(avg_f1_score, greater_is_better=True)"
   ]
  },
  {
   "cell_type": "code",
   "execution_count": 121,
   "metadata": {},
   "outputs": [
    {
     "name": "stderr",
     "output_type": "stream",
     "text": [
      "/usr/local/lib/python2.7/dist-packages/ipykernel_launcher.py:4: SettingWithCopyWarning: \n",
      "A value is trying to be set on a copy of a slice from a DataFrame.\n",
      "Try using .loc[row_indexer,col_indexer] = value instead\n",
      "\n",
      "See the caveats in the documentation: http://pandas.pydata.org/pandas-docs/stable/indexing.html#indexing-view-versus-copy\n",
      "  after removing the cwd from sys.path.\n",
      "/usr/local/lib/python2.7/dist-packages/ipykernel_launcher.py:5: SettingWithCopyWarning: \n",
      "A value is trying to be set on a copy of a slice from a DataFrame.\n",
      "Try using .loc[row_indexer,col_indexer] = value instead\n",
      "\n",
      "See the caveats in the documentation: http://pandas.pydata.org/pandas-docs/stable/indexing.html#indexing-view-versus-copy\n",
      "  \"\"\"\n"
     ]
    }
   ],
   "source": [
    "le = LabelEncoder()\n",
    "le.fit(y[199325])\n",
    "y_enc = y \n",
    "y_enc[199325] = le.transform(y[199325])\n",
    "y_enc[199326] = y_enc[199326].astype('int') "
   ]
  },
  {
   "cell_type": "markdown",
   "metadata": {},
   "source": [
    "# Random Forest New"
   ]
  },
  {
   "cell_type": "code",
   "execution_count": 155,
   "metadata": {},
   "outputs": [
    {
     "name": "stdout",
     "output_type": "stream",
     "text": [
      "Fitting 4 folds for each of 180 candidates, totalling 720 fits\n"
     ]
    },
    {
     "name": "stderr",
     "output_type": "stream",
     "text": [
      "[Parallel(n_jobs=-1)]: Done  34 tasks      | elapsed:    7.2s\n",
      "[Parallel(n_jobs=-1)]: Done 184 tasks      | elapsed:  1.2min\n",
      "[Parallel(n_jobs=-1)]: Done 434 tasks      | elapsed:  3.6min\n",
      "/usr/local/lib/python2.7/dist-packages/sklearn/metrics/classification.py:1135: UndefinedMetricWarning: F-score is ill-defined and being set to 0.0 in labels with no predicted samples.\n",
      "  'precision', 'predicted', average, warn_for)\n",
      "/usr/local/lib/python2.7/dist-packages/sklearn/metrics/classification.py:1135: UndefinedMetricWarning: F-score is ill-defined and being set to 0.0 in labels with no predicted samples.\n",
      "  'precision', 'predicted', average, warn_for)\n",
      "/usr/local/lib/python2.7/dist-packages/sklearn/metrics/classification.py:1135: UndefinedMetricWarning: F-score is ill-defined and being set to 0.0 in labels with no predicted samples.\n",
      "  'precision', 'predicted', average, warn_for)\n",
      "[Parallel(n_jobs=-1)]: Done 720 out of 720 | elapsed:  6.6min finished\n"
     ]
    },
    {
     "name": "stdout",
     "output_type": "stream",
     "text": [
      "RandomForestClassifier(bootstrap=True, class_weight='balanced',\n",
      "            criterion='gini', max_depth=15, max_features='auto',\n",
      "            max_leaf_nodes=None, min_impurity_decrease=0.0,\n",
      "            min_impurity_split=None, min_samples_leaf=1,\n",
      "            min_samples_split=2, min_weight_fraction_leaf=0.0,\n",
      "            n_estimators=200, n_jobs=-1, oob_score=False, random_state=0,\n",
      "            verbose=0, warm_start=False)\n"
     ]
    }
   ],
   "source": [
    "# random.seed(18)\n",
    "rf = RandomForestClassifier(random_state=0, n_jobs=-1)\n",
    "rf_params = {\n",
    "    'n_estimators':[10,30,50,100,200,250],\n",
    "    'criterion': ('gini','entropy'),\n",
    "    'max_depth': [15,20,30,40,60],\n",
    "    'class_weight' : (None,'balanced','balanced_subsample')\n",
    "}\n",
    "gcv_rf = GridSearchCV(cv=4,estimator=rf,param_grid=rf_params,n_jobs=-1,scoring=score,verbose=1)\n",
    "gcv_rf.fit(X,y_enc)\n",
    "# scores = cross_val_score(clf, X, y, cv=5, scoring=score)\n",
    "\n",
    "print gcv_rf.best_estimator_"
   ]
  },
  {
   "cell_type": "markdown",
   "metadata": {},
   "source": [
    "### Best RFC\n",
    "RandomForestClassifier(bootstrap=True, class_weight='balanced',\n",
    "            criterion='gini', max_depth=15, max_features='auto',\n",
    "            max_leaf_nodes=None, min_impurity_decrease=0.0,\n",
    "            min_impurity_split=None, min_samples_leaf=1,\n",
    "            min_samples_split=2, min_weight_fraction_leaf=0.0,\n",
    "            n_estimators=200, n_jobs=-1, oob_score=False, random_state=0,\n",
    "            verbose=0, warm_start=False)\n",
    "            \n",
    "cv=4 <br>\n",
    "0.811905104099 0.0176607853188"
   ]
  },
  {
   "cell_type": "code",
   "execution_count": 158,
   "metadata": {},
   "outputs": [
    {
     "name": "stdout",
     "output_type": "stream",
     "text": [
      "0.811829641971\n"
     ]
    }
   ],
   "source": [
    "print gcv_rf.best_score_"
   ]
  },
  {
   "cell_type": "code",
   "execution_count": 157,
   "metadata": {},
   "outputs": [
    {
     "name": "stderr",
     "output_type": "stream",
     "text": [
      "[Parallel(n_jobs=-1)]: Done   4 out of   4 | elapsed:    2.2s remaining:    0.0s\n",
      "[Parallel(n_jobs=-1)]: Done   4 out of   4 | elapsed:    2.2s finished\n"
     ]
    },
    {
     "name": "stdout",
     "output_type": "stream",
     "text": [
      "0.811905104099 0.0176607853188\n"
     ]
    }
   ],
   "source": [
    "scores = cross_val_score(gcv_rf.best_estimator_,X,y_enc, cv=4,n_jobs=-1,scoring=score,verbose=1)\n",
    "\n",
    "print scores.mean(),scores.std()"
   ]
  },
  {
   "cell_type": "markdown",
   "metadata": {},
   "source": [
    "# Extra Trees Classifier"
   ]
  },
  {
   "cell_type": "code",
   "execution_count": 159,
   "metadata": {},
   "outputs": [
    {
     "name": "stdout",
     "output_type": "stream",
     "text": [
      "Fitting 4 folds for each of 180 candidates, totalling 720 fits\n"
     ]
    },
    {
     "name": "stderr",
     "output_type": "stream",
     "text": [
      "[Parallel(n_jobs=-1)]: Done  34 tasks      | elapsed:    5.4s\n",
      "/usr/local/lib/python2.7/dist-packages/sklearn/metrics/classification.py:1135: UndefinedMetricWarning: F-score is ill-defined and being set to 0.0 in labels with no predicted samples.\n",
      "  'precision', 'predicted', average, warn_for)\n",
      "/usr/local/lib/python2.7/dist-packages/sklearn/metrics/classification.py:1135: UndefinedMetricWarning: F-score is ill-defined and being set to 0.0 in labels with no predicted samples.\n",
      "  'precision', 'predicted', average, warn_for)\n",
      "/usr/local/lib/python2.7/dist-packages/sklearn/metrics/classification.py:1135: UndefinedMetricWarning: F-score is ill-defined and being set to 0.0 in labels with no predicted samples.\n",
      "  'precision', 'predicted', average, warn_for)\n",
      "[Parallel(n_jobs=-1)]: Done 184 tasks      | elapsed:   36.0s\n",
      "/usr/local/lib/python2.7/dist-packages/sklearn/metrics/classification.py:1135: UndefinedMetricWarning: F-score is ill-defined and being set to 0.0 in labels with no predicted samples.\n",
      "  'precision', 'predicted', average, warn_for)\n",
      "/usr/local/lib/python2.7/dist-packages/sklearn/metrics/classification.py:1135: UndefinedMetricWarning: F-score is ill-defined and being set to 0.0 in labels with no predicted samples.\n",
      "  'precision', 'predicted', average, warn_for)\n",
      "/usr/local/lib/python2.7/dist-packages/sklearn/metrics/classification.py:1135: UndefinedMetricWarning: F-score is ill-defined and being set to 0.0 in labels with no predicted samples.\n",
      "  'precision', 'predicted', average, warn_for)\n",
      "/usr/local/lib/python2.7/dist-packages/sklearn/metrics/classification.py:1135: UndefinedMetricWarning: F-score is ill-defined and being set to 0.0 in labels with no predicted samples.\n",
      "  'precision', 'predicted', average, warn_for)\n",
      "[Parallel(n_jobs=-1)]: Done 434 tasks      | elapsed:  1.5min\n",
      "[Parallel(n_jobs=-1)]: Done 720 out of 720 | elapsed:  2.7min finished\n"
     ]
    },
    {
     "name": "stdout",
     "output_type": "stream",
     "text": [
      "ExtraTreesClassifier(bootstrap=False, class_weight='balanced',\n",
      "           criterion='gini', max_depth=60, max_features='auto',\n",
      "           max_leaf_nodes=None, min_impurity_decrease=0.0,\n",
      "           min_impurity_split=None, min_samples_leaf=1,\n",
      "           min_samples_split=2, min_weight_fraction_leaf=0.0,\n",
      "           n_estimators=250, n_jobs=-1, oob_score=False, random_state=None,\n",
      "           verbose=0, warm_start=False)\n"
     ]
    }
   ],
   "source": [
    "etc = ExtraTreesClassifier(n_jobs=-1)\n",
    "etc_params = {\n",
    "    'n_estimators':[10,30,50,100,200,250],\n",
    "    'criterion': ('gini','entropy'),\n",
    "    'max_depth': [15,20,30,40,60],\n",
    "    'class_weight' : (None,'balanced','balanced_subsample'),\n",
    "    \n",
    "}\n",
    "gcv_etc = GridSearchCV(cv=4,estimator=etc,param_grid=rf_params,n_jobs=-1,scoring=score,verbose=1)\n",
    "gcv_etc.fit(X,y_enc)\n",
    "# scores = cross_val_score(clf, X, y, cv=5, scoring=score)\n",
    "\n",
    "print gcv_etc.best_estimator_"
   ]
  },
  {
   "cell_type": "code",
   "execution_count": 160,
   "metadata": {},
   "outputs": [
    {
     "name": "stdout",
     "output_type": "stream",
     "text": [
      "0.775486198935\n"
     ]
    },
    {
     "name": "stderr",
     "output_type": "stream",
     "text": [
      "[Parallel(n_jobs=-1)]: Done   4 out of   4 | elapsed:    2.1s remaining:    0.0s\n",
      "[Parallel(n_jobs=-1)]: Done   4 out of   4 | elapsed:    2.1s finished\n"
     ]
    },
    {
     "name": "stdout",
     "output_type": "stream",
     "text": [
      "0.777778749865 0.0137470677549\n"
     ]
    }
   ],
   "source": [
    "print gcv_etc.best_score_\n",
    "scores = cross_val_score(gcv_etc.best_estimator_,X,y_enc, cv=4,n_jobs=-1,scoring=score,verbose=1)\n",
    "\n",
    "print scores.mean(),scores.std()"
   ]
  },
  {
   "cell_type": "markdown",
   "metadata": {},
   "source": [
    "## KNN Classifiers"
   ]
  },
  {
   "cell_type": "code",
   "execution_count": 166,
   "metadata": {},
   "outputs": [
    {
     "name": "stdout",
     "output_type": "stream",
     "text": [
      "Fitting 4 folds for each of 80 candidates, totalling 320 fits\n"
     ]
    },
    {
     "name": "stderr",
     "output_type": "stream",
     "text": [
      "[Parallel(n_jobs=-1)]: Done  34 tasks      | elapsed:   23.0s\n",
      "/usr/local/lib/python2.7/dist-packages/sklearn/metrics/classification.py:1135: UndefinedMetricWarning: F-score is ill-defined and being set to 0.0 in labels with no predicted samples.\n",
      "  'precision', 'predicted', average, warn_for)\n",
      "/usr/local/lib/python2.7/dist-packages/sklearn/metrics/classification.py:1135: UndefinedMetricWarning: F-score is ill-defined and being set to 0.0 in labels with no predicted samples.\n",
      "  'precision', 'predicted', average, warn_for)\n",
      "/usr/local/lib/python2.7/dist-packages/sklearn/metrics/classification.py:1135: UndefinedMetricWarning: F-score is ill-defined and being set to 0.0 in labels with no predicted samples.\n",
      "  'precision', 'predicted', average, warn_for)\n",
      "/usr/local/lib/python2.7/dist-packages/sklearn/metrics/classification.py:1135: UndefinedMetricWarning: F-score is ill-defined and being set to 0.0 in labels with no predicted samples.\n",
      "  'precision', 'predicted', average, warn_for)\n",
      "/usr/local/lib/python2.7/dist-packages/sklearn/metrics/classification.py:1135: UndefinedMetricWarning: F-score is ill-defined and being set to 0.0 in labels with no predicted samples.\n",
      "  'precision', 'predicted', average, warn_for)\n",
      "/usr/local/lib/python2.7/dist-packages/sklearn/metrics/classification.py:1135: UndefinedMetricWarning: F-score is ill-defined and being set to 0.0 in labels with no predicted samples.\n",
      "  'precision', 'predicted', average, warn_for)\n",
      "/usr/local/lib/python2.7/dist-packages/sklearn/metrics/classification.py:1135: UndefinedMetricWarning: F-score is ill-defined and being set to 0.0 in labels with no predicted samples.\n",
      "  'precision', 'predicted', average, warn_for)\n",
      "/usr/local/lib/python2.7/dist-packages/sklearn/metrics/classification.py:1135: UndefinedMetricWarning: F-score is ill-defined and being set to 0.0 in labels with no predicted samples.\n",
      "  'precision', 'predicted', average, warn_for)\n",
      "[Parallel(n_jobs=-1)]: Done 184 tasks      | elapsed:  2.1min\n",
      "/usr/local/lib/python2.7/dist-packages/sklearn/externals/joblib/parallel.py:547: UserWarning: Multiprocessing-backed parallel loops cannot be nested, setting n_jobs=1\n",
      "  **self._backend_args)\n",
      "/usr/local/lib/python2.7/dist-packages/sklearn/externals/joblib/parallel.py:547: UserWarning: Multiprocessing-backed parallel loops cannot be nested, setting n_jobs=1\n",
      "  **self._backend_args)\n",
      "/usr/local/lib/python2.7/dist-packages/sklearn/externals/joblib/parallel.py:547: UserWarning: Multiprocessing-backed parallel loops cannot be nested, setting n_jobs=1\n",
      "  **self._backend_args)\n",
      "/usr/local/lib/python2.7/dist-packages/sklearn/externals/joblib/parallel.py:547: UserWarning: Multiprocessing-backed parallel loops cannot be nested, setting n_jobs=1\n",
      "  **self._backend_args)\n",
      "/usr/local/lib/python2.7/dist-packages/sklearn/externals/joblib/parallel.py:547: UserWarning: Multiprocessing-backed parallel loops cannot be nested, setting n_jobs=1\n",
      "  **self._backend_args)\n",
      "/usr/local/lib/python2.7/dist-packages/sklearn/externals/joblib/parallel.py:547: UserWarning: Multiprocessing-backed parallel loops cannot be nested, setting n_jobs=1\n",
      "  **self._backend_args)\n",
      "/usr/local/lib/python2.7/dist-packages/sklearn/externals/joblib/parallel.py:547: UserWarning: Multiprocessing-backed parallel loops cannot be nested, setting n_jobs=1\n",
      "  **self._backend_args)\n",
      "/usr/local/lib/python2.7/dist-packages/sklearn/externals/joblib/parallel.py:547: UserWarning: Multiprocessing-backed parallel loops cannot be nested, setting n_jobs=1\n",
      "  **self._backend_args)\n",
      "[Parallel(n_jobs=-1)]: Done 320 out of 320 | elapsed:  3.4min finished\n"
     ]
    },
    {
     "name": "stdout",
     "output_type": "stream",
     "text": [
      "KNeighborsClassifier(algorithm='auto', leaf_size=30, metric='minkowski',\n",
      "           metric_params=None, n_jobs=-1, n_neighbors=5, p=1,\n",
      "           weights='distance')\n"
     ]
    }
   ],
   "source": [
    "knn = KNN(n_jobs=-1)\n",
    "knn_params = {\n",
    "    'n_neighbors': [5,10,25,50,100],\n",
    "    'weights': ['uniform','distance'],\n",
    "    'algorithm': ('auto', 'ball_tree', 'kd_tree', 'brute'),\n",
    "    'p':[1,2]\n",
    "}\n",
    "gcv_knn = GridSearchCV(cv=4,estimator=knn,param_grid=knn_params,n_jobs=-1,scoring=score,verbose=1)\n",
    "gcv_knn.fit(X,y_enc)\n",
    "# scores = cross_val_score(clf, X, y, cv=5, scoring=score)\n",
    "\n",
    "print gcv_knn.best_estimator_"
   ]
  },
  {
   "cell_type": "code",
   "execution_count": 167,
   "metadata": {},
   "outputs": [
    {
     "name": "stdout",
     "output_type": "stream",
     "text": [
      "0.669801705702\n"
     ]
    },
    {
     "name": "stderr",
     "output_type": "stream",
     "text": [
      "[Parallel(n_jobs=-1)]: Done   4 out of   4 | elapsed:    1.0s remaining:    0.0s\n",
      "[Parallel(n_jobs=-1)]: Done   4 out of   4 | elapsed:    1.0s finished\n"
     ]
    },
    {
     "name": "stdout",
     "output_type": "stream",
     "text": [
      "0.66977957859 0.0151012433588\n"
     ]
    }
   ],
   "source": [
    "print gcv_knn.best_score_\n",
    "scores = cross_val_score(gcv_knn.best_estimator_,X,y_enc, cv=4,n_jobs=-1,scoring=score,verbose=1)\n",
    "\n",
    "print scores.mean(),scores.std()"
   ]
  },
  {
   "cell_type": "code",
   "execution_count": 112,
   "metadata": {},
   "outputs": [
    {
     "name": "stdout",
     "output_type": "stream",
     "text": [
      "KFold(n_splits=5, random_state=None, shuffle=False)\n",
      "1) f1_score :  0.795271667071\n",
      "2) f1_score :  0.851374047154\n",
      "3) f1_score :  0.797495437569\n",
      "4) f1_score :  0.774835746723\n",
      "5) f1_score :  0.836501830552\n"
     ]
    }
   ],
   "source": [
    "kf = KFold(n_splits=5)\n",
    "kf.get_n_splits(X)\n",
    "\n",
    "print(kf)  \n",
    "\n",
    "scaler = StandardScaler()\n",
    "\n",
    "scores = []\n",
    "count =1\n",
    "for train_index, test_index in kf.split(X):\n",
    "#     print(\"TRAIN:\", train_index, \"TEST:\", test_index)\n",
    "    X_train, X_test = X.iloc[train_index], X.iloc[test_index]\n",
    "    y_train, y_test = y_enc.iloc[train_index], y_enc.iloc[test_index]\n",
    "\n",
    "    X_train = scaler.fit_transform(X_train)\n",
    "\n",
    "    clf = RandomForestClassifier(n_estimators=150, max_depth=10, random_state=0, n_jobs=-1,class_weight=\"balanced_subsample\")\n",
    "    clf.fit(X_train,y_train)\n",
    "    \n",
    "    X_test = scaler.transform(X_test)\n",
    "    y_pred = clf.predict(X_test)\n",
    "#     print y_pred[:,1]\n",
    "    pop_score = f1_score(y_test[199325], y_pred[:,0], average='macro')\n",
    "    center_score = f1_score(y_test[199326], y_pred[:,1], average='macro')\n",
    "    scores.append((pop_score+center_score)/2.0)\n",
    "    print str(count) +\") f1_score : \", scores[-1]\n",
    "    count+=1"
   ]
  },
  {
   "cell_type": "code",
   "execution_count": 113,
   "metadata": {
    "scrolled": false
   },
   "outputs": [
    {
     "name": "stdout",
     "output_type": "stream",
     "text": [
      "The average f-1 score is  0.811095745814\n"
     ]
    }
   ],
   "source": [
    "print \"The average f-1 score is \",sum(scores)/len(scores)"
   ]
  },
  {
   "cell_type": "markdown",
   "metadata": {},
   "source": [
    "## MLPClassifier"
   ]
  },
  {
   "cell_type": "code",
   "execution_count": 37,
   "metadata": {
    "collapsed": true
   },
   "outputs": [],
   "source": [
    "with open(\"indices.pkl\", 'rb') as in_file:\n",
    "    indices = pkl.load(in_file)"
   ]
  },
  {
   "cell_type": "code",
   "execution_count": 39,
   "metadata": {
    "collapsed": true
   },
   "outputs": [],
   "source": [
    "with open(\"X_train_reduced.pkl\", 'rb') as in_file:\n",
    "    X = pkl.load(in_file)"
   ]
  },
  {
   "cell_type": "code",
   "execution_count": 40,
   "metadata": {
    "collapsed": true
   },
   "outputs": [],
   "source": [
    "with open(\"y.pkl\", 'rb') as in_file:\n",
    "    y = pkl.load(in_file)"
   ]
  },
  {
   "cell_type": "code",
   "execution_count": 51,
   "metadata": {},
   "outputs": [
    {
     "data": {
      "text/plain": [
       "(369, 10000)"
      ]
     },
     "execution_count": 51,
     "metadata": {},
     "output_type": "execute_result"
    }
   ],
   "source": [
    "X.shape"
   ]
  },
  {
   "cell_type": "code",
   "execution_count": 52,
   "metadata": {},
   "outputs": [
    {
     "name": "stdout",
     "output_type": "stream",
     "text": [
      "KFold(n_splits=5, random_state=None, shuffle=False)\n"
     ]
    },
    {
     "ename": "ValueError",
     "evalue": "Multioutput target data is not supported with label binarization",
     "output_type": "error",
     "traceback": [
      "\u001b[0;31m---------------------------------------------------------------------------\u001b[0m",
      "\u001b[0;31mValueError\u001b[0m                                Traceback (most recent call last)",
      "\u001b[0;32m<ipython-input-52-c4b8fc996b7b>\u001b[0m in \u001b[0;36m<module>\u001b[0;34m()\u001b[0m\n\u001b[1;32m     21\u001b[0m                    )\n\u001b[1;32m     22\u001b[0m \u001b[0;34m\u001b[0m\u001b[0m\n\u001b[0;32m---> 23\u001b[0;31m     \u001b[0mclf\u001b[0m\u001b[0;34m.\u001b[0m\u001b[0mfit\u001b[0m\u001b[0;34m(\u001b[0m\u001b[0mX_train\u001b[0m\u001b[0;34m,\u001b[0m \u001b[0my_train\u001b[0m\u001b[0;34m)\u001b[0m\u001b[0;34m\u001b[0m\u001b[0m\n\u001b[0m\u001b[1;32m     24\u001b[0m \u001b[0;34m\u001b[0m\u001b[0m\n\u001b[1;32m     25\u001b[0m     \u001b[0mX_test\u001b[0m \u001b[0;34m=\u001b[0m \u001b[0mscaler\u001b[0m\u001b[0;34m.\u001b[0m\u001b[0mtransform\u001b[0m\u001b[0;34m(\u001b[0m\u001b[0mX_test\u001b[0m\u001b[0;34m)\u001b[0m\u001b[0;34m\u001b[0m\u001b[0m\n",
      "\u001b[0;32m/usr/local/lib/python2.7/dist-packages/sklearn/neural_network/multilayer_perceptron.pyc\u001b[0m in \u001b[0;36mfit\u001b[0;34m(self, X, y)\u001b[0m\n\u001b[1;32m    971\u001b[0m         \"\"\"\n\u001b[1;32m    972\u001b[0m         return self._fit(X, y, incremental=(self.warm_start and\n\u001b[0;32m--> 973\u001b[0;31m                                             hasattr(self, \"classes_\")))\n\u001b[0m\u001b[1;32m    974\u001b[0m \u001b[0;34m\u001b[0m\u001b[0m\n\u001b[1;32m    975\u001b[0m     \u001b[0;34m@\u001b[0m\u001b[0mproperty\u001b[0m\u001b[0;34m\u001b[0m\u001b[0m\n",
      "\u001b[0;32m/usr/local/lib/python2.7/dist-packages/sklearn/neural_network/multilayer_perceptron.pyc\u001b[0m in \u001b[0;36m_fit\u001b[0;34m(self, X, y, incremental)\u001b[0m\n\u001b[1;32m    329\u001b[0m                              hidden_layer_sizes)\n\u001b[1;32m    330\u001b[0m \u001b[0;34m\u001b[0m\u001b[0m\n\u001b[0;32m--> 331\u001b[0;31m         \u001b[0mX\u001b[0m\u001b[0;34m,\u001b[0m \u001b[0my\u001b[0m \u001b[0;34m=\u001b[0m \u001b[0mself\u001b[0m\u001b[0;34m.\u001b[0m\u001b[0m_validate_input\u001b[0m\u001b[0;34m(\u001b[0m\u001b[0mX\u001b[0m\u001b[0;34m,\u001b[0m \u001b[0my\u001b[0m\u001b[0;34m,\u001b[0m \u001b[0mincremental\u001b[0m\u001b[0;34m)\u001b[0m\u001b[0;34m\u001b[0m\u001b[0m\n\u001b[0m\u001b[1;32m    332\u001b[0m         \u001b[0mn_samples\u001b[0m\u001b[0;34m,\u001b[0m \u001b[0mn_features\u001b[0m \u001b[0;34m=\u001b[0m \u001b[0mX\u001b[0m\u001b[0;34m.\u001b[0m\u001b[0mshape\u001b[0m\u001b[0;34m\u001b[0m\u001b[0m\n\u001b[1;32m    333\u001b[0m \u001b[0;34m\u001b[0m\u001b[0m\n",
      "\u001b[0;32m/usr/local/lib/python2.7/dist-packages/sklearn/neural_network/multilayer_perceptron.pyc\u001b[0m in \u001b[0;36m_validate_input\u001b[0;34m(self, X, y, incremental)\u001b[0m\n\u001b[1;32m    914\u001b[0m         \u001b[0;32mif\u001b[0m \u001b[0;32mnot\u001b[0m \u001b[0mincremental\u001b[0m\u001b[0;34m:\u001b[0m\u001b[0;34m\u001b[0m\u001b[0m\n\u001b[1;32m    915\u001b[0m             \u001b[0mself\u001b[0m\u001b[0;34m.\u001b[0m\u001b[0m_label_binarizer\u001b[0m \u001b[0;34m=\u001b[0m \u001b[0mLabelBinarizer\u001b[0m\u001b[0;34m(\u001b[0m\u001b[0;34m)\u001b[0m\u001b[0;34m\u001b[0m\u001b[0m\n\u001b[0;32m--> 916\u001b[0;31m             \u001b[0mself\u001b[0m\u001b[0;34m.\u001b[0m\u001b[0m_label_binarizer\u001b[0m\u001b[0;34m.\u001b[0m\u001b[0mfit\u001b[0m\u001b[0;34m(\u001b[0m\u001b[0my\u001b[0m\u001b[0;34m)\u001b[0m\u001b[0;34m\u001b[0m\u001b[0m\n\u001b[0m\u001b[1;32m    917\u001b[0m             \u001b[0mself\u001b[0m\u001b[0;34m.\u001b[0m\u001b[0mclasses_\u001b[0m \u001b[0;34m=\u001b[0m \u001b[0mself\u001b[0m\u001b[0;34m.\u001b[0m\u001b[0m_label_binarizer\u001b[0m\u001b[0;34m.\u001b[0m\u001b[0mclasses_\u001b[0m\u001b[0;34m\u001b[0m\u001b[0m\n\u001b[1;32m    918\u001b[0m         \u001b[0;32melif\u001b[0m \u001b[0mself\u001b[0m\u001b[0;34m.\u001b[0m\u001b[0mwarm_start\u001b[0m\u001b[0;34m:\u001b[0m\u001b[0;34m\u001b[0m\u001b[0m\n",
      "\u001b[0;32m/usr/local/lib/python2.7/dist-packages/sklearn/preprocessing/label.pyc\u001b[0m in \u001b[0;36mfit\u001b[0;34m(self, y)\u001b[0m\n\u001b[1;32m    276\u001b[0m         \u001b[0mself\u001b[0m\u001b[0;34m.\u001b[0m\u001b[0my_type_\u001b[0m \u001b[0;34m=\u001b[0m \u001b[0mtype_of_target\u001b[0m\u001b[0;34m(\u001b[0m\u001b[0my\u001b[0m\u001b[0;34m)\u001b[0m\u001b[0;34m\u001b[0m\u001b[0m\n\u001b[1;32m    277\u001b[0m         \u001b[0;32mif\u001b[0m \u001b[0;34m'multioutput'\u001b[0m \u001b[0;32min\u001b[0m \u001b[0mself\u001b[0m\u001b[0;34m.\u001b[0m\u001b[0my_type_\u001b[0m\u001b[0;34m:\u001b[0m\u001b[0;34m\u001b[0m\u001b[0m\n\u001b[0;32m--> 278\u001b[0;31m             raise ValueError(\"Multioutput target data is not supported with \"\n\u001b[0m\u001b[1;32m    279\u001b[0m                              \"label binarization\")\n\u001b[1;32m    280\u001b[0m         \u001b[0;32mif\u001b[0m \u001b[0m_num_samples\u001b[0m\u001b[0;34m(\u001b[0m\u001b[0my\u001b[0m\u001b[0;34m)\u001b[0m \u001b[0;34m==\u001b[0m \u001b[0;36m0\u001b[0m\u001b[0;34m:\u001b[0m\u001b[0;34m\u001b[0m\u001b[0m\n",
      "\u001b[0;31mValueError\u001b[0m: Multioutput target data is not supported with label binarization"
     ]
    }
   ],
   "source": [
    "## Performing 5 fold cross validation on MLP Classifier\n",
    "kf = KFold(n_splits=5)\n",
    "kf.get_n_splits(X)\n",
    "\n",
    "print(kf)  \n",
    "\n",
    "scaler = StandardScaler()\n",
    "\n",
    "scores = []\n",
    "count =1\n",
    "for train_index, test_index in kf.split(X):\n",
    "#     print(\"TRAIN:\", train_index, \"TEST:\", test_index)\n",
    "    X_train, X_test = X.iloc[train_index], X.iloc[test_index]\n",
    "    y_train, y_test = y.iloc[train_index], y.iloc[test_index]\n",
    "\n",
    "    X_train = scaler.fit_transform(X_train)\n",
    "\n",
    "    clf = MLPClassifier(hidden_layer_sizes=(256, 128), activation='logistic', #solver='lbfgs', #learning_rate='adaptive',\n",
    "                    verbose=False, tol=1e-5 ,max_iter=500, learning_rate_init=0.005\n",
    "#                     warm_start = True\n",
    "                   )\n",
    "    \n",
    "    clf.fit(X_train, y_train)\n",
    "    \n",
    "    X_test = scaler.transform(X_test)\n",
    "    y_pred = clf.predict(X_test)\n",
    "    scores.append(f1_score(y_test, y_pred, average='macro'))\n",
    "    print count,\") f1_score : \", scores[-1]\n",
    "    count+=1\n",
    "    \n",
    "    "
   ]
  },
  {
   "cell_type": "code",
   "execution_count": 47,
   "metadata": {},
   "outputs": [
    {
     "name": "stdout",
     "output_type": "stream",
     "text": [
      "The average f-1 score is  0.91048192588\n"
     ]
    }
   ],
   "source": [
    "print \"The average f-1 score is \",sum(scores)/len(scores)"
   ]
  },
  {
   "cell_type": "markdown",
   "metadata": {},
   "source": [
    "***\n",
    "## Future Use\n",
    "\n",
    "Using information from equivalence classes"
   ]
  },
  {
   "cell_type": "code",
   "execution_count": null,
   "metadata": {},
   "outputs": [],
   "source": [
    "# folder_names = utilities.get_folder_names(\"./train/\")\n",
    "\n",
    "# master_set = set()\n",
    "# all_eq_c = {}\n",
    "# count = 0\n",
    "# for f in folder_names:\n",
    "#     with open(\"./train/\" + f +\"/bias/aux_info/eq_classes.txt\") as eq_file:\n",
    "#         eq_c = eq_file.read()\n",
    "#     eq_c = eq_c.strip()\n",
    "#     eq_c = eq_c.split(\"\\r\\n\")\n",
    "#     eq_c = eq_c[199326:]\n",
    "#     eq_c = np.array(eq_c)\n",
    "# #     print eq_c[0]\n",
    "#     cur_eq_c = {}\n",
    "    \n",
    "#     try:\n",
    "\n",
    "#         for i in range(len(eq_c)):\n",
    "#             e = eq_c[i].split('\\t')\n",
    "#             key = int(''.join(e[1:-1]))\n",
    "# #             for i in range(len(e[:-1])):\n",
    "# #                 e[i] = int(''.join()e[i])\n",
    "#             cur_eq_c[key] = int(e[-1])\n",
    "#             master_set.add(key)\n",
    "#     except Exception as err:\n",
    "#         print err\n",
    "#         print f,i\n",
    "    \n",
    "#     all_eq_c[f] = cur_eq_c\n",
    "#     count+=1\n",
    "#     print count\n",
    "#     gc.collect()\n",
    "    \n"
   ]
  },
  {
   "cell_type": "code",
   "execution_count": null,
   "metadata": {},
   "outputs": [],
   "source": [
    "gc.collect()"
   ]
  },
  {
   "cell_type": "code",
   "execution_count": 5,
   "metadata": {},
   "outputs": [],
   "source": [
    "pkl.dump(master_set,open('master_set.pkl','wb'))"
   ]
  },
  {
   "cell_type": "code",
   "execution_count": 6,
   "metadata": {},
   "outputs": [],
   "source": [
    "with open('all_eq_classes.pkl','wb') as f:\n",
    "    pkl.dump(all_eq_c,f)"
   ]
  },
  {
   "cell_type": "code",
   "execution_count": 12,
   "metadata": {},
   "outputs": [
    {
     "name": "stdout",
     "output_type": "stream",
     "text": [
      "5292\n"
     ]
    }
   ],
   "source": [
    "import sys\n",
    "tot_size = sys.getsizeof(all_eq_c.values())\n",
    "tot_size+= sum(map(sys.getsizeof,all_eq_c.itervalues()))\n",
    "print tot_size/(1024*1024)"
   ]
  },
  {
   "cell_type": "code",
   "execution_count": 2,
   "metadata": {},
   "outputs": [],
   "source": [
    "with open('./master_set.pkl', 'rb') as f:\n",
    "    master_set = pkl.load(f)\n",
    "    \n",
    "with open('./all_eq_classes.pkl', 'rb') as f:\n",
    "    all_eq_c = pkl.load(f)"
   ]
  },
  {
   "cell_type": "code",
   "execution_count": null,
   "metadata": {
    "collapsed": true
   },
   "outputs": [],
   "source": [
    "for k in all_eq_c.keys():\n",
    "    with open('./eq_classes/'+k+'.pkl', 'wb') as out_file:\n",
    "        pkl.dump(all_eq_c[k], out_file)"
   ]
  },
  {
   "cell_type": "code",
   "execution_count": 16,
   "metadata": {
    "scrolled": false
   },
   "outputs": [],
   "source": [
    "master_set = list(master_set)\n",
    "for i in range(len(master_set)):\n",
    "#     print i\n",
    "    cur = master_set.pop(i)\n",
    "    master_set.insert(i,i)\n",
    "    for folder in all_eq_c:\n",
    "        if cur in all_eq_c[folder]:\n",
    "            all_eq_c[folder][i] = all_eq_c[folder][cur]\n",
    "            del all_eq_c[folder][cur]"
   ]
  },
  {
   "cell_type": "code",
   "execution_count": 9,
   "metadata": {},
   "outputs": [],
   "source": [
    "folder_names = utilities.get_folder_names(\"./train/\")\n",
    "train = pd.DataFrame(np.zeros((len(folder_names),len(master_set))),index=folder_names)"
   ]
  },
  {
   "cell_type": "code",
   "execution_count": 13,
   "metadata": {},
   "outputs": [],
   "source": [
    "del train\n",
    "# for ind in train.index:\n",
    "#     for eq_classes in all_eq_c[ind]:\n",
    "#         train.loc[ind,eq_classes] = all_eq_c[ind][eq_classes]"
   ]
  },
  {
   "cell_type": "code",
   "execution_count": 14,
   "metadata": {},
   "outputs": [
    {
     "data": {
      "text/plain": [
       "74"
      ]
     },
     "execution_count": 14,
     "metadata": {},
     "output_type": "execute_result"
    }
   ],
   "source": [
    "# del master_set\n",
    "gc.collect()"
   ]
  },
  {
   "cell_type": "code",
   "execution_count": null,
   "metadata": {
    "collapsed": true
   },
   "outputs": [],
   "source": [
    "f = pd.Series(list(master_set))"
   ]
  }
 ],
 "metadata": {
  "kernelspec": {
   "display_name": "Python 2",
   "language": "python",
   "name": "python2"
  },
  "language_info": {
   "codemirror_mode": {
    "name": "ipython",
    "version": 2
   },
   "file_extension": ".py",
   "mimetype": "text/x-python",
   "name": "python",
   "nbconvert_exporter": "python",
   "pygments_lexer": "ipython2",
   "version": "2.7.12"
  }
 },
 "nbformat": 4,
 "nbformat_minor": 2
}
