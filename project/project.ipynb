{
 "cells": [
  {
   "cell_type": "markdown",
   "metadata": {},
   "source": [
    "***\n",
    "# Project 1 - Phenotypic Prediction from Transcriptomic Features\n",
    "***\n",
    "\n"
   ]
  },
  {
   "cell_type": "markdown",
   "metadata": {},
   "source": [
    "## Imports"
   ]
  },
  {
   "cell_type": "code",
   "execution_count": 1,
   "metadata": {},
   "outputs": [],
   "source": [
    "import pandas as pd\n",
    "import numpy as np\n",
    "import cPickle as pkl\n",
    "from sklearn.decomposition import PCA\n",
    "from sklearn.metrics import f1_score, make_scorer\n",
    "from sklearn.preprocessing import StandardScaler,LabelEncoder\n",
    "from sklearn.model_selection import train_test_split, KFold, cross_val_score, GridSearchCV\n",
    "from sklearn.ensemble import ExtraTreesClassifier\n",
    "from sklearn.ensemble import RandomForestClassifier\n",
    "from sklearn.neural_network import MLPClassifier\n",
    "from sklearn.neighbors import KNeighborsClassifier as KNN\n",
    "from sklearn.preprocessing import MultiLabelBinarizer\n",
    "import matplotlib.pyplot as plt\n",
    "import utilities\n",
    "import sys\n",
    "import os\n",
    "import gc\n",
    "import random"
   ]
  },
  {
   "cell_type": "markdown",
   "metadata": {},
   "source": [
    "## Data Extraction"
   ]
  },
  {
   "cell_type": "markdown",
   "metadata": {},
   "source": [
    " Extracted the TPM value for each Accession folder and stored in the 'tpm_train.pkl' file."
   ]
  },
  {
   "cell_type": "code",
   "execution_count": 2,
   "metadata": {
    "collapsed": true
   },
   "outputs": [],
   "source": [
    "with open(\"tpm_train_with_eqc.pkl\", 'rb') as input_file:\n",
    "    data = pkl.load(input_file)\n",
    "    "
   ]
  },
  {
   "cell_type": "code",
   "execution_count": 3,
   "metadata": {
    "collapsed": true
   },
   "outputs": [],
   "source": [
    "data = pd.DataFrame(data)    \n",
    "data.set_index(0, inplace=True)\n",
    "\n",
    "labels = data.iloc[:,-2:]\n",
    "\n",
    "data.columns = [str(i) for i in data.columns]"
   ]
  },
  {
   "cell_type": "code",
   "execution_count": 8,
   "metadata": {
    "collapsed": true
   },
   "outputs": [],
   "source": [
    "X = data.drop(['199327','199328'], axis=1)\n",
    "y = labels"
   ]
  },
  {
   "cell_type": "code",
   "execution_count": 9,
   "metadata": {
    "collapsed": true,
    "scrolled": true
   },
   "outputs": [],
   "source": [
    "X = X.astype(np.float32)"
   ]
  },
  {
   "cell_type": "code",
   "execution_count": 14,
   "metadata": {},
   "outputs": [
    {
     "data": {
      "text/plain": [
       "count    369.000000\n",
       "mean      80.707268\n",
       "std       17.161161\n",
       "min       33.948341\n",
       "25%       69.099884\n",
       "50%       79.788773\n",
       "75%       91.965858\n",
       "max      166.347031\n",
       "Name: 199326, dtype: float64"
      ]
     },
     "execution_count": 14,
     "metadata": {},
     "output_type": "execute_result"
    }
   ],
   "source": [
    "X['199326'].describe()"
   ]
  },
  {
   "cell_type": "code",
   "execution_count": 15,
   "metadata": {},
   "outputs": [
    {
     "data": {
      "text/html": [
       "<div>\n",
       "<style>\n",
       "    .dataframe thead tr:only-child th {\n",
       "        text-align: right;\n",
       "    }\n",
       "\n",
       "    .dataframe thead th {\n",
       "        text-align: left;\n",
       "    }\n",
       "\n",
       "    .dataframe tbody tr th {\n",
       "        vertical-align: top;\n",
       "    }\n",
       "</style>\n",
       "<table border=\"1\" class=\"dataframe\">\n",
       "  <thead>\n",
       "    <tr style=\"text-align: right;\">\n",
       "      <th></th>\n",
       "      <th>1</th>\n",
       "      <th>2</th>\n",
       "      <th>3</th>\n",
       "      <th>4</th>\n",
       "      <th>5</th>\n",
       "      <th>6</th>\n",
       "      <th>7</th>\n",
       "      <th>8</th>\n",
       "      <th>9</th>\n",
       "      <th>10</th>\n",
       "      <th>...</th>\n",
       "      <th>199317</th>\n",
       "      <th>199318</th>\n",
       "      <th>199319</th>\n",
       "      <th>199320</th>\n",
       "      <th>199321</th>\n",
       "      <th>199322</th>\n",
       "      <th>199323</th>\n",
       "      <th>199324</th>\n",
       "      <th>199325</th>\n",
       "      <th>199326</th>\n",
       "    </tr>\n",
       "    <tr>\n",
       "      <th>0</th>\n",
       "      <th></th>\n",
       "      <th></th>\n",
       "      <th></th>\n",
       "      <th></th>\n",
       "      <th></th>\n",
       "      <th></th>\n",
       "      <th></th>\n",
       "      <th></th>\n",
       "      <th></th>\n",
       "      <th></th>\n",
       "      <th></th>\n",
       "      <th></th>\n",
       "      <th></th>\n",
       "      <th></th>\n",
       "      <th></th>\n",
       "      <th></th>\n",
       "      <th></th>\n",
       "      <th></th>\n",
       "      <th></th>\n",
       "      <th></th>\n",
       "      <th></th>\n",
       "    </tr>\n",
       "  </thead>\n",
       "  <tbody>\n",
       "    <tr>\n",
       "      <th>ERR188023</th>\n",
       "      <td>0.372590</td>\n",
       "      <td>0.0</td>\n",
       "      <td>4.22841</td>\n",
       "      <td>0.375841</td>\n",
       "      <td>0.000000</td>\n",
       "      <td>0.0</td>\n",
       "      <td>0.000000</td>\n",
       "      <td>0.0</td>\n",
       "      <td>0.038324</td>\n",
       "      <td>0.0</td>\n",
       "      <td>...</td>\n",
       "      <td>90.953598</td>\n",
       "      <td>171.121994</td>\n",
       "      <td>2886.239990</td>\n",
       "      <td>6365.470215</td>\n",
       "      <td>227.203995</td>\n",
       "      <td>4590.790039</td>\n",
       "      <td>353.976990</td>\n",
       "      <td>1974.739990</td>\n",
       "      <td>4.998195</td>\n",
       "      <td>97.296394</td>\n",
       "    </tr>\n",
       "    <tr>\n",
       "      <th>ERR188022</th>\n",
       "      <td>0.797727</td>\n",
       "      <td>0.0</td>\n",
       "      <td>4.58229</td>\n",
       "      <td>0.000000</td>\n",
       "      <td>0.000000</td>\n",
       "      <td>0.0</td>\n",
       "      <td>0.000000</td>\n",
       "      <td>0.0</td>\n",
       "      <td>1.684310</td>\n",
       "      <td>0.0</td>\n",
       "      <td>...</td>\n",
       "      <td>22.211201</td>\n",
       "      <td>83.254097</td>\n",
       "      <td>3149.229980</td>\n",
       "      <td>6786.430176</td>\n",
       "      <td>88.995796</td>\n",
       "      <td>3629.209961</td>\n",
       "      <td>437.084015</td>\n",
       "      <td>2652.649902</td>\n",
       "      <td>4.922488</td>\n",
       "      <td>57.534142</td>\n",
       "    </tr>\n",
       "    <tr>\n",
       "      <th>ERR188356</th>\n",
       "      <td>0.090220</td>\n",
       "      <td>0.0</td>\n",
       "      <td>8.51668</td>\n",
       "      <td>0.000000</td>\n",
       "      <td>0.000000</td>\n",
       "      <td>0.0</td>\n",
       "      <td>0.000000</td>\n",
       "      <td>0.0</td>\n",
       "      <td>2.274090</td>\n",
       "      <td>0.0</td>\n",
       "      <td>...</td>\n",
       "      <td>25.431000</td>\n",
       "      <td>109.183998</td>\n",
       "      <td>3163.649902</td>\n",
       "      <td>9510.320312</td>\n",
       "      <td>121.857002</td>\n",
       "      <td>5556.990234</td>\n",
       "      <td>586.945007</td>\n",
       "      <td>2406.679932</td>\n",
       "      <td>5.065081</td>\n",
       "      <td>63.784302</td>\n",
       "    </tr>\n",
       "    <tr>\n",
       "      <th>ERR188079</th>\n",
       "      <td>0.220742</td>\n",
       "      <td>0.0</td>\n",
       "      <td>3.80056</td>\n",
       "      <td>0.000000</td>\n",
       "      <td>0.000000</td>\n",
       "      <td>0.0</td>\n",
       "      <td>0.000000</td>\n",
       "      <td>0.0</td>\n",
       "      <td>1.131810</td>\n",
       "      <td>0.0</td>\n",
       "      <td>...</td>\n",
       "      <td>229.815994</td>\n",
       "      <td>490.273987</td>\n",
       "      <td>1677.089966</td>\n",
       "      <td>3139.790039</td>\n",
       "      <td>274.553009</td>\n",
       "      <td>1913.510010</td>\n",
       "      <td>529.495972</td>\n",
       "      <td>3157.360107</td>\n",
       "      <td>4.875267</td>\n",
       "      <td>33.948341</td>\n",
       "    </tr>\n",
       "    <tr>\n",
       "      <th>ERR188032</th>\n",
       "      <td>0.000000</td>\n",
       "      <td>0.0</td>\n",
       "      <td>4.41379</td>\n",
       "      <td>0.000000</td>\n",
       "      <td>0.001128</td>\n",
       "      <td>0.0</td>\n",
       "      <td>0.936256</td>\n",
       "      <td>0.0</td>\n",
       "      <td>0.686672</td>\n",
       "      <td>0.0</td>\n",
       "      <td>...</td>\n",
       "      <td>71.057800</td>\n",
       "      <td>163.998993</td>\n",
       "      <td>3299.810059</td>\n",
       "      <td>6968.649902</td>\n",
       "      <td>256.239014</td>\n",
       "      <td>3721.270020</td>\n",
       "      <td>521.898010</td>\n",
       "      <td>2534.120117</td>\n",
       "      <td>4.969185</td>\n",
       "      <td>81.912567</td>\n",
       "    </tr>\n",
       "  </tbody>\n",
       "</table>\n",
       "<p>5 rows × 199326 columns</p>\n",
       "</div>"
      ],
      "text/plain": [
       "                  1    2        3         4         5    6         7    8  \\\n",
       "0                                                                           \n",
       "ERR188023  0.372590  0.0  4.22841  0.375841  0.000000  0.0  0.000000  0.0   \n",
       "ERR188022  0.797727  0.0  4.58229  0.000000  0.000000  0.0  0.000000  0.0   \n",
       "ERR188356  0.090220  0.0  8.51668  0.000000  0.000000  0.0  0.000000  0.0   \n",
       "ERR188079  0.220742  0.0  3.80056  0.000000  0.000000  0.0  0.000000  0.0   \n",
       "ERR188032  0.000000  0.0  4.41379  0.000000  0.001128  0.0  0.936256  0.0   \n",
       "\n",
       "                  9   10    ...          199317      199318       199319  \\\n",
       "0                           ...                                            \n",
       "ERR188023  0.038324  0.0    ...       90.953598  171.121994  2886.239990   \n",
       "ERR188022  1.684310  0.0    ...       22.211201   83.254097  3149.229980   \n",
       "ERR188356  2.274090  0.0    ...       25.431000  109.183998  3163.649902   \n",
       "ERR188079  1.131810  0.0    ...      229.815994  490.273987  1677.089966   \n",
       "ERR188032  0.686672  0.0    ...       71.057800  163.998993  3299.810059   \n",
       "\n",
       "                199320      199321       199322      199323       199324  \\\n",
       "0                                                                          \n",
       "ERR188023  6365.470215  227.203995  4590.790039  353.976990  1974.739990   \n",
       "ERR188022  6786.430176   88.995796  3629.209961  437.084015  2652.649902   \n",
       "ERR188356  9510.320312  121.857002  5556.990234  586.945007  2406.679932   \n",
       "ERR188079  3139.790039  274.553009  1913.510010  529.495972  3157.360107   \n",
       "ERR188032  6968.649902  256.239014  3721.270020  521.898010  2534.120117   \n",
       "\n",
       "             199325     199326  \n",
       "0                               \n",
       "ERR188023  4.998195  97.296394  \n",
       "ERR188022  4.922488  57.534142  \n",
       "ERR188356  5.065081  63.784302  \n",
       "ERR188079  4.875267  33.948341  \n",
       "ERR188032  4.969185  81.912567  \n",
       "\n",
       "[5 rows x 199326 columns]"
      ]
     },
     "execution_count": 15,
     "metadata": {},
     "output_type": "execute_result"
    }
   ],
   "source": [
    "X.head()"
   ]
  },
  {
   "cell_type": "code",
   "execution_count": 35,
   "metadata": {},
   "outputs": [
    {
     "data": {
      "text/html": [
       "<div>\n",
       "<style>\n",
       "    .dataframe thead tr:only-child th {\n",
       "        text-align: right;\n",
       "    }\n",
       "\n",
       "    .dataframe thead th {\n",
       "        text-align: left;\n",
       "    }\n",
       "\n",
       "    .dataframe tbody tr th {\n",
       "        vertical-align: top;\n",
       "    }\n",
       "</style>\n",
       "<table border=\"1\" class=\"dataframe\">\n",
       "  <thead>\n",
       "    <tr style=\"text-align: right;\">\n",
       "      <th></th>\n",
       "      <th>199325</th>\n",
       "      <th>199326</th>\n",
       "    </tr>\n",
       "    <tr>\n",
       "      <th>0</th>\n",
       "      <th></th>\n",
       "      <th></th>\n",
       "    </tr>\n",
       "  </thead>\n",
       "  <tbody>\n",
       "    <tr>\n",
       "      <th>ERR188023</th>\n",
       "      <td>FIN</td>\n",
       "      <td>2</td>\n",
       "    </tr>\n",
       "    <tr>\n",
       "      <th>ERR188022</th>\n",
       "      <td>CEU</td>\n",
       "      <td>1</td>\n",
       "    </tr>\n",
       "    <tr>\n",
       "      <th>ERR188356</th>\n",
       "      <td>TSI</td>\n",
       "      <td>1</td>\n",
       "    </tr>\n",
       "    <tr>\n",
       "      <th>ERR188079</th>\n",
       "      <td>TSI</td>\n",
       "      <td>4</td>\n",
       "    </tr>\n",
       "    <tr>\n",
       "      <th>ERR188032</th>\n",
       "      <td>CEU</td>\n",
       "      <td>7</td>\n",
       "    </tr>\n",
       "  </tbody>\n",
       "</table>\n",
       "</div>"
      ],
      "text/plain": [
       "          199325 199326\n",
       "0                      \n",
       "ERR188023    FIN      2\n",
       "ERR188022    CEU      1\n",
       "ERR188356    TSI      1\n",
       "ERR188079    TSI      4\n",
       "ERR188032    CEU      7"
      ]
     },
     "execution_count": 35,
     "metadata": {},
     "output_type": "execute_result"
    }
   ],
   "source": [
    "y.head()"
   ]
  },
  {
   "cell_type": "markdown",
   "metadata": {},
   "source": [
    "***\n",
    "## Trying ExtraTreesClassifier on TPM for finding Feature importance"
   ]
  },
  {
   "cell_type": "code",
   "execution_count": 16,
   "metadata": {},
   "outputs": [
    {
     "name": "stderr",
     "output_type": "stream",
     "text": [
      "[Parallel(n_jobs=-1)]: Done  34 tasks      | elapsed:    0.3s\n",
      "[Parallel(n_jobs=-1)]: Done 184 tasks      | elapsed:    1.3s\n",
      "[Parallel(n_jobs=-1)]: Done 250 out of 250 | elapsed:    1.7s finished\n"
     ]
    },
    {
     "name": "stdout",
     "output_type": "stream",
     "text": [
      "Feature ranking:\n",
      "1. feature 93295 (0.000949)\n",
      "2. feature 70175 (0.000827)\n",
      "3. feature 29548 (0.000823)\n",
      "4. feature 163898 (0.000789)\n",
      "5. feature 5027 (0.000733)\n",
      "6. feature 127135 (0.000701)\n",
      "7. feature 168825 (0.000663)\n",
      "8. feature 161877 (0.000646)\n",
      "9. feature 157375 (0.000638)\n",
      "10. feature 34275 (0.000609)\n",
      "11. feature 168948 (0.000596)\n",
      "12. feature 160135 (0.000593)\n",
      "13. feature 120673 (0.000586)\n",
      "14. feature 76393 (0.000573)\n",
      "15. feature 175825 (0.000572)\n"
     ]
    }
   ],
   "source": [
    "# Build a forest and compute the feature importances\n",
    "forest = ExtraTreesClassifier(n_estimators=250, n_jobs=-1, bootstrap=True, oob_score=True, verbose=1,\n",
    "                              random_state=0)\n",
    "\n",
    "# using out-of-bag samples for testing generalization accuracy\n",
    "\n",
    "forest.fit(X, y)\n",
    "importances = forest.feature_importances_\n",
    "std = np.std([tree.feature_importances_ for tree in forest.estimators_],\n",
    "             axis=0)\n",
    "indices = np.argsort(importances)[::-1]\n",
    "\n",
    "# Print the feature ranking\n",
    "print(\"Feature ranking:\")\n",
    "\n",
    "for f in range(X.shape[1])[:15]:\n",
    "    print(\"%d. feature %d (%f)\" % (f + 1, indices[f], importances[indices[f]]))"
   ]
  },
  {
   "cell_type": "code",
   "execution_count": 26,
   "metadata": {},
   "outputs": [
    {
     "data": {
      "image/png": "[encoded data removed]",
      "text/plain": [
       "<matplotlib.figure.Figure at 0x7fb91fe10290>"
      ]
     },
     "metadata": {},
     "output_type": "display_data"
    }
   ],
   "source": [
    "# Plot the feature importances of the forest\n",
    "count = 20\n",
    "plt.figure(figsize=(16, 8))\n",
    "# plt.bar(range(X_train.shape[1]), importances[indices],\n",
    "#        color=\"r\", yerr=std[indices], align=\"center\")\n",
    "plt.bar(range(count), importances[indices[:count]],\n",
    "       color=\"r\", align=\"center\")\n",
    "\n",
    "# plt.xticks(range(X_train.shape[1]), indices)\n",
    "plt.xticks(range(count), indices[:count])\n",
    "plt.xlim([-1, count])\n",
    "plt.xlabel(\"Transcript Index\", fontsize=16)\n",
    "plt.ylabel(\"Feature Importance\", fontsize=16)\n",
    "# plt.xlim([-1, X_train.shape[1]])\n",
    "plt.show()"
   ]
  },
  {
   "cell_type": "markdown",
   "metadata": {},
   "source": [
    "### Dumping the variables to pickle\n",
    "To save processing time for future runs"
   ]
  },
  {
   "cell_type": "code",
   "execution_count": 2,
   "metadata": {},
   "outputs": [
    {
     "ename": "NameError",
     "evalue": "name 'indices' is not defined",
     "output_type": "error",
     "traceback": [
      "\u001b[0;31m---------------------------------------------------------------------------\u001b[0m",
      "\u001b[0;31mNameError\u001b[0m                                 Traceback (most recent call last)",
      "\u001b[0;32m<ipython-input-2-f424c87bbcaa>\u001b[0m in \u001b[0;36m<module>\u001b[0;34m()\u001b[0m\n\u001b[0;32m----> 1\u001b[0;31m \u001b[0mlen\u001b[0m\u001b[0;34m(\u001b[0m\u001b[0mindices\u001b[0m\u001b[0;34m)\u001b[0m\u001b[0;34m\u001b[0m\u001b[0m\n\u001b[0m",
      "\u001b[0;31mNameError\u001b[0m: name 'indices' is not defined"
     ]
    }
   ],
   "source": [
    "len(indices)"
   ]
  },
  {
   "cell_type": "code",
   "execution_count": 37,
   "metadata": {
    "collapsed": true
   },
   "outputs": [],
   "source": [
    "if not os.path.exists(\"indices.pkl\"):\n",
    "    with open(\"indices.pkl\", 'wb') as out:\n",
    "        pkl.dump(indices, out)"
   ]
  },
  {
   "cell_type": "code",
   "execution_count": 38,
   "metadata": {
    "collapsed": true
   },
   "outputs": [],
   "source": [
    "if not os.path.exists(\"X.pkl\"):\n",
    "    with open(\"X.pkl\", 'wb') as out:\n",
    "        pkl.dump(X, out)"
   ]
  },
  {
   "cell_type": "code",
   "execution_count": 39,
   "metadata": {
    "collapsed": true
   },
   "outputs": [],
   "source": [
    "if not os.path.exists(\"y.pkl\"):\n",
    "    with open(\"y.pkl\", 'wb') as out:\n",
    "        pkl.dump(y, out)"
   ]
  },
  {
   "cell_type": "code",
   "execution_count": 40,
   "metadata": {
    "collapsed": true
   },
   "outputs": [],
   "source": [
    "X = X.iloc[:, indices[:10000]]"
   ]
  },
  {
   "cell_type": "code",
   "execution_count": 41,
   "metadata": {
    "collapsed": true
   },
   "outputs": [],
   "source": [
    "if not os.path.exists(\"X_train_reduced.pkl\"):\n",
    "    with open(\"X_train_reduced.pkl\", 'wb') as out:\n",
    "        pkl.dump(X, out)"
   ]
  },
  {
   "cell_type": "markdown",
   "metadata": {},
   "source": [
    "***\n",
    "## Implementing PCA on the selected important features"
   ]
  },
  {
   "cell_type": "code",
   "execution_count": 34,
   "metadata": {
    "collapsed": true
   },
   "outputs": [],
   "source": [
    "pca = PCA(n_components=512)\n",
    "X_new = pca.fit_transform(X)"
   ]
  },
  {
   "cell_type": "code",
   "execution_count": 35,
   "metadata": {},
   "outputs": [
    {
     "data": {
      "text/plain": [
       "(369, 369)"
      ]
     },
     "execution_count": 35,
     "metadata": {},
     "output_type": "execute_result"
    }
   ],
   "source": [
    "X_new.shape"
   ]
  },
  {
   "cell_type": "markdown",
   "metadata": {},
   "source": [
    "Interesting observation, after trying PCA we get a worse answer. This is because the fact that we have very less data to train on.<br>\n",
    "***"
   ]
  },
  {
   "cell_type": "markdown",
   "metadata": {},
   "source": [
    "## Cross Validation on RandomForestClassifier\n",
    "<br>\n",
    "<b>Parameters for the Forest :</b>\n",
    "- Number of trees = 200\n",
    "- Max depth of a tree - 60\n",
    "\n",
    "<b>Parameters Cross validation :</b>\n",
    "- number of folds = 5"
   ]
  },
  {
   "cell_type": "code",
   "execution_count": 114,
   "metadata": {
    "collapsed": true,
    "scrolled": false
   },
   "outputs": [],
   "source": [
    "def avg_f1_score(y_test,y_pred):\n",
    "    pop_score = f1_score(y_test[199325], y_pred[:,0], average='macro',)\n",
    "    center_score = f1_score(y_test[199326], y_pred[:,1], average='macro')\n",
    "    return (pop_score+center_score)/2.0\n",
    "score = make_scorer(avg_f1_score, greater_is_better=True)"
   ]
  },
  {
   "cell_type": "code",
   "execution_count": 121,
   "metadata": {},
   "outputs": [
    {
     "name": "stderr",
     "output_type": "stream",
     "text": [
      "/usr/local/lib/python2.7/dist-packages/ipykernel_launcher.py:4: SettingWithCopyWarning: \n",
      "A value is trying to be set on a copy of a slice from a DataFrame.\n",
      "Try using .loc[row_indexer,col_indexer] = value instead\n",
      "\n",
      "See the caveats in the documentation: http://pandas.pydata.org/pandas-docs/stable/indexing.html#indexing-view-versus-copy\n",
      "  after removing the cwd from sys.path.\n",
      "/usr/local/lib/python2.7/dist-packages/ipykernel_launcher.py:5: SettingWithCopyWarning: \n",
      "A value is trying to be set on a copy of a slice from a DataFrame.\n",
      "Try using .loc[row_indexer,col_indexer] = value instead\n",
      "\n",
      "See the caveats in the documentation: http://pandas.pydata.org/pandas-docs/stable/indexing.html#indexing-view-versus-copy\n",
      "  \"\"\"\n"
     ]
    }
   ],
   "source": [
    "le = LabelEncoder()\n",
    "le.fit(y[199325])\n",
    "y_enc = y \n",
    "y_enc[199325] = le.transform(y[199325])\n",
    "y_enc[199326] = y_enc[199326].astype('int') "
   ]
  },
  {
   "cell_type": "markdown",
   "metadata": {},
   "source": [
    "***\n",
    "## After Mid-term\n",
    "\n",
    "Using information from equivalence classes"
   ]
  },
  {
   "cell_type": "markdown",
   "metadata": {},
   "source": [
    "# Random Forest New"
   ]
  },
  {
   "cell_type": "code",
   "execution_count": 155,
   "metadata": {},
   "outputs": [
    {
     "name": "stdout",
     "output_type": "stream",
     "text": [
      "Fitting 4 folds for each of 180 candidates, totalling 720 fits\n"
     ]
    },
    {
     "name": "stderr",
     "output_type": "stream",
     "text": [
      "[Parallel(n_jobs=-1)]: Done  34 tasks      | elapsed:    7.2s\n",
      "[Parallel(n_jobs=-1)]: Done 184 tasks      | elapsed:  1.2min\n",
      "[Parallel(n_jobs=-1)]: Done 434 tasks      | elapsed:  3.6min\n",
      "/usr/local/lib/python2.7/dist-packages/sklearn/metrics/classification.py:1135: UndefinedMetricWarning: F-score is ill-defined and being set to 0.0 in labels with no predicted samples.\n",
      "  'precision', 'predicted', average, warn_for)\n",
      "/usr/local/lib/python2.7/dist-packages/sklearn/metrics/classification.py:1135: UndefinedMetricWarning: F-score is ill-defined and being set to 0.0 in labels with no predicted samples.\n",
      "  'precision', 'predicted', average, warn_for)\n",
      "/usr/local/lib/python2.7/dist-packages/sklearn/metrics/classification.py:1135: UndefinedMetricWarning: F-score is ill-defined and being set to 0.0 in labels with no predicted samples.\n",
      "  'precision', 'predicted', average, warn_for)\n",
      "[Parallel(n_jobs=-1)]: Done 720 out of 720 | elapsed:  6.6min finished\n"
     ]
    },
    {
     "name": "stdout",
     "output_type": "stream",
     "text": [
      "RandomForestClassifier(bootstrap=True, class_weight='balanced',\n",
      "            criterion='gini', max_depth=15, max_features='auto',\n",
      "            max_leaf_nodes=None, min_impurity_decrease=0.0,\n",
      "            min_impurity_split=None, min_samples_leaf=1,\n",
      "            min_samples_split=2, min_weight_fraction_leaf=0.0,\n",
      "            n_estimators=200, n_jobs=-1, oob_score=False, random_state=0,\n",
      "            verbose=0, warm_start=False)\n"
     ]
    }
   ],
   "source": [
    "# random.seed(18)\n",
    "rf = RandomForestClassifier(random_state=0, n_jobs=-1)\n",
    "rf_params = {\n",
    "    'n_estimators':[10,30,50,100,200,250],\n",
    "    'criterion': ('gini','entropy'),\n",
    "    'max_depth': [15,20,30,40,60],\n",
    "    'class_weight' : (None,'balanced','balanced_subsample')\n",
    "}\n",
    "gcv_rf = GridSearchCV(cv=4,estimator=rf,param_grid=rf_params,n_jobs=-1,scoring=score,verbose=1)\n",
    "gcv_rf.fit(X,y_enc)\n",
    "# scores = cross_val_score(clf, X, y, cv=5, scoring=score)\n",
    "\n",
    "print gcv_rf.best_estimator_"
   ]
  },
  {
   "cell_type": "markdown",
   "metadata": {},
   "source": [
    "### Best RFC\n",
    "RandomForestClassifier(bootstrap=True, class_weight='balanced',\n",
    "            criterion='gini', max_depth=15, max_features='auto',\n",
    "            max_leaf_nodes=None, min_impurity_decrease=0.0,\n",
    "            min_impurity_split=None, min_samples_leaf=1,\n",
    "            min_samples_split=2, min_weight_fraction_leaf=0.0,\n",
    "            n_estimators=200, n_jobs=-1, oob_score=False, random_state=0,\n",
    "            verbose=0, warm_start=False)\n",
    "            \n",
    "cv=4 <br>\n",
    "0.811905104099 0.0176607853188"
   ]
  },
  {
   "cell_type": "code",
   "execution_count": 158,
   "metadata": {},
   "outputs": [
    {
     "name": "stdout",
     "output_type": "stream",
     "text": [
      "0.811829641971\n"
     ]
    }
   ],
   "source": [
    "print gcv_rf.best_score_"
   ]
  },
  {
   "cell_type": "code",
   "execution_count": 157,
   "metadata": {},
   "outputs": [
    {
     "name": "stderr",
     "output_type": "stream",
     "text": [
      "[Parallel(n_jobs=-1)]: Done   4 out of   4 | elapsed:    2.2s remaining:    0.0s\n",
      "[Parallel(n_jobs=-1)]: Done   4 out of   4 | elapsed:    2.2s finished\n"
     ]
    },
    {
     "name": "stdout",
     "output_type": "stream",
     "text": [
      "0.811905104099 0.0176607853188\n"
     ]
    }
   ],
   "source": [
    "scores = cross_val_score(gcv_rf.best_estimator_,X,y_enc, cv=4,n_jobs=-1,scoring=score,verbose=1)\n",
    "\n",
    "print scores.mean(),scores.std()"
   ]
  },
  {
   "cell_type": "markdown",
   "metadata": {},
   "source": [
    "# Extra Trees Classifier"
   ]
  },
  {
   "cell_type": "code",
   "execution_count": 159,
   "metadata": {},
   "outputs": [
    {
     "name": "stdout",
     "output_type": "stream",
     "text": [
      "Fitting 4 folds for each of 180 candidates, totalling 720 fits\n"
     ]
    },
    {
     "name": "stderr",
     "output_type": "stream",
     "text": [
      "[Parallel(n_jobs=-1)]: Done  34 tasks      | elapsed:    5.4s\n",
      "/usr/local/lib/python2.7/dist-packages/sklearn/metrics/classification.py:1135: UndefinedMetricWarning: F-score is ill-defined and being set to 0.0 in labels with no predicted samples.\n",
      "  'precision', 'predicted', average, warn_for)\n",
      "/usr/local/lib/python2.7/dist-packages/sklearn/metrics/classification.py:1135: UndefinedMetricWarning: F-score is ill-defined and being set to 0.0 in labels with no predicted samples.\n",
      "  'precision', 'predicted', average, warn_for)\n",
      "/usr/local/lib/python2.7/dist-packages/sklearn/metrics/classification.py:1135: UndefinedMetricWarning: F-score is ill-defined and being set to 0.0 in labels with no predicted samples.\n",
      "  'precision', 'predicted', average, warn_for)\n",
      "[Parallel(n_jobs=-1)]: Done 184 tasks      | elapsed:   36.0s\n",
      "/usr/local/lib/python2.7/dist-packages/sklearn/metrics/classification.py:1135: UndefinedMetricWarning: F-score is ill-defined and being set to 0.0 in labels with no predicted samples.\n",
      "  'precision', 'predicted', average, warn_for)\n",
      "/usr/local/lib/python2.7/dist-packages/sklearn/metrics/classification.py:1135: UndefinedMetricWarning: F-score is ill-defined and being set to 0.0 in labels with no predicted samples.\n",
      "  'precision', 'predicted', average, warn_for)\n",
      "/usr/local/lib/python2.7/dist-packages/sklearn/metrics/classification.py:1135: UndefinedMetricWarning: F-score is ill-defined and being set to 0.0 in labels with no predicted samples.\n",
      "  'precision', 'predicted', average, warn_for)\n",
      "/usr/local/lib/python2.7/dist-packages/sklearn/metrics/classification.py:1135: UndefinedMetricWarning: F-score is ill-defined and being set to 0.0 in labels with no predicted samples.\n",
      "  'precision', 'predicted', average, warn_for)\n",
      "[Parallel(n_jobs=-1)]: Done 434 tasks      | elapsed:  1.5min\n",
      "[Parallel(n_jobs=-1)]: Done 720 out of 720 | elapsed:  2.7min finished\n"
     ]
    },
    {
     "name": "stdout",
     "output_type": "stream",
     "text": [
      "ExtraTreesClassifier(bootstrap=False, class_weight='balanced',\n",
      "           criterion='gini', max_depth=60, max_features='auto',\n",
      "           max_leaf_nodes=None, min_impurity_decrease=0.0,\n",
      "           min_impurity_split=None, min_samples_leaf=1,\n",
      "           min_samples_split=2, min_weight_fraction_leaf=0.0,\n",
      "           n_estimators=250, n_jobs=-1, oob_score=False, random_state=None,\n",
      "           verbose=0, warm_start=False)\n"
     ]
    }
   ],
   "source": [
    "etc = ExtraTreesClassifier(n_jobs=-1)\n",
    "etc_params = {\n",
    "    'n_estimators':[10,30,50,100,200,250],\n",
    "    'criterion': ('gini','entropy'),\n",
    "    'max_depth': [15,20,30,40,60],\n",
    "    'class_weight' : (None,'balanced','balanced_subsample'),\n",
    "    \n",
    "}\n",
    "gcv_etc = GridSearchCV(cv=4,estimator=etc,param_grid=rf_params,n_jobs=-1,scoring=score,verbose=1)\n",
    "gcv_etc.fit(X,y_enc)\n",
    "# scores = cross_val_score(clf, X, y, cv=5, scoring=score)\n",
    "\n",
    "print gcv_etc.best_estimator_"
   ]
  },
  {
   "cell_type": "code",
   "execution_count": 160,
   "metadata": {},
   "outputs": [
    {
     "name": "stdout",
     "output_type": "stream",
     "text": [
      "0.775486198935\n"
     ]
    },
    {
     "name": "stderr",
     "output_type": "stream",
     "text": [
      "[Parallel(n_jobs=-1)]: Done   4 out of   4 | elapsed:    2.1s remaining:    0.0s\n",
      "[Parallel(n_jobs=-1)]: Done   4 out of   4 | elapsed:    2.1s finished\n"
     ]
    },
    {
     "name": "stdout",
     "output_type": "stream",
     "text": [
      "0.777778749865 0.0137470677549\n"
     ]
    }
   ],
   "source": [
    "print gcv_etc.best_score_\n",
    "scores = cross_val_score(gcv_etc.best_estimator_,X,y_enc, cv=4,n_jobs=-1,scoring=score,verbose=1)\n",
    "\n",
    "print scores.mean(),scores.std()"
   ]
  },
  {
   "cell_type": "markdown",
   "metadata": {},
   "source": [
    "## KNN Classifiers"
   ]
  },
  {
   "cell_type": "code",
   "execution_count": 166,
   "metadata": {
    "scrolled": true
   },
   "outputs": [
    {
     "name": "stdout",
     "output_type": "stream",
     "text": [
      "Fitting 4 folds for each of 80 candidates, totalling 320 fits\n"
     ]
    },
    {
     "name": "stderr",
     "output_type": "stream",
     "text": [
      "[Parallel(n_jobs=-1)]: Done  34 tasks      | elapsed:   23.0s\n",
      "/usr/local/lib/python2.7/dist-packages/sklearn/metrics/classification.py:1135: UndefinedMetricWarning: F-score is ill-defined and being set to 0.0 in labels with no predicted samples.\n",
      "  'precision', 'predicted', average, warn_for)\n",
      "/usr/local/lib/python2.7/dist-packages/sklearn/metrics/classification.py:1135: UndefinedMetricWarning: F-score is ill-defined and being set to 0.0 in labels with no predicted samples.\n",
      "  'precision', 'predicted', average, warn_for)\n",
      "/usr/local/lib/python2.7/dist-packages/sklearn/metrics/classification.py:1135: UndefinedMetricWarning: F-score is ill-defined and being set to 0.0 in labels with no predicted samples.\n",
      "  'precision', 'predicted', average, warn_for)\n",
      "/usr/local/lib/python2.7/dist-packages/sklearn/metrics/classification.py:1135: UndefinedMetricWarning: F-score is ill-defined and being set to 0.0 in labels with no predicted samples.\n",
      "  'precision', 'predicted', average, warn_for)\n",
      "/usr/local/lib/python2.7/dist-packages/sklearn/metrics/classification.py:1135: UndefinedMetricWarning: F-score is ill-defined and being set to 0.0 in labels with no predicted samples.\n",
      "  'precision', 'predicted', average, warn_for)\n",
      "/usr/local/lib/python2.7/dist-packages/sklearn/metrics/classification.py:1135: UndefinedMetricWarning: F-score is ill-defined and being set to 0.0 in labels with no predicted samples.\n",
      "  'precision', 'predicted', average, warn_for)\n",
      "/usr/local/lib/python2.7/dist-packages/sklearn/metrics/classification.py:1135: UndefinedMetricWarning: F-score is ill-defined and being set to 0.0 in labels with no predicted samples.\n",
      "  'precision', 'predicted', average, warn_for)\n",
      "/usr/local/lib/python2.7/dist-packages/sklearn/metrics/classification.py:1135: UndefinedMetricWarning: F-score is ill-defined and being set to 0.0 in labels with no predicted samples.\n",
      "  'precision', 'predicted', average, warn_for)\n",
      "[Parallel(n_jobs=-1)]: Done 184 tasks      | elapsed:  2.1min\n",
      "/usr/local/lib/python2.7/dist-packages/sklearn/externals/joblib/parallel.py:547: UserWarning: Multiprocessing-backed parallel loops cannot be nested, setting n_jobs=1\n",
      "  **self._backend_args)\n",
      "/usr/local/lib/python2.7/dist-packages/sklearn/externals/joblib/parallel.py:547: UserWarning: Multiprocessing-backed parallel loops cannot be nested, setting n_jobs=1\n",
      "  **self._backend_args)\n",
      "/usr/local/lib/python2.7/dist-packages/sklearn/externals/joblib/parallel.py:547: UserWarning: Multiprocessing-backed parallel loops cannot be nested, setting n_jobs=1\n",
      "  **self._backend_args)\n",
      "/usr/local/lib/python2.7/dist-packages/sklearn/externals/joblib/parallel.py:547: UserWarning: Multiprocessing-backed parallel loops cannot be nested, setting n_jobs=1\n",
      "  **self._backend_args)\n",
      "/usr/local/lib/python2.7/dist-packages/sklearn/externals/joblib/parallel.py:547: UserWarning: Multiprocessing-backed parallel loops cannot be nested, setting n_jobs=1\n",
      "  **self._backend_args)\n",
      "/usr/local/lib/python2.7/dist-packages/sklearn/externals/joblib/parallel.py:547: UserWarning: Multiprocessing-backed parallel loops cannot be nested, setting n_jobs=1\n",
      "  **self._backend_args)\n",
      "/usr/local/lib/python2.7/dist-packages/sklearn/externals/joblib/parallel.py:547: UserWarning: Multiprocessing-backed parallel loops cannot be nested, setting n_jobs=1\n",
      "  **self._backend_args)\n",
      "/usr/local/lib/python2.7/dist-packages/sklearn/externals/joblib/parallel.py:547: UserWarning: Multiprocessing-backed parallel loops cannot be nested, setting n_jobs=1\n",
      "  **self._backend_args)\n",
      "[Parallel(n_jobs=-1)]: Done 320 out of 320 | elapsed:  3.4min finished\n"
     ]
    },
    {
     "name": "stdout",
     "output_type": "stream",
     "text": [
      "KNeighborsClassifier(algorithm='auto', leaf_size=30, metric='minkowski',\n",
      "           metric_params=None, n_jobs=-1, n_neighbors=5, p=1,\n",
      "           weights='distance')\n"
     ]
    }
   ],
   "source": [
    "knn = KNN(n_jobs=-1)\n",
    "knn_params = {\n",
    "    'n_neighbors': [5,10,25,50,100],\n",
    "    'weights': ['uniform','distance'],\n",
    "    'algorithm': ('auto', 'ball_tree', 'kd_tree', 'brute'),\n",
    "    'p':[1,2]\n",
    "}\n",
    "gcv_knn = GridSearchCV(cv=4,estimator=knn,param_grid=knn_params,n_jobs=-1,scoring=score,verbose=1)\n",
    "gcv_knn.fit(X,y_enc)\n",
    "# scores = cross_val_score(clf, X, y, cv=5, scoring=score)\n",
    "\n",
    "print gcv_knn.best_estimator_"
   ]
  },
  {
   "cell_type": "code",
   "execution_count": 167,
   "metadata": {},
   "outputs": [
    {
     "name": "stdout",
     "output_type": "stream",
     "text": [
      "0.669801705702\n"
     ]
    },
    {
     "name": "stderr",
     "output_type": "stream",
     "text": [
      "[Parallel(n_jobs=-1)]: Done   4 out of   4 | elapsed:    1.0s remaining:    0.0s\n",
      "[Parallel(n_jobs=-1)]: Done   4 out of   4 | elapsed:    1.0s finished\n"
     ]
    },
    {
     "name": "stdout",
     "output_type": "stream",
     "text": [
      "0.66977957859 0.0151012433588\n"
     ]
    }
   ],
   "source": [
    "print gcv_knn.best_score_\n",
    "scores = cross_val_score(gcv_knn.best_estimator_,X,y_enc, cv=4,n_jobs=-1,scoring=score,verbose=1)\n",
    "\n",
    "print scores.mean(),scores.std()"
   ]
  },
  {
   "cell_type": "code",
   "execution_count": 112,
   "metadata": {},
   "outputs": [
    {
     "name": "stdout",
     "output_type": "stream",
     "text": [
      "KFold(n_splits=5, random_state=None, shuffle=False)\n",
      "1) f1_score :  0.795271667071\n",
      "2) f1_score :  0.851374047154\n",
      "3) f1_score :  0.797495437569\n",
      "4) f1_score :  0.774835746723\n",
      "5) f1_score :  0.836501830552\n"
     ]
    }
   ],
   "source": [
    "kf = KFold(n_splits=5)\n",
    "kf.get_n_splits(X)\n",
    "\n",
    "print(kf)  \n",
    "\n",
    "scaler = StandardScaler()\n",
    "\n",
    "scores = []\n",
    "count =1\n",
    "for train_index, test_index in kf.split(X):\n",
    "#     print(\"TRAIN:\", train_index, \"TEST:\", test_index)\n",
    "    X_train, X_test = X.iloc[train_index], X.iloc[test_index]\n",
    "    y_train, y_test = y_enc.iloc[train_index], y_enc.iloc[test_index]\n",
    "\n",
    "    X_train = scaler.fit_transform(X_train)\n",
    "\n",
    "    clf = RandomForestClassifier(n_estimators=150, max_depth=10, random_state=0, n_jobs=-1,class_weight=\"balanced_subsample\")\n",
    "    clf.fit(X_train,y_train)\n",
    "    \n",
    "    X_test = scaler.transform(X_test)\n",
    "    y_pred = clf.predict(X_test)\n",
    "#     print y_pred[:,1]\n",
    "    pop_score = f1_score(y_test[199325], y_pred[:,0], average='macro')\n",
    "    center_score = f1_score(y_test[199326], y_pred[:,1], average='macro')\n",
    "    scores.append((pop_score+center_score)/2.0)\n",
    "    print str(count) +\") f1_score : \", scores[-1]\n",
    "    count+=1"
   ]
  },
  {
   "cell_type": "code",
   "execution_count": 113,
   "metadata": {
    "scrolled": false
   },
   "outputs": [
    {
     "name": "stdout",
     "output_type": "stream",
     "text": [
      "The average f-1 score is  0.811095745814\n"
     ]
    }
   ],
   "source": [
    "print \"The average f-1 score is \",sum(scores)/len(scores)"
   ]
  },
  {
   "cell_type": "markdown",
   "metadata": {},
   "source": [
    "## MLPClassifier"
   ]
  },
  {
   "cell_type": "code",
   "execution_count": 37,
   "metadata": {
    "collapsed": true
   },
   "outputs": [],
   "source": [
    "with open(\"indices.pkl\", 'rb') as in_file:\n",
    "    indices = pkl.load(in_file)"
   ]
  },
  {
   "cell_type": "code",
   "execution_count": 39,
   "metadata": {
    "collapsed": true
   },
   "outputs": [],
   "source": [
    "with open(\"X_train_reduced.pkl\", 'rb') as in_file:\n",
    "    X = pkl.load(in_file)"
   ]
  },
  {
   "cell_type": "code",
   "execution_count": 40,
   "metadata": {
    "collapsed": true
   },
   "outputs": [],
   "source": [
    "with open(\"y.pkl\", 'rb') as in_file:\n",
    "    y = pkl.load(in_file)"
   ]
  },
  {
   "cell_type": "code",
   "execution_count": 63,
   "metadata": {
    "collapsed": true,
    "scrolled": true
   },
   "outputs": [],
   "source": [
    "## Performing 5 fold cross validation on MLP Classifier\n",
    "kf = KFold(n_splits=5)\n",
    "kf.get_n_splits(X)\n",
    "\n",
    "print(kf)  \n",
    "\n",
    "scaler = StandardScaler()\n",
    "\n",
    "scores = []\n",
    "count =1\n",
    "for train_index, test_index in kf.split(X):\n",
    "#     print(\"TRAIN:\", train_index, \"TEST:\", test_index)\n",
    "    X_train, X_test = X.iloc[train_index], X.iloc[test_index]\n",
    "    y_train, y_test = y.iloc[train_index], y.iloc[test_index]\n",
    "\n",
    "    X_train = scaler.fit_transform(X_train)\n",
    "\n",
    "    clf = MLPClassifier(hidden_layer_sizes=(256, 128), activation='logistic', #solver='lbfgs', #learning_rate='adaptive',\n",
    "                    verbose=False, tol=1e-5 ,max_iter=500, learning_rate_init=0.005\n",
    "#                     warm_start = True\n",
    "                   )\n",
    "    \n",
    "    clf.fit(X_train, y_train)\n",
    "    \n",
    "    X_test = scaler.transform(X_test)\n",
    "    y_pred = clf.predict(X_test)\n",
    "    scores.append(f1_score(y_test, y_pred, average='macro'))\n",
    "    print count,\") f1_score : \", scores[-1]\n",
    "    count+=1"
   ]
  },
  {
   "cell_type": "code",
   "execution_count": 62,
   "metadata": {},
   "outputs": [
    {
     "name": "stdout",
     "output_type": "stream",
     "text": [
      "The average f-1 score is  0.860651706532\n"
     ]
    }
   ],
   "source": [
    "print \"The average f-1 score is \",sum(scores)/len(scores)"
   ]
  },
  {
   "cell_type": "markdown",
   "metadata": {},
   "source": [
    "***\n",
    "## Data Flow pipeline\n",
    "\n",
    "Changing the approach\n",
    "    - Making a universal set of all distinct equivalence\n",
    "    - Given a population, we make a bit vector for all the equi_classes in that population\n",
    "    - Reducing the number of dimension\n",
    "    - Using that as a features to our last know best Classifier [MLP]\n",
    "    "
   ]
  },
  {
   "cell_type": "code",
   "execution_count": 65,
   "metadata": {
    "scrolled": true
   },
   "outputs": [
    {
     "name": "stdout",
     "output_type": "stream",
     "text": [
      "1\n",
      "2\n",
      "3\n",
      "4\n",
      "5\n",
      "6\n",
      "7\n",
      "8\n",
      "9\n",
      "10\n",
      "11\n",
      "12\n",
      "13\n",
      "14\n",
      "15\n",
      "16\n",
      "17\n",
      "18\n",
      "19\n",
      "20\n",
      "21\n",
      "22\n",
      "23\n",
      "24\n",
      "25\n",
      "26\n",
      "27\n",
      "28\n",
      "29\n",
      "30\n",
      "31\n",
      "32\n",
      "33\n",
      "34\n",
      "35\n",
      "36\n",
      "37\n",
      "38\n",
      "39\n",
      "40\n",
      "41\n",
      "42\n",
      "43\n",
      "44\n",
      "45\n",
      "46\n",
      "47\n",
      "48\n",
      "49\n",
      "50\n",
      "51\n",
      "52\n",
      "53\n",
      "54\n",
      "55\n",
      "56\n",
      "57\n",
      "58\n",
      "59\n"
     ]
    },
    {
     "ename": "KeyboardInterrupt",
     "evalue": "",
     "output_type": "error",
     "traceback": [
      "\u001b[1;31m---------------------------------------------------------------------------\u001b[0m",
      "\u001b[1;31mKeyboardInterrupt\u001b[0m                         Traceback (most recent call last)",
      "\u001b[1;32m<ipython-input-65-904f329ee8b0>\u001b[0m in \u001b[0;36m<module>\u001b[1;34m()\u001b[0m\n\u001b[0;32m     21\u001b[0m             \u001b[0mkey\u001b[0m \u001b[1;33m=\u001b[0m \u001b[0mint\u001b[0m\u001b[1;33m(\u001b[0m\u001b[1;34m''\u001b[0m\u001b[1;33m.\u001b[0m\u001b[0mjoin\u001b[0m\u001b[1;33m(\u001b[0m\u001b[0me\u001b[0m\u001b[1;33m[\u001b[0m\u001b[1;33m:\u001b[0m\u001b[1;33m-\u001b[0m\u001b[1;36m1\u001b[0m\u001b[1;33m]\u001b[0m\u001b[1;33m)\u001b[0m\u001b[1;33m)\u001b[0m\u001b[1;33m\u001b[0m\u001b[0m\n\u001b[0;32m     22\u001b[0m             \u001b[0mcur_eq_c\u001b[0m\u001b[1;33m[\u001b[0m\u001b[0mkey\u001b[0m\u001b[1;33m]\u001b[0m \u001b[1;33m=\u001b[0m \u001b[0mint\u001b[0m\u001b[1;33m(\u001b[0m\u001b[0me\u001b[0m\u001b[1;33m[\u001b[0m\u001b[1;33m-\u001b[0m\u001b[1;36m1\u001b[0m\u001b[1;33m]\u001b[0m\u001b[1;33m)\u001b[0m\u001b[1;33m\u001b[0m\u001b[0m\n\u001b[1;32m---> 23\u001b[1;33m             \u001b[0mmaster_set\u001b[0m\u001b[1;33m.\u001b[0m\u001b[0madd\u001b[0m\u001b[1;33m(\u001b[0m\u001b[0mkey\u001b[0m\u001b[1;33m)\u001b[0m\u001b[1;33m\u001b[0m\u001b[0m\n\u001b[0m\u001b[0;32m     24\u001b[0m     \u001b[1;32mexcept\u001b[0m \u001b[0mException\u001b[0m \u001b[1;32mas\u001b[0m \u001b[0merr\u001b[0m\u001b[1;33m:\u001b[0m\u001b[1;33m\u001b[0m\u001b[0m\n\u001b[0;32m     25\u001b[0m         \u001b[1;32mprint\u001b[0m \u001b[0merr\u001b[0m\u001b[1;33m\u001b[0m\u001b[0m\n",
      "\u001b[1;31mKeyboardInterrupt\u001b[0m: "
     ]
    }
   ],
   "source": [
    "folder_names = utilities.get_folder_names(\"./train/\")\n",
    "\n",
    "master_set = set()\n",
    "all_eq_c = {}\n",
    "count = 0\n",
    "for f in folder_names:\n",
    "    with open(\"./train/\" + f +\"/bias/aux_info/eq_classes.txt\") as eq_file:\n",
    "        eq_c = eq_file.read()\n",
    "\n",
    "    eq_c = eq_c.strip()\n",
    "    eq_c = eq_c.split(\"\\n\")\n",
    "    eq_c = eq_c[199326:]\n",
    "    \n",
    "    eq_c = np.array(eq_c)\n",
    "\n",
    "    cur_eq_c = {}\n",
    "    \n",
    "    try:\n",
    "        for i in range(len(eq_c)):\n",
    "            e = eq_c[i].split('\\t')\n",
    "            key = int(''.join(e[:-1]))\n",
    "            cur_eq_c[key] = int(e[-1])\n",
    "            master_set.add(key)\n",
    "    except Exception as err:\n",
    "        print err\n",
    "        print f,i\n",
    "    \n",
    "    all_eq_c[f] = cur_eq_c\n",
    "    count+=1\n",
    "    print count\n",
    "    gc.collect()\n",
    "    \n"
   ]
  },
  {
   "cell_type": "markdown",
   "metadata": {},
   "source": [
    "### Saving the new made sets"
   ]
  },
  {
   "cell_type": "code",
   "execution_count": 6,
   "metadata": {
    "collapsed": true
   },
   "outputs": [],
   "source": [
    "pkl.dump(master_set,open('master_set.pkl','wb'))"
   ]
  },
  {
   "cell_type": "code",
   "execution_count": 7,
   "metadata": {
    "collapsed": true
   },
   "outputs": [],
   "source": [
    "with open('all_eq_classes.pkl','wb') as f:\n",
    "    pkl.dump(all_eq_c,f)"
   ]
  },
  {
   "cell_type": "code",
   "execution_count": 9,
   "metadata": {},
   "outputs": [
    {
     "name": "stdout",
     "output_type": "stream",
     "text": [
      "0\n"
     ]
    }
   ],
   "source": [
    "tot_size = sys.getsizeof(all_eq_c.values())\n",
    "tot_size+= sum(map(sys.getsizeof,all_eq_c.itervalues()))\n",
    "print tot_size/(1024*1024)"
   ]
  },
  {
   "cell_type": "code",
   "execution_count": 2,
   "metadata": {},
   "outputs": [],
   "source": [
    "with open('./master_set.pkl', 'rb') as f:\n",
    "    master_set = pkl.load(f)\n",
    "    "
   ]
  },
  {
   "cell_type": "code",
   "execution_count": null,
   "metadata": {
    "collapsed": true
   },
   "outputs": [],
   "source": [
    "with open('./all_eq_classes.pkl', 'rb') as f:\n",
    "    all_eq_c = pkl.load(f)"
   ]
  },
  {
   "cell_type": "code",
   "execution_count": 8,
   "metadata": {
    "collapsed": true
   },
   "outputs": [],
   "source": [
    "for k in all_eq_c.keys():\n",
    "    with open('./all_equi_classes/'+k+'.pkl', 'wb') as out_file:\n",
    "        pkl.dump(all_eq_c[k], out_file)\n",
    "        del all_eq_c[k]"
   ]
  },
  {
   "cell_type": "code",
   "execution_count": 1,
   "metadata": {
    "scrolled": true
   },
   "outputs": [],
   "source": [
    "folder_names = utilities.get_folder_names(\"./train/\")\n",
    "master_set = list(master_set)\n",
    "\n",
    "for count, folder in enumerate(folder_names):\n",
    "#     with open('./eq_classes/'+folder+'.pkl') as acc_file:\n",
    "#         acc = pkl.load(acc_file)\n",
    "    acc = all_eq_c[folder]\n",
    "    \n",
    "    for i in range(len(master_set)):\n",
    "        cur = master_set[i]\n",
    "        if cur in acc:\n",
    "            acc[i] = acc[cur]\n",
    "            del acc[cur]\n",
    "    \n",
    "    with open('./eq_classes/'+folder+'.pkl', 'wb') as out_file:\n",
    "        pkl.dump(acc, out_file)\n",
    "    \n",
    "    gc.collect()\n",
    "    print count, \"folders done\""
   ]
  },
  {
   "cell_type": "code",
   "execution_count": 3,
   "metadata": {},
   "outputs": [],
   "source": [
    "folder_names = utilities.get_folder_names(\"./train/\")\n",
    "train = pd.DataFrame(np.zeros((len(folder_names),len(master_set))), index=folder_names)\n"
   ]
  },
  {
   "cell_type": "code",
   "execution_count": 4,
   "metadata": {
    "scrolled": true
   },
   "outputs": [
    {
     "name": "stdout",
     "output_type": "stream",
     "text": [
      "1\n",
      "2\n",
      "3\n",
      "4\n",
      "5\n",
      "6\n",
      "7\n",
      "8\n",
      "9\n",
      "10\n",
      "11\n",
      "12\n",
      "13\n",
      "14\n",
      "15\n",
      "16\n",
      "17\n",
      "18\n",
      "19\n",
      "20\n",
      "21\n",
      "22\n",
      "23\n",
      "24\n",
      "25\n",
      "26\n",
      "27\n",
      "28\n",
      "29\n",
      "30\n",
      "31\n",
      "32\n",
      "33\n",
      "34\n",
      "35\n",
      "36\n",
      "37\n",
      "38\n",
      "39\n",
      "40\n",
      "41\n",
      "42\n",
      "43\n",
      "44\n",
      "45\n",
      "46\n",
      "47\n",
      "48\n",
      "49\n",
      "50\n",
      "51\n",
      "52\n",
      "53\n",
      "54\n",
      "55\n",
      "56\n",
      "57\n",
      "58\n",
      "59\n",
      "60\n",
      "61\n",
      "62\n",
      "63\n",
      "64\n",
      "65\n",
      "66\n",
      "67\n",
      "68\n",
      "69\n",
      "70\n",
      "71\n",
      "72\n",
      "73\n",
      "74\n",
      "75\n",
      "76\n",
      "77\n",
      "78\n",
      "79\n",
      "80\n",
      "81\n",
      "82\n",
      "83\n",
      "84\n",
      "85\n",
      "86\n",
      "87\n",
      "88\n",
      "89\n",
      "90\n",
      "91\n",
      "92\n",
      "93\n",
      "94\n",
      "95\n",
      "96\n",
      "97\n",
      "98\n",
      "99\n",
      "100\n",
      "101\n",
      "102\n",
      "103\n",
      "104\n",
      "105\n",
      "106\n",
      "107\n",
      "108\n",
      "109\n",
      "110\n",
      "111\n",
      "112\n",
      "113\n",
      "114\n",
      "115\n",
      "116\n",
      "117\n",
      "118\n",
      "119\n",
      "120\n",
      "121\n",
      "122\n",
      "123\n",
      "124\n",
      "125\n",
      "126\n",
      "127\n",
      "128\n",
      "129\n",
      "130\n",
      "131\n",
      "132\n",
      "133\n",
      "134\n",
      "135\n",
      "136\n",
      "137\n",
      "138\n",
      "139\n",
      "140\n",
      "141\n",
      "142\n",
      "143\n",
      "144\n",
      "145\n",
      "146\n",
      "147\n",
      "148\n",
      "149\n",
      "150\n",
      "151\n",
      "152\n",
      "153\n",
      "154\n",
      "155\n",
      "156\n",
      "157\n",
      "158\n",
      "159\n",
      "160\n",
      "161\n",
      "162\n",
      "163\n",
      "164\n",
      "165\n",
      "166\n",
      "167\n",
      "168\n",
      "169\n",
      "170\n",
      "171\n",
      "172\n",
      "173\n",
      "174\n",
      "175\n",
      "176\n",
      "177\n",
      "178\n",
      "179\n",
      "180\n",
      "181\n",
      "182\n",
      "183\n",
      "184\n",
      "185\n",
      "186\n",
      "187\n",
      "188\n",
      "189\n",
      "190\n",
      "191\n",
      "192\n",
      "193\n",
      "194\n",
      "195\n",
      "196\n",
      "197\n",
      "198\n",
      "199\n",
      "200\n",
      "201\n",
      "202\n",
      "203\n",
      "204\n",
      "205\n",
      "206\n",
      "207\n",
      "208\n",
      "209\n",
      "210\n",
      "211\n",
      "212\n",
      "213\n",
      "214\n",
      "215\n",
      "216\n",
      "217\n",
      "218\n",
      "219\n",
      "220\n",
      "221\n",
      "222\n",
      "223\n",
      "224\n",
      "225\n",
      "226\n",
      "227\n",
      "228\n",
      "229\n",
      "230\n",
      "231\n",
      "232\n",
      "233\n",
      "234\n",
      "235\n",
      "236\n",
      "237\n",
      "238\n",
      "239\n",
      "240\n",
      "241\n",
      "242\n",
      "243\n",
      "244\n",
      "245\n",
      "246\n",
      "247\n",
      "248\n",
      "249\n",
      "250\n",
      "251\n",
      "252\n",
      "253\n",
      "254\n",
      "255\n",
      "256\n",
      "257\n",
      "258\n",
      "259\n",
      "260\n",
      "261\n",
      "262\n",
      "263\n",
      "264\n",
      "265\n",
      "266\n",
      "267\n",
      "268\n",
      "269\n",
      "270\n",
      "271\n",
      "272\n",
      "273\n",
      "274\n",
      "275\n",
      "276\n",
      "277\n",
      "278\n",
      "279\n",
      "280\n",
      "281\n",
      "282\n",
      "283\n",
      "284\n",
      "285\n",
      "286\n",
      "287\n",
      "288\n",
      "289\n",
      "290\n",
      "291\n",
      "292\n",
      "293\n",
      "294\n",
      "295\n",
      "296\n",
      "297\n",
      "298\n",
      "299\n",
      "300\n",
      "301\n",
      "302\n",
      "303\n",
      "304\n",
      "305\n",
      "306\n",
      "307\n",
      "308\n",
      "309\n",
      "310\n",
      "311\n",
      "312\n",
      "313\n",
      "314\n",
      "315\n",
      "316\n",
      "317\n",
      "318\n",
      "319\n",
      "320\n",
      "321\n",
      "322\n",
      "323\n",
      "324\n",
      "325\n",
      "326\n",
      "327\n",
      "328\n",
      "329\n",
      "330\n",
      "331\n",
      "332\n",
      "333\n",
      "334\n",
      "335\n",
      "336\n",
      "337\n",
      "338\n",
      "339\n",
      "340\n",
      "341\n",
      "342\n",
      "343\n",
      "344\n",
      "345\n",
      "346\n",
      "347\n",
      "348\n",
      "349\n",
      "350\n",
      "351\n",
      "352\n",
      "353\n",
      "354\n",
      "355\n",
      "356\n",
      "357\n",
      "358\n",
      "359\n",
      "360\n",
      "361\n",
      "362\n",
      "363\n",
      "364\n",
      "365\n",
      "366\n",
      "367\n",
      "368\n",
      "369\n"
     ]
    }
   ],
   "source": [
    "count = 1\n",
    "for folder in folder_names:\n",
    "    print count\n",
    "    count+=1\n",
    "    with open('./eq_classes/'+folder+'.pkl') as acc_file:\n",
    "        acc = pkl.load(acc_file)\n",
    "\n",
    "    classes = pd.Series(acc)\n",
    "    classes.fillna(0, inplace=True)\n",
    "    \n",
    "    train.loc[folder] = classes\n",
    "    "
   ]
  },
  {
   "cell_type": "code",
   "execution_count": 5,
   "metadata": {},
   "outputs": [],
   "source": [
    "train.fillna(0, inplace=True)\n",
    "# train = train.astype('int32')"
   ]
  },
  {
   "cell_type": "code",
   "execution_count": 6,
   "metadata": {},
   "outputs": [],
   "source": [
    "train = train.astype('int16')"
   ]
  },
  {
   "cell_type": "code",
   "execution_count": 7,
   "metadata": {},
   "outputs": [
    {
     "data": {
      "text/plain": [
       "428"
      ]
     },
     "execution_count": 7,
     "metadata": {},
     "output_type": "execute_result"
    }
   ],
   "source": [
    "# del master_set\n",
    "# del all_eq_c\n",
    "gc.collect()"
   ]
  },
  {
   "cell_type": "code",
   "execution_count": 12,
   "metadata": {},
   "outputs": [
    {
     "name": "stdout",
     "output_type": "stream",
     "text": [
      "<class 'pandas.core.frame.DataFrame'>\n",
      "Index: 369 entries, ERR188021 to ERR188482\n",
      "Columns: 1235737 entries, 0 to 1235736\n",
      "dtypes: float64(1235737)\n",
      "memory usage: 3.4+ GB\n"
     ]
    }
   ],
   "source": [
    "train.info()"
   ]
  },
  {
   "cell_type": "code",
   "execution_count": 8,
   "metadata": {
    "scrolled": true
   },
   "outputs": [],
   "source": [
    "label = pd.read_csv('p1_train_pop_lab.csv', index_col=0)\n",
    "train = train.merge(label, left_index=True, right_index=True)\n",
    "# train"
   ]
  },
  {
   "cell_type": "markdown",
   "metadata": {},
   "source": [
    "## Dimensionality Reduction and K-fold Cross Validation"
   ]
  },
  {
   "cell_type": "markdown",
   "metadata": {},
   "source": [
    "### Both labels together"
   ]
  },
  {
   "cell_type": "code",
   "execution_count": 13,
   "metadata": {},
   "outputs": [],
   "source": [
    "X = train.drop(['population', 'sequencing_center'], axis=1)\n",
    "Y = train[['population', 'sequencing_center']]"
   ]
  },
  {
   "cell_type": "code",
   "execution_count": 14,
   "metadata": {},
   "outputs": [],
   "source": [
    "## Performing 5 fold cross validation on MLP Classifier\n",
    "kf = KFold(n_splits=5)\n",
    "kf.get_n_splits(X)\n",
    "\n",
    "mlb = MultiLabelBinarizer()\n",
    "y = mlb.fit_transform(Y.as_matrix())\n",
    "y = pd.DataFrame(y)"
   ]
  },
  {
   "cell_type": "code",
   "execution_count": 24,
   "metadata": {},
   "outputs": [
    {
     "name": "stdout",
     "output_type": "stream",
     "text": [
      "KFold(n_splits=5, random_state=None, shuffle=False)\n",
      "1 ) f1_score :  0.854989614836\n",
      "2 ) f1_score :  0.900908119658\n",
      "3 ) f1_score :  0.897299836718\n",
      "4 ) f1_score :  0.886236990759\n",
      "5 ) f1_score :  0.893448828807\n",
      "The average f-1 score is  0.886576678156\n"
     ]
    }
   ],
   "source": [
    "print(kf)  \n",
    "\n",
    "scaler = StandardScaler()\n",
    "\n",
    "scores = []\n",
    "count =1\n",
    "\n",
    "for train_index, test_index in kf.split(X):\n",
    "#     print(\"TRAIN:\", train_index, \"TEST:\", test_index)\n",
    "    X_train, X_test = X.iloc[train_index], X.iloc[test_index]\n",
    "    y_train, y_test = y.iloc[train_index], y.iloc[test_index]\n",
    "    \n",
    "    forest = ExtraTreesClassifier(n_estimators=250, n_jobs=-1, bootstrap=True, oob_score=True, verbose=0,\n",
    "                              random_state=0)\n",
    "\n",
    "    # using out-of-bag samples for testing generalization accuracy\n",
    "\n",
    "    forest.fit(X_train, y_train)\n",
    "    importances = forest.feature_importances_\n",
    "\n",
    "    indices = np.argsort(importances)[::-1]\n",
    "\n",
    "    \n",
    "    X_train = X_train.iloc[:, indices[:25000]]\n",
    "    X_test = X_test.iloc[:,indices[:25000]]\n",
    "    X_train = scaler.fit_transform(X_train)\n",
    "\n",
    "    clf = MLPClassifier(hidden_layer_sizes=(256, 128), activation='logistic', #solver='lbfgs', #learning_rate='adaptive',\n",
    "                    verbose=False, tol=1e-5 ,max_iter=500, learning_rate_init=0.005\n",
    "#                     warm_start = True\n",
    "                   )\n",
    "    \n",
    "    clf.fit(X_train, y_train)\n",
    "    \n",
    "    X_test = scaler.transform(X_test)\n",
    "    y_pred = clf.predict(X_test)\n",
    "    scores.append(f1_score(y_test, y_pred, average='macro'))\n",
    "    print count,\") f1_score : \", scores[-1]\n",
    "    count+=1\n",
    "    \n",
    "print \"The average f-1 score is \",sum(scores)/len(scores)"
   ]
  },
  {
   "cell_type": "code",
   "execution_count": 15,
   "metadata": {
    "scrolled": true
   },
   "outputs": [
    {
     "name": "stdout",
     "output_type": "stream",
     "text": [
      "Iteration 1, loss = 7.32607382\n",
      "Iteration 2, loss = 4.97176306\n",
      "Iteration 3, loss = 4.86750125\n",
      "Iteration 4, loss = 4.90735650\n",
      "Iteration 5, loss = 4.78165631\n",
      "Iteration 6, loss = 4.56367620\n",
      "Iteration 7, loss = 4.33871958\n",
      "Iteration 8, loss = 4.15616584\n",
      "Iteration 9, loss = 4.01506739\n",
      "Iteration 10, loss = 3.88881694\n",
      "Iteration 11, loss = 3.76518047\n",
      "Iteration 12, loss = 3.63370226\n",
      "Iteration 13, loss = 3.50681745\n",
      "Iteration 14, loss = 3.38176209\n",
      "Iteration 15, loss = 3.25393049\n",
      "Iteration 16, loss = 3.12855726\n",
      "Iteration 17, loss = 2.99799317\n",
      "Iteration 18, loss = 2.87192923\n",
      "Iteration 19, loss = 2.75625107\n",
      "Iteration 20, loss = 2.63658040\n",
      "Iteration 21, loss = 2.51791778\n",
      "Iteration 22, loss = 2.39780676\n",
      "Iteration 23, loss = 2.27591009\n",
      "Iteration 24, loss = 2.16038470\n",
      "Iteration 25, loss = 2.04418623\n",
      "Iteration 26, loss = 1.92673366\n",
      "Iteration 27, loss = 1.81208284\n",
      "Iteration 28, loss = 1.69978137\n",
      "Iteration 29, loss = 1.59979782\n",
      "Iteration 30, loss = 1.50093172\n",
      "Iteration 31, loss = 1.40264416\n",
      "Iteration 32, loss = 1.31016696\n",
      "Iteration 33, loss = 1.22564585\n",
      "Iteration 34, loss = 1.15154300\n",
      "Iteration 35, loss = 1.07996349\n",
      "Iteration 36, loss = 1.01187245\n",
      "Iteration 37, loss = 0.94941014\n",
      "Iteration 38, loss = 0.88596116\n",
      "Iteration 39, loss = 0.82622058\n",
      "Iteration 40, loss = 0.77818336\n",
      "Iteration 41, loss = 0.72918149\n",
      "Iteration 42, loss = 0.68752744\n",
      "Iteration 43, loss = 0.64918739\n",
      "Iteration 44, loss = 0.61327488\n",
      "Iteration 45, loss = 0.57848054\n",
      "Iteration 46, loss = 0.54706528\n",
      "Iteration 47, loss = 0.51736374\n",
      "Iteration 48, loss = 0.48912450\n",
      "Iteration 49, loss = 0.46396425\n",
      "Iteration 50, loss = 0.44112339\n",
      "Iteration 51, loss = 0.42056105\n",
      "Iteration 52, loss = 0.40071089\n",
      "Iteration 53, loss = 0.38186989\n",
      "Iteration 54, loss = 0.36489599\n",
      "Iteration 55, loss = 0.34838674\n",
      "Iteration 56, loss = 0.33464710\n",
      "Iteration 57, loss = 0.32070758\n",
      "Iteration 58, loss = 0.30810856\n",
      "Iteration 59, loss = 0.29628144\n",
      "Iteration 60, loss = 0.28515782\n",
      "Iteration 61, loss = 0.27464149\n",
      "Iteration 62, loss = 0.26501892\n",
      "Iteration 63, loss = 0.25599636\n",
      "Iteration 64, loss = 0.24723057\n",
      "Iteration 65, loss = 0.23885403\n",
      "Iteration 66, loss = 0.23103759\n",
      "Iteration 67, loss = 0.22377764\n",
      "Iteration 68, loss = 0.21697617\n",
      "Iteration 69, loss = 0.21052522\n",
      "Iteration 70, loss = 0.20452886\n",
      "Iteration 71, loss = 0.19871436\n",
      "Iteration 72, loss = 0.19328380\n",
      "Iteration 73, loss = 0.18812691\n",
      "Iteration 74, loss = 0.18313663\n",
      "Iteration 75, loss = 0.17849395\n",
      "Iteration 76, loss = 0.17396055\n",
      "Iteration 77, loss = 0.16969549\n",
      "Iteration 78, loss = 0.16560721\n",
      "Iteration 79, loss = 0.16160293\n",
      "Iteration 80, loss = 0.15779557\n",
      "Iteration 81, loss = 0.15403027\n",
      "Iteration 82, loss = 0.15055639\n",
      "Iteration 83, loss = 0.14716558\n",
      "Iteration 84, loss = 0.14397932\n",
      "Iteration 85, loss = 0.14086846\n",
      "Iteration 86, loss = 0.13786926\n",
      "Iteration 87, loss = 0.13496667\n",
      "Iteration 88, loss = 0.13224552\n",
      "Iteration 89, loss = 0.12943658\n",
      "Iteration 90, loss = 0.12693654\n",
      "Iteration 91, loss = 0.12439811\n",
      "Iteration 92, loss = 0.12199278\n",
      "Iteration 93, loss = 0.11964015\n",
      "Iteration 94, loss = 0.11738954\n",
      "Iteration 95, loss = 0.11521551\n",
      "Iteration 96, loss = 0.11308628\n",
      "Iteration 97, loss = 0.11107232\n",
      "Iteration 98, loss = 0.10908846\n",
      "Iteration 99, loss = 0.10718719\n",
      "Iteration 100, loss = 0.10530425\n",
      "Iteration 101, loss = 0.10351135\n",
      "Iteration 102, loss = 0.10174839\n",
      "Iteration 103, loss = 0.10003280\n",
      "Iteration 104, loss = 0.09833637\n",
      "Iteration 105, loss = 0.09671733\n",
      "Iteration 106, loss = 0.09514717\n",
      "Iteration 107, loss = 0.09363079\n",
      "Iteration 108, loss = 0.09211622\n",
      "Iteration 109, loss = 0.09065378\n",
      "Iteration 110, loss = 0.08924919\n",
      "Iteration 111, loss = 0.08785953\n",
      "Iteration 112, loss = 0.08652626\n",
      "Iteration 113, loss = 0.08519885\n",
      "Iteration 114, loss = 0.08395231\n",
      "Iteration 115, loss = 0.08271673\n",
      "Iteration 116, loss = 0.08149594\n",
      "Iteration 117, loss = 0.08032517\n",
      "Iteration 118, loss = 0.07919957\n",
      "Iteration 119, loss = 0.07806847\n",
      "Iteration 120, loss = 0.07697907\n",
      "Iteration 121, loss = 0.07590476\n",
      "Iteration 122, loss = 0.07485447\n",
      "Iteration 123, loss = 0.07383995\n",
      "Iteration 124, loss = 0.07284469\n",
      "Iteration 125, loss = 0.07187953\n",
      "Iteration 126, loss = 0.07092893\n",
      "Iteration 127, loss = 0.07000874\n",
      "Iteration 128, loss = 0.06910185\n",
      "Iteration 129, loss = 0.06822058\n",
      "Iteration 130, loss = 0.06733386\n",
      "Iteration 131, loss = 0.06647990\n",
      "Iteration 132, loss = 0.06564467\n",
      "Iteration 133, loss = 0.06483917\n",
      "Iteration 134, loss = 0.06402784\n",
      "Iteration 135, loss = 0.06324605\n",
      "Iteration 136, loss = 0.06245985\n",
      "Iteration 137, loss = 0.06171311\n",
      "Iteration 138, loss = 0.06098714\n",
      "Iteration 139, loss = 0.06028170\n",
      "Iteration 140, loss = 0.05956384\n",
      "Iteration 141, loss = 0.05888239\n",
      "Iteration 142, loss = 0.05820032\n",
      "Iteration 143, loss = 0.05754038\n",
      "Iteration 144, loss = 0.05689101\n",
      "Iteration 145, loss = 0.05625748\n",
      "Iteration 146, loss = 0.05563792\n",
      "Iteration 147, loss = 0.05502469\n",
      "Iteration 148, loss = 0.05442815\n",
      "Iteration 149, loss = 0.05384098\n",
      "Iteration 150, loss = 0.05325508\n",
      "Iteration 151, loss = 0.05269366\n",
      "Iteration 152, loss = 0.05212974\n",
      "Iteration 153, loss = 0.05157736\n",
      "Iteration 154, loss = 0.05102567\n",
      "Iteration 155, loss = 0.05049728\n",
      "Iteration 156, loss = 0.04997791\n",
      "Iteration 157, loss = 0.04947468\n",
      "Iteration 158, loss = 0.04896753\n",
      "Iteration 159, loss = 0.04847798\n",
      "Iteration 160, loss = 0.04799874\n",
      "Iteration 161, loss = 0.04751687\n",
      "Iteration 162, loss = 0.04704955\n",
      "Iteration 163, loss = 0.04658781\n",
      "Iteration 164, loss = 0.04613798\n",
      "Iteration 165, loss = 0.04569226\n",
      "Iteration 166, loss = 0.04525493\n",
      "Iteration 167, loss = 0.04482877\n",
      "Iteration 168, loss = 0.04439548\n",
      "Iteration 169, loss = 0.04397728\n",
      "Iteration 170, loss = 0.04356285\n",
      "Iteration 171, loss = 0.04315832\n",
      "Iteration 172, loss = 0.04275881\n",
      "Iteration 173, loss = 0.04236552\n",
      "Iteration 174, loss = 0.04197690\n",
      "Iteration 175, loss = 0.04160260\n",
      "Iteration 176, loss = 0.04122971\n",
      "Iteration 177, loss = 0.04086068\n",
      "Iteration 178, loss = 0.04050148\n",
      "Iteration 179, loss = 0.04014109\n",
      "Iteration 180, loss = 0.03978022\n",
      "Iteration 181, loss = 0.03943203\n",
      "Iteration 182, loss = 0.03909303\n",
      "Iteration 183, loss = 0.03874871\n",
      "Iteration 184, loss = 0.03841401\n",
      "Iteration 185, loss = 0.03808981\n",
      "Iteration 186, loss = 0.03777316\n",
      "Iteration 187, loss = 0.03745399\n",
      "Iteration 188, loss = 0.03714665\n",
      "Iteration 189, loss = 0.03683375\n",
      "Iteration 190, loss = 0.03653165\n",
      "Iteration 191, loss = 0.03623841\n",
      "Iteration 192, loss = 0.03594284\n",
      "Iteration 193, loss = 0.03565443\n",
      "Iteration 194, loss = 0.03536937\n",
      "Iteration 195, loss = 0.03508710\n",
      "Iteration 196, loss = 0.03480604\n",
      "Iteration 197, loss = 0.03453742\n",
      "Iteration 198, loss = 0.03425826\n",
      "Iteration 199, loss = 0.03399092\n",
      "Iteration 200, loss = 0.03371552\n",
      "Iteration 201, loss = 0.03345532\n",
      "Iteration 202, loss = 0.03319333\n",
      "Iteration 203, loss = 0.03294384\n",
      "Iteration 204, loss = 0.03269415\n",
      "Iteration 205, loss = 0.03244482\n",
      "Iteration 206, loss = 0.03220378\n",
      "Iteration 207, loss = 0.03196093\n",
      "Iteration 208, loss = 0.03171651\n",
      "Iteration 209, loss = 0.03148434\n",
      "Iteration 210, loss = 0.03125706\n",
      "Iteration 211, loss = 0.03102382\n",
      "Iteration 212, loss = 0.03079805\n",
      "Iteration 213, loss = 0.03057771\n",
      "Iteration 214, loss = 0.03035451\n",
      "Iteration 215, loss = 0.03014128\n",
      "Iteration 216, loss = 0.02992715\n",
      "Iteration 217, loss = 0.02971618\n",
      "Iteration 218, loss = 0.02950795\n",
      "Iteration 219, loss = 0.02930361\n",
      "Iteration 220, loss = 0.02909386\n",
      "Iteration 221, loss = 0.02889259\n",
      "Iteration 222, loss = 0.02869264\n",
      "Iteration 223, loss = 0.02849517\n",
      "Iteration 224, loss = 0.02830203\n",
      "Iteration 225, loss = 0.02810764\n",
      "Iteration 226, loss = 0.02792018\n",
      "Iteration 227, loss = 0.02773031\n",
      "Iteration 228, loss = 0.02754582\n",
      "Iteration 229, loss = 0.02736319\n",
      "Iteration 230, loss = 0.02718214\n",
      "Iteration 231, loss = 0.02700510\n",
      "Iteration 232, loss = 0.02682495\n",
      "Iteration 233, loss = 0.02665157\n",
      "Iteration 234, loss = 0.02647794\n",
      "Iteration 235, loss = 0.02630459\n",
      "Iteration 236, loss = 0.02613450\n",
      "Iteration 237, loss = 0.02596920\n",
      "Iteration 238, loss = 0.02580233\n",
      "Iteration 239, loss = 0.02564030\n",
      "Iteration 240, loss = 0.02547930\n",
      "Iteration 241, loss = 0.02531903\n",
      "Iteration 242, loss = 0.02516086\n",
      "Iteration 243, loss = 0.02500334\n",
      "Iteration 244, loss = 0.02484906\n",
      "Iteration 245, loss = 0.02469626\n",
      "Iteration 246, loss = 0.02454418\n",
      "Iteration 247, loss = 0.02439391\n",
      "Iteration 248, loss = 0.02424691\n",
      "Iteration 249, loss = 0.02410181\n",
      "Iteration 250, loss = 0.02395683\n",
      "Iteration 251, loss = 0.02381461\n",
      "Iteration 252, loss = 0.02366957\n"
     ]
    },
    {
     "name": "stdout",
     "output_type": "stream",
     "text": [
      "Iteration 253, loss = 0.02352983\n",
      "Iteration 254, loss = 0.02339224\n",
      "Iteration 255, loss = 0.02325609\n",
      "Iteration 256, loss = 0.02311991\n",
      "Iteration 257, loss = 0.02298501\n",
      "Iteration 258, loss = 0.02285148\n",
      "Iteration 259, loss = 0.02272003\n",
      "Iteration 260, loss = 0.02258752\n",
      "Iteration 261, loss = 0.02245638\n",
      "Iteration 262, loss = 0.02232928\n",
      "Iteration 263, loss = 0.02220084\n",
      "Iteration 264, loss = 0.02207480\n",
      "Iteration 265, loss = 0.02194891\n",
      "Iteration 266, loss = 0.02182541\n",
      "Iteration 267, loss = 0.02170386\n",
      "Iteration 268, loss = 0.02158174\n",
      "Iteration 269, loss = 0.02146219\n",
      "Iteration 270, loss = 0.02134520\n",
      "Iteration 271, loss = 0.02122685\n",
      "Iteration 272, loss = 0.02110953\n",
      "Iteration 273, loss = 0.02099402\n",
      "Iteration 274, loss = 0.02087973\n",
      "Iteration 275, loss = 0.02076518\n",
      "Iteration 276, loss = 0.02065390\n",
      "Iteration 277, loss = 0.02054241\n",
      "Iteration 278, loss = 0.02043226\n",
      "Iteration 279, loss = 0.02032515\n",
      "Iteration 280, loss = 0.02021392\n",
      "Iteration 281, loss = 0.02010871\n",
      "Iteration 282, loss = 0.02000240\n",
      "Iteration 283, loss = 0.01989720\n",
      "Iteration 284, loss = 0.01979423\n",
      "Iteration 285, loss = 0.01969055\n",
      "Iteration 286, loss = 0.01959057\n",
      "Iteration 287, loss = 0.01948741\n",
      "Iteration 288, loss = 0.01938734\n",
      "Iteration 289, loss = 0.01928863\n",
      "Iteration 290, loss = 0.01918928\n",
      "Iteration 291, loss = 0.01909230\n",
      "Iteration 292, loss = 0.01899496\n",
      "Iteration 293, loss = 0.01889798\n",
      "Iteration 294, loss = 0.01879980\n",
      "Iteration 295, loss = 0.01870598\n",
      "Iteration 296, loss = 0.01861198\n",
      "Iteration 297, loss = 0.01851887\n",
      "Iteration 298, loss = 0.01842699\n",
      "Iteration 299, loss = 0.01833581\n",
      "Iteration 300, loss = 0.01824557\n",
      "Iteration 301, loss = 0.01815660\n",
      "Iteration 302, loss = 0.01806677\n",
      "Iteration 303, loss = 0.01797979\n",
      "Iteration 304, loss = 0.01789122\n",
      "Iteration 305, loss = 0.01780628\n",
      "Iteration 306, loss = 0.01772025\n",
      "Iteration 307, loss = 0.01763510\n",
      "Iteration 308, loss = 0.01755078\n",
      "Iteration 309, loss = 0.01746757\n",
      "Iteration 310, loss = 0.01738329\n",
      "Iteration 311, loss = 0.01730196\n",
      "Iteration 312, loss = 0.01721900\n",
      "Iteration 313, loss = 0.01713899\n",
      "Iteration 314, loss = 0.01705735\n",
      "Iteration 315, loss = 0.01697703\n",
      "Iteration 316, loss = 0.01689769\n",
      "Iteration 317, loss = 0.01681943\n",
      "Iteration 318, loss = 0.01674116\n",
      "Iteration 319, loss = 0.01666373\n",
      "Iteration 320, loss = 0.01658719\n",
      "Iteration 321, loss = 0.01651161\n",
      "Iteration 322, loss = 0.01643606\n",
      "Iteration 323, loss = 0.01636071\n",
      "Iteration 324, loss = 0.01628593\n",
      "Iteration 325, loss = 0.01621284\n",
      "Iteration 326, loss = 0.01613987\n",
      "Iteration 327, loss = 0.01606663\n",
      "Iteration 328, loss = 0.01599570\n",
      "Iteration 329, loss = 0.01592359\n",
      "Iteration 330, loss = 0.01585486\n",
      "Iteration 331, loss = 0.01578358\n",
      "Iteration 332, loss = 0.01571395\n",
      "Iteration 333, loss = 0.01564513\n",
      "Iteration 334, loss = 0.01557656\n",
      "Iteration 335, loss = 0.01550910\n",
      "Iteration 336, loss = 0.01544020\n",
      "Iteration 337, loss = 0.01537420\n",
      "Iteration 338, loss = 0.01530725\n",
      "Iteration 339, loss = 0.01524162\n",
      "Iteration 340, loss = 0.01517589\n",
      "Iteration 341, loss = 0.01511132\n",
      "Iteration 342, loss = 0.01504650\n",
      "Iteration 343, loss = 0.01498184\n",
      "Iteration 344, loss = 0.01491779\n",
      "Iteration 345, loss = 0.01485395\n",
      "Iteration 346, loss = 0.01479000\n",
      "Iteration 347, loss = 0.01472707\n",
      "Iteration 348, loss = 0.01466475\n",
      "Iteration 349, loss = 0.01460275\n",
      "Iteration 350, loss = 0.01454195\n",
      "Iteration 351, loss = 0.01448086\n",
      "Iteration 352, loss = 0.01442089\n",
      "Iteration 353, loss = 0.01436133\n",
      "Iteration 354, loss = 0.01430180\n",
      "Iteration 355, loss = 0.01424309\n",
      "Iteration 356, loss = 0.01418401\n",
      "Iteration 357, loss = 0.01412582\n",
      "Iteration 358, loss = 0.01406828\n",
      "Iteration 359, loss = 0.01401096\n",
      "Iteration 360, loss = 0.01395471\n",
      "Iteration 361, loss = 0.01389741\n",
      "Iteration 362, loss = 0.01384084\n",
      "Iteration 363, loss = 0.01378466\n",
      "Iteration 364, loss = 0.01373017\n",
      "Iteration 365, loss = 0.01367582\n",
      "Iteration 366, loss = 0.01362127\n",
      "Iteration 367, loss = 0.01356717\n",
      "Iteration 368, loss = 0.01351244\n",
      "Iteration 369, loss = 0.01345819\n",
      "Iteration 370, loss = 0.01340472\n",
      "Iteration 371, loss = 0.01335245\n",
      "Iteration 372, loss = 0.01329958\n",
      "Iteration 373, loss = 0.01324765\n",
      "Iteration 374, loss = 0.01319558\n",
      "Iteration 375, loss = 0.01314442\n",
      "Iteration 376, loss = 0.01309307\n",
      "Iteration 377, loss = 0.01304339\n",
      "Iteration 378, loss = 0.01299264\n",
      "Iteration 379, loss = 0.01294275\n",
      "Iteration 380, loss = 0.01289317\n",
      "Iteration 381, loss = 0.01284438\n",
      "Iteration 382, loss = 0.01279463\n",
      "Iteration 383, loss = 0.01274634\n",
      "Iteration 384, loss = 0.01269775\n",
      "Iteration 385, loss = 0.01265060\n",
      "Iteration 386, loss = 0.01260281\n",
      "Iteration 387, loss = 0.01255507\n",
      "Iteration 388, loss = 0.01250748\n",
      "Iteration 389, loss = 0.01246106\n",
      "Iteration 390, loss = 0.01241518\n",
      "Iteration 391, loss = 0.01236817\n",
      "Iteration 392, loss = 0.01232220\n",
      "Iteration 393, loss = 0.01227618\n",
      "Iteration 394, loss = 0.01223085\n",
      "Iteration 395, loss = 0.01218510\n",
      "Iteration 396, loss = 0.01213936\n",
      "Iteration 397, loss = 0.01209474\n",
      "Iteration 398, loss = 0.01204858\n",
      "Iteration 399, loss = 0.01200273\n",
      "Iteration 400, loss = 0.01195926\n",
      "Iteration 401, loss = 0.01191649\n",
      "Iteration 402, loss = 0.01187346\n",
      "Iteration 403, loss = 0.01183061\n",
      "Iteration 404, loss = 0.01178833\n",
      "Iteration 405, loss = 0.01174556\n",
      "Iteration 406, loss = 0.01170290\n",
      "Iteration 407, loss = 0.01166129\n",
      "Iteration 408, loss = 0.01161920\n",
      "Iteration 409, loss = 0.01157788\n",
      "Iteration 410, loss = 0.01153642\n",
      "Iteration 411, loss = 0.01149524\n",
      "Iteration 412, loss = 0.01145432\n",
      "Iteration 413, loss = 0.01141351\n",
      "Iteration 414, loss = 0.01137334\n",
      "Iteration 415, loss = 0.01133316\n",
      "Iteration 416, loss = 0.01129370\n",
      "Iteration 417, loss = 0.01125435\n",
      "Iteration 418, loss = 0.01121548\n",
      "Iteration 419, loss = 0.01117636\n",
      "Iteration 420, loss = 0.01113790\n",
      "Iteration 421, loss = 0.01109979\n",
      "Iteration 422, loss = 0.01106170\n",
      "Iteration 423, loss = 0.01102339\n",
      "Iteration 424, loss = 0.01098587\n",
      "Iteration 425, loss = 0.01094839\n",
      "Iteration 426, loss = 0.01091105\n",
      "Iteration 427, loss = 0.01087433\n",
      "Iteration 428, loss = 0.01083728\n",
      "Iteration 429, loss = 0.01080090\n",
      "Iteration 430, loss = 0.01076406\n",
      "Iteration 431, loss = 0.01072815\n",
      "Iteration 432, loss = 0.01069224\n",
      "Iteration 433, loss = 0.01065634\n",
      "Iteration 434, loss = 0.01062083\n",
      "Iteration 435, loss = 0.01058509\n",
      "Iteration 436, loss = 0.01054942\n",
      "Iteration 437, loss = 0.01051386\n",
      "Iteration 438, loss = 0.01047925\n",
      "Iteration 439, loss = 0.01044446\n",
      "Iteration 440, loss = 0.01040999\n",
      "Iteration 441, loss = 0.01037562\n",
      "Iteration 442, loss = 0.01034163\n",
      "Iteration 443, loss = 0.01030790\n",
      "Iteration 444, loss = 0.01027384\n",
      "Iteration 445, loss = 0.01024070\n",
      "Iteration 446, loss = 0.01020720\n",
      "Iteration 447, loss = 0.01017393\n",
      "Iteration 448, loss = 0.01014041\n",
      "Iteration 449, loss = 0.01010792\n",
      "Iteration 450, loss = 0.01007512\n",
      "Iteration 451, loss = 0.01004234\n",
      "Iteration 452, loss = 0.01001032\n",
      "Iteration 453, loss = 0.00997819\n",
      "Iteration 454, loss = 0.00994594\n",
      "Iteration 455, loss = 0.00991441\n",
      "Iteration 456, loss = 0.00988260\n",
      "Iteration 457, loss = 0.00985105\n",
      "Iteration 458, loss = 0.00981956\n",
      "Iteration 459, loss = 0.00978878\n",
      "Iteration 460, loss = 0.00975785\n",
      "Iteration 461, loss = 0.00972705\n",
      "Iteration 462, loss = 0.00969680\n",
      "Iteration 463, loss = 0.00966594\n",
      "Iteration 464, loss = 0.00963574\n",
      "Iteration 465, loss = 0.00960482\n",
      "Iteration 466, loss = 0.00957491\n",
      "Iteration 467, loss = 0.00954499\n",
      "Iteration 468, loss = 0.00951480\n",
      "Iteration 469, loss = 0.00948470\n",
      "Iteration 470, loss = 0.00945498\n",
      "Iteration 471, loss = 0.00942580\n",
      "Iteration 472, loss = 0.00939626\n",
      "Iteration 473, loss = 0.00936735\n",
      "Iteration 474, loss = 0.00933887\n",
      "Iteration 475, loss = 0.00931014\n",
      "Iteration 476, loss = 0.00928167\n",
      "Iteration 477, loss = 0.00925294\n",
      "Iteration 478, loss = 0.00922503\n",
      "Iteration 479, loss = 0.00919661\n",
      "Iteration 480, loss = 0.00916889\n",
      "Iteration 481, loss = 0.00914056\n",
      "Iteration 482, loss = 0.00911299\n",
      "Iteration 483, loss = 0.00908526\n",
      "Iteration 484, loss = 0.00905714\n",
      "Iteration 485, loss = 0.00903011\n",
      "Iteration 486, loss = 0.00900302\n",
      "Iteration 487, loss = 0.00897574\n",
      "Iteration 488, loss = 0.00894874\n",
      "Iteration 489, loss = 0.00892160\n",
      "Iteration 490, loss = 0.00889526\n",
      "Iteration 491, loss = 0.00886853\n",
      "Iteration 492, loss = 0.00884212\n",
      "Iteration 493, loss = 0.00881586\n",
      "Iteration 494, loss = 0.00878990\n",
      "Iteration 495, loss = 0.00876351\n",
      "Iteration 496, loss = 0.00873767\n",
      "Iteration 497, loss = 0.00871208\n",
      "Iteration 498, loss = 0.00868655\n",
      "Iteration 499, loss = 0.00866068\n",
      "Iteration 500, loss = 0.00863499\n"
     ]
    },
    {
     "name": "stderr",
     "output_type": "stream",
     "text": [
      "d:\\softwares\\python\\lib\\site-packages\\sklearn\\neural_network\\multilayer_perceptron.py:564: ConvergenceWarning: Stochastic Optimizer: Maximum iterations (500) reached and the optimization hasn't converged yet.\n",
      "  % self.max_iter, ConvergenceWarning)\n"
     ]
    },
    {
     "data": {
      "text/plain": [
       "MLPClassifier(activation='logistic', alpha=0.0001, batch_size='auto',\n",
       "       beta_1=0.9, beta_2=0.999, early_stopping=False, epsilon=1e-08,\n",
       "       hidden_layer_sizes=(256, 128), learning_rate='constant',\n",
       "       learning_rate_init=0.005, max_iter=500, momentum=0.9,\n",
       "       nesterovs_momentum=True, power_t=0.5, random_state=None,\n",
       "       shuffle=True, solver='adam', tol=1e-05, validation_fraction=0.1,\n",
       "       verbose=True, warm_start=True)"
      ]
     },
     "execution_count": 15,
     "metadata": {},
     "output_type": "execute_result"
    }
   ],
   "source": [
    "scaler = StandardScaler()\n",
    "\n",
    "## using saved values for the important indices\n",
    "with open('both_indices.pkl') as f:\n",
    "    indices = pkl.load(f)\n",
    "\n",
    "indices = indices[:25000]\n",
    "\n",
    "X = X.iloc[:, indices[:25000]]\n",
    "\n",
    "X = scaler.fit_transform(X)\n",
    "\n",
    "clf = MLPClassifier(hidden_layer_sizes=(256, 128), activation='logistic', #solver='lbfgs', #learning_rate='adaptive',\n",
    "                verbose=True, tol=1e-5 ,max_iter=500, learning_rate_init=0.005\n",
    "                , warm_start = True\n",
    "               )\n",
    "\n",
    "clf.fit(X, y)"
   ]
  },
  {
   "cell_type": "code",
   "execution_count": 16,
   "metadata": {},
   "outputs": [],
   "source": [
    "with open('joint_model.pkl' , 'wb') as f:\n",
    "    pkl.dump(clf, f)"
   ]
  },
  {
   "cell_type": "code",
   "execution_count": 17,
   "metadata": {},
   "outputs": [],
   "source": [
    "with open('joint_scalar.pkl' , 'wb') as f:\n",
    "    pkl.dump(scaler, f)"
   ]
  },
  {
   "cell_type": "code",
   "execution_count": 18,
   "metadata": {},
   "outputs": [],
   "source": [
    "with open('binarizer.pkl' , 'wb') as f:\n",
    "    pkl.dump(mlb, f)"
   ]
  },
  {
   "cell_type": "markdown",
   "metadata": {},
   "source": [
    "**Code to plot the feature importances**"
   ]
  },
  {
   "cell_type": "code",
   "execution_count": 64,
   "metadata": {
    "collapsed": true
   },
   "outputs": [],
   "source": [
    "# # Plot the feature importances of the forest\n",
    "# count = 20\n",
    "# plt.figure(figsize=(16, 8))\n",
    "# # plt.bar(range(X_train.shape[1]), importances[indices],\n",
    "# #        color=\"r\", yerr=std[indices], align=\"center\")\n",
    "# plt.bar(range(count), importances[indices[:count]],\n",
    "#        color=\"r\", align=\"center\")\n",
    "\n",
    "# # plt.xticks(range(X_train.shape[1]), indices)\n",
    "# plt.xticks(range(count), indices[:count])\n",
    "# plt.xlim([-1, count])\n",
    "# plt.xlabel(\"Transcript Index\", fontsize=16)\n",
    "# plt.ylabel(\"Feature Importance\", fontsize=16)\n",
    "# # plt.xlim([-1, X_train.shape[1]])\n",
    "# plt.show()"
   ]
  },
  {
   "cell_type": "markdown",
   "metadata": {},
   "source": [
    "### For population"
   ]
  },
  {
   "cell_type": "code",
   "execution_count": 35,
   "metadata": {},
   "outputs": [],
   "source": [
    "X = train.drop(['population', 'sequencing_center'], axis=1)\n",
    "Y = train['population']"
   ]
  },
  {
   "cell_type": "code",
   "execution_count": 2,
   "metadata": {},
   "outputs": [
    {
     "name": "stdout",
     "output_type": "stream",
     "text": [
      "KFold(n_splits=5, random_state=None, shuffle=False)\n",
      "1 ) f1_score :  0.786531986532\n",
      "2 ) f1_score :  0.836624869383\n",
      "3 ) f1_score :  0.866600384019\n",
      "4 ) f1_score :  0.825254232128\n",
      "5 ) f1_score :  0.882010582011\n",
      "The average f-1 score is  0.841059551094\n"
     ]
    }
   ],
   "source": [
    "## Performing 5 fold cross validation on MLP Classifier\n",
    "kf = KFold(n_splits=5)\n",
    "kf.get_n_splits(X)\n",
    "\n",
    "mlb = MultiLabelBinarizer()\n",
    "y = mlb.fit_transform(Y.as_matrix())\n",
    "y = pd.DataFrame(y)\n",
    "\n",
    "\n",
    "print(kf)  \n",
    "\n",
    "scaler = StandardScaler()\n",
    "\n",
    "scores = []\n",
    "count =1\n",
    "\n",
    "for train_index, test_index in kf.split(X):\n",
    "#     print(\"TRAIN:\", train_index, \"TEST:\", test_index)\n",
    "    X_train, X_test = X.iloc[train_index], X.iloc[test_index]\n",
    "    y_train, y_test = y.iloc[train_index], y.iloc[test_index]\n",
    "    \n",
    "    forest = ExtraTreesClassifier(n_estimators=250, n_jobs=-1, bootstrap=True, oob_score=True, verbose=0,\n",
    "                              random_state=0)\n",
    "\n",
    "    # using out-of-bag samples for testing generalization accuracy\n",
    "\n",
    "    forest.fit(X_train, y_train)\n",
    "    importances = forest.feature_importances_\n",
    "\n",
    "    indices = np.argsort(importances)[::-1]\n",
    "\n",
    "    ## choosing the top 25000 features\n",
    "    X_train = X_train.iloc[:, indices[:25000]]\n",
    "    X_test = X_test.iloc[:,indices[:25000]]\n",
    "    X_train = scaler.fit_transform(X_train)\n",
    "\n",
    "    clf = MLPClassifier(hidden_layer_sizes=(256, 128), activation='logistic', #solver='lbfgs', #learning_rate='adaptive',\n",
    "                    verbose=False, tol=1e-5 ,max_iter=500, learning_rate_init=0.005\n",
    "#                     warm_start = True\n",
    "                   )\n",
    "    \n",
    "    clf.fit(X_train, y_train)\n",
    "    \n",
    "    X_test = scaler.transform(X_test)\n",
    "    y_pred = clf.predict(X_test)\n",
    "    scores.append(f1_score(y_test, y_pred, average='macro'))\n",
    "    print count,\") f1_score : \", scores[-1]\n",
    "    count+=1\n",
    "\n",
    "print \"The average f-1 score is \",sum(scores)/len(scores)\n"
   ]
  },
  {
   "cell_type": "code",
   "execution_count": 20,
   "metadata": {
    "scrolled": true
   },
   "outputs": [
    {
     "name": "stdout",
     "output_type": "stream",
     "text": [
      "Iteration 1, loss = 1.57276791\n",
      "Iteration 2, loss = 1.11868326\n",
      "Iteration 3, loss = 0.81814753\n",
      "Iteration 4, loss = 0.54588110\n",
      "Iteration 5, loss = 0.35266619\n",
      "Iteration 6, loss = 0.23491131\n",
      "Iteration 7, loss = 0.16289884\n",
      "Iteration 8, loss = 0.11394666\n",
      "Iteration 9, loss = 0.08094536\n",
      "Iteration 10, loss = 0.05926931\n",
      "Iteration 11, loss = 0.04622317\n",
      "Iteration 12, loss = 0.03605649\n",
      "Iteration 13, loss = 0.02944875\n",
      "Iteration 14, loss = 0.02430509\n",
      "Iteration 15, loss = 0.02067348\n",
      "Iteration 16, loss = 0.01748911\n",
      "Iteration 17, loss = 0.01510565\n",
      "Iteration 18, loss = 0.01314781\n",
      "Iteration 19, loss = 0.01190376\n",
      "Iteration 20, loss = 0.01082991\n",
      "Iteration 21, loss = 0.00968727\n",
      "Iteration 22, loss = 0.00888307\n",
      "Iteration 23, loss = 0.00821061\n",
      "Iteration 24, loss = 0.00770194\n",
      "Iteration 25, loss = 0.00729404\n",
      "Iteration 26, loss = 0.00691950\n",
      "Iteration 27, loss = 0.00656085\n",
      "Iteration 28, loss = 0.00632599\n",
      "Iteration 29, loss = 0.00607057\n",
      "Iteration 30, loss = 0.00588983\n",
      "Iteration 31, loss = 0.00565977\n",
      "Iteration 32, loss = 0.00552171\n",
      "Iteration 33, loss = 0.00538154\n",
      "Iteration 34, loss = 0.00524209\n",
      "Iteration 35, loss = 0.00509219\n",
      "Iteration 36, loss = 0.00498254\n",
      "Iteration 37, loss = 0.00489538\n",
      "Iteration 38, loss = 0.00480671\n",
      "Iteration 39, loss = 0.00471887\n",
      "Iteration 40, loss = 0.00463959\n",
      "Iteration 41, loss = 0.00457368\n",
      "Iteration 42, loss = 0.00450220\n",
      "Iteration 43, loss = 0.00443627\n",
      "Iteration 44, loss = 0.00437464\n",
      "Iteration 45, loss = 0.00431076\n",
      "Iteration 46, loss = 0.00425555\n",
      "Iteration 47, loss = 0.00419713\n",
      "Iteration 48, loss = 0.00414430\n",
      "Iteration 49, loss = 0.00409305\n",
      "Iteration 50, loss = 0.00404147\n",
      "Iteration 51, loss = 0.00399679\n",
      "Iteration 52, loss = 0.00395282\n",
      "Iteration 53, loss = 0.00390374\n",
      "Iteration 54, loss = 0.00384889\n",
      "Iteration 55, loss = 0.00380541\n",
      "Iteration 56, loss = 0.00376520\n",
      "Iteration 57, loss = 0.00372482\n",
      "Iteration 58, loss = 0.00368639\n",
      "Iteration 59, loss = 0.00364587\n",
      "Iteration 60, loss = 0.00360558\n",
      "Iteration 61, loss = 0.00357424\n",
      "Iteration 62, loss = 0.00353923\n",
      "Iteration 63, loss = 0.00350554\n",
      "Iteration 64, loss = 0.00347421\n",
      "Iteration 65, loss = 0.00344252\n",
      "Iteration 66, loss = 0.00341210\n",
      "Iteration 67, loss = 0.00338211\n",
      "Iteration 68, loss = 0.00335359\n",
      "Iteration 69, loss = 0.00332189\n",
      "Iteration 70, loss = 0.00328921\n",
      "Iteration 71, loss = 0.00326218\n",
      "Iteration 72, loss = 0.00323680\n",
      "Iteration 73, loss = 0.00321192\n",
      "Iteration 74, loss = 0.00318683\n",
      "Iteration 75, loss = 0.00316254\n",
      "Iteration 76, loss = 0.00313924\n",
      "Iteration 77, loss = 0.00311544\n",
      "Iteration 78, loss = 0.00309186\n",
      "Iteration 79, loss = 0.00306940\n",
      "Iteration 80, loss = 0.00304678\n",
      "Iteration 81, loss = 0.00302573\n",
      "Iteration 82, loss = 0.00300484\n",
      "Iteration 83, loss = 0.00298336\n",
      "Iteration 84, loss = 0.00296267\n",
      "Iteration 85, loss = 0.00293778\n",
      "Iteration 86, loss = 0.00291852\n",
      "Iteration 87, loss = 0.00289953\n",
      "Iteration 88, loss = 0.00288072\n",
      "Iteration 89, loss = 0.00286204\n",
      "Iteration 90, loss = 0.00284476\n",
      "Iteration 91, loss = 0.00282628\n",
      "Iteration 92, loss = 0.00280952\n",
      "Iteration 93, loss = 0.00279213\n",
      "Iteration 94, loss = 0.00277522\n",
      "Iteration 95, loss = 0.00275979\n",
      "Iteration 96, loss = 0.00274184\n",
      "Iteration 97, loss = 0.00272554\n",
      "Iteration 98, loss = 0.00270907\n",
      "Iteration 99, loss = 0.00269382\n",
      "Iteration 100, loss = 0.00267883\n",
      "Iteration 101, loss = 0.00266452\n",
      "Iteration 102, loss = 0.00264960\n",
      "Iteration 103, loss = 0.00263484\n",
      "Iteration 104, loss = 0.00262080\n",
      "Iteration 105, loss = 0.00260691\n",
      "Iteration 106, loss = 0.00259332\n",
      "Iteration 107, loss = 0.00257932\n",
      "Iteration 108, loss = 0.00256648\n",
      "Iteration 109, loss = 0.00255233\n",
      "Iteration 110, loss = 0.00253625\n",
      "Iteration 111, loss = 0.00252325\n",
      "Iteration 112, loss = 0.00251015\n",
      "Iteration 113, loss = 0.00249834\n",
      "Iteration 114, loss = 0.00248563\n",
      "Iteration 115, loss = 0.00247415\n",
      "Iteration 116, loss = 0.00246116\n",
      "Iteration 117, loss = 0.00244857\n",
      "Iteration 118, loss = 0.00243645\n",
      "Iteration 119, loss = 0.00242549\n",
      "Iteration 120, loss = 0.00241402\n",
      "Iteration 121, loss = 0.00240298\n",
      "Iteration 122, loss = 0.00239185\n",
      "Iteration 123, loss = 0.00238116\n",
      "Iteration 124, loss = 0.00237066\n",
      "Iteration 125, loss = 0.00236002\n",
      "Iteration 126, loss = 0.00234910\n",
      "Iteration 127, loss = 0.00233939\n",
      "Iteration 128, loss = 0.00232914\n",
      "Iteration 129, loss = 0.00231899\n",
      "Iteration 130, loss = 0.00230904\n",
      "Iteration 131, loss = 0.00229940\n",
      "Iteration 132, loss = 0.00228974\n",
      "Training loss did not improve more than tol=0.000010 for two consecutive epochs. Stopping.\n"
     ]
    },
    {
     "data": {
      "text/plain": [
       "MLPClassifier(activation='logistic', alpha=0.0001, batch_size='auto',\n",
       "       beta_1=0.9, beta_2=0.999, early_stopping=False, epsilon=1e-08,\n",
       "       hidden_layer_sizes=(256, 128), learning_rate='constant',\n",
       "       learning_rate_init=0.005, max_iter=500, momentum=0.9,\n",
       "       nesterovs_momentum=True, power_t=0.5, random_state=None,\n",
       "       shuffle=True, solver='adam', tol=1e-05, validation_fraction=0.1,\n",
       "       verbose=True, warm_start=True)"
      ]
     },
     "execution_count": 20,
     "metadata": {},
     "output_type": "execute_result"
    }
   ],
   "source": [
    "scaler = StandardScaler()\n",
    "\n",
    "with open('population_indices.pkl') as f:\n",
    "    indices = pkl.load(f)\n",
    "\n",
    "indices = indices[:25000]\n",
    "\n",
    "X = X.iloc[:, indices[:25000]]\n",
    "\n",
    "X = scaler.fit_transform(X)\n",
    "\n",
    "clf = MLPClassifier(hidden_layer_sizes=(256, 128), activation='logistic', #solver='lbfgs', #learning_rate='adaptive',\n",
    "                verbose=True, tol=1e-5 ,max_iter=500, learning_rate_init=0.005\n",
    "                , warm_start = True\n",
    "               )\n",
    "\n",
    "clf.fit(X, Y)"
   ]
  },
  {
   "cell_type": "code",
   "execution_count": 21,
   "metadata": {},
   "outputs": [],
   "source": [
    "with open('population_model.pkl' , 'wb') as f:\n",
    "    pkl.dump(clf, f)"
   ]
  },
  {
   "cell_type": "code",
   "execution_count": 22,
   "metadata": {},
   "outputs": [],
   "source": [
    "with open('population_scalar.pkl' , 'wb') as f:\n",
    "    pkl.dump(scaler, f)"
   ]
  },
  {
   "cell_type": "code",
   "execution_count": null,
   "metadata": {},
   "outputs": [],
   "source": []
  },
  {
   "cell_type": "markdown",
   "metadata": {},
   "source": [
    "### For sequencing center"
   ]
  },
  {
   "cell_type": "code",
   "execution_count": 23,
   "metadata": {},
   "outputs": [],
   "source": [
    "X = train.drop(['population', 'sequencing_center'], axis=1)\n",
    "y = train['sequencing_center']\n",
    "# with open('X_reduced.pkl') as f:\n",
    "    "
   ]
  },
  {
   "cell_type": "code",
   "execution_count": 30,
   "metadata": {},
   "outputs": [
    {
     "name": "stdout",
     "output_type": "stream",
     "text": [
      "KFold(n_splits=5, random_state=None, shuffle=False)\n",
      "1 ) f1_score :  0.929378894415\n",
      "2 ) f1_score :  0.979487179487\n",
      "3 ) f1_score :  0.963213044131\n",
      "4 ) f1_score :  0.94509695345\n",
      "5 ) f1_score :  0.856975523656\n",
      "The average f-1 score is  0.934830319028\n"
     ]
    }
   ],
   "source": [
    "## Performing 5 fold cross validation on MLP Classifier\n",
    "kf = KFold(n_splits=5)\n",
    "kf.get_n_splits(X)\n",
    "\n",
    "# mlb = MultiLabelBinarizer()\n",
    "# y = mlb.fit_transform(Y.as_matrix())\n",
    "# y = pd.DataFrame(y)\n",
    "\n",
    "\n",
    "print(kf)  \n",
    "\n",
    "scaler = StandardScaler()\n",
    "\n",
    "scores = []\n",
    "count = 1\n",
    "\n",
    "for train_index, test_index in kf.split(X):\n",
    "#     print(\"TRAIN:\", train_index, \"TEST:\", test_index)\n",
    "    X_train, X_test = X.iloc[train_index], X.iloc[test_index]\n",
    "    y_train, y_test = y.iloc[train_index], y.iloc[test_index]\n",
    "    \n",
    "    forest = ExtraTreesClassifier(n_estimators=250, bootstrap=True, oob_score=True, verbose=0,\n",
    "                              random_state=0)\n",
    "\n",
    "    # using out-of-bag samples for testing generalization accuracy\n",
    "\n",
    "    forest.fit(X_train, y_train)\n",
    "    importances = forest.feature_importances_\n",
    "\n",
    "    indices = np.argsort(importances)[::-1]\n",
    "\n",
    "    ## choosing the top 25000 features\n",
    "    X_train = X_train.iloc[:, indices[:25000]]\n",
    "    X_test = X_test.iloc[:,indices[:25000]]\n",
    "    X_train = scaler.fit_transform(X_train)\n",
    "\n",
    "    clf = MLPClassifier(hidden_layer_sizes=(256, 128), activation='logistic', #solver='lbfgs', #learning_rate='adaptive',\n",
    "                    verbose=False, tol=1e-5 ,max_iter=500, learning_rate_init=0.005\n",
    "#                     warm_start = True\n",
    "                   )\n",
    "    \n",
    "    clf.fit(X_train, y_train)\n",
    "    \n",
    "    X_test = scaler.transform(X_test)\n",
    "    y_pred = clf.predict(X_test)\n",
    "    scores.append(f1_score(y_test, y_pred, average='macro'))\n",
    "    print count,\") f1_score : \", scores[-1]\n",
    "    count+=1\n",
    "\n",
    "print \"The average f-1 score is \",sum(scores)/len(scores)"
   ]
  },
  {
   "cell_type": "markdown",
   "metadata": {},
   "source": [
    "We can definitely improve the f1 score and accuracy.\n",
    "However, the only limitation is of memory.\n",
    "Since, fitting the entire data structure and other variables in RAM \n",
    "along with the overhead of hashing was giving memory errors.\n",
    "If we can try to run this on a more powerful machine, it will work."
   ]
  },
  {
   "cell_type": "code",
   "execution_count": 24,
   "metadata": {
    "scrolled": true
   },
   "outputs": [
    {
     "name": "stdout",
     "output_type": "stream",
     "text": [
      "Iteration 1, loss = 1.65318814\n",
      "Iteration 2, loss = 1.19564005\n",
      "Iteration 3, loss = 0.94305667\n",
      "Iteration 4, loss = 0.65540591\n",
      "Iteration 5, loss = 0.43617899\n",
      "Iteration 6, loss = 0.29153293\n",
      "Iteration 7, loss = 0.19698835\n",
      "Iteration 8, loss = 0.12867314\n",
      "Iteration 9, loss = 0.08658251\n",
      "Iteration 10, loss = 0.06162288\n",
      "Iteration 11, loss = 0.04556163\n",
      "Iteration 12, loss = 0.03466866\n",
      "Iteration 13, loss = 0.02696199\n",
      "Iteration 14, loss = 0.02166828\n",
      "Iteration 15, loss = 0.01791738\n",
      "Iteration 16, loss = 0.01515805\n",
      "Iteration 17, loss = 0.01317262\n",
      "Iteration 18, loss = 0.01162646\n",
      "Iteration 19, loss = 0.01049547\n",
      "Iteration 20, loss = 0.00958515\n",
      "Iteration 21, loss = 0.00885517\n",
      "Iteration 22, loss = 0.00827302\n",
      "Iteration 23, loss = 0.00779755\n",
      "Iteration 24, loss = 0.00739491\n",
      "Iteration 25, loss = 0.00705726\n",
      "Iteration 26, loss = 0.00677506\n",
      "Iteration 27, loss = 0.00653072\n",
      "Iteration 28, loss = 0.00631015\n",
      "Iteration 29, loss = 0.00611592\n",
      "Iteration 30, loss = 0.00594333\n",
      "Iteration 31, loss = 0.00578907\n",
      "Iteration 32, loss = 0.00564582\n",
      "Iteration 33, loss = 0.00551874\n",
      "Iteration 34, loss = 0.00540196\n",
      "Iteration 35, loss = 0.00529310\n",
      "Iteration 36, loss = 0.00519081\n",
      "Iteration 37, loss = 0.00509632\n",
      "Iteration 38, loss = 0.00500859\n",
      "Iteration 39, loss = 0.00492474\n",
      "Iteration 40, loss = 0.00484786\n",
      "Iteration 41, loss = 0.00477092\n",
      "Iteration 42, loss = 0.00469981\n",
      "Iteration 43, loss = 0.00462992\n",
      "Iteration 44, loss = 0.00456586\n",
      "Iteration 45, loss = 0.00450329\n",
      "Iteration 46, loss = 0.00444265\n",
      "Iteration 47, loss = 0.00438614\n",
      "Iteration 48, loss = 0.00433037\n",
      "Iteration 49, loss = 0.00427685\n",
      "Iteration 50, loss = 0.00422398\n",
      "Iteration 51, loss = 0.00417285\n",
      "Iteration 52, loss = 0.00412386\n",
      "Iteration 53, loss = 0.00407711\n",
      "Iteration 54, loss = 0.00403183\n",
      "Iteration 55, loss = 0.00398672\n",
      "Iteration 56, loss = 0.00394434\n",
      "Iteration 57, loss = 0.00390226\n",
      "Iteration 58, loss = 0.00386099\n",
      "Iteration 59, loss = 0.00382092\n",
      "Iteration 60, loss = 0.00378292\n",
      "Iteration 61, loss = 0.00374485\n",
      "Iteration 62, loss = 0.00370825\n",
      "Iteration 63, loss = 0.00367271\n",
      "Iteration 64, loss = 0.00363784\n",
      "Iteration 65, loss = 0.00360390\n",
      "Iteration 66, loss = 0.00357090\n",
      "Iteration 67, loss = 0.00353896\n",
      "Iteration 68, loss = 0.00350764\n",
      "Iteration 69, loss = 0.00347758\n",
      "Iteration 70, loss = 0.00344733\n",
      "Iteration 71, loss = 0.00341801\n",
      "Iteration 72, loss = 0.00338945\n",
      "Iteration 73, loss = 0.00336134\n",
      "Iteration 74, loss = 0.00333332\n",
      "Iteration 75, loss = 0.00330583\n",
      "Iteration 76, loss = 0.00327940\n",
      "Iteration 77, loss = 0.00325357\n",
      "Iteration 78, loss = 0.00322845\n",
      "Iteration 79, loss = 0.00320300\n",
      "Iteration 80, loss = 0.00317919\n",
      "Iteration 81, loss = 0.00315557\n",
      "Iteration 82, loss = 0.00313227\n",
      "Iteration 83, loss = 0.00310968\n",
      "Iteration 84, loss = 0.00308750\n",
      "Iteration 85, loss = 0.00306572\n",
      "Iteration 86, loss = 0.00304436\n",
      "Iteration 87, loss = 0.00302340\n",
      "Iteration 88, loss = 0.00300265\n",
      "Iteration 89, loss = 0.00298244\n",
      "Iteration 90, loss = 0.00296236\n",
      "Iteration 91, loss = 0.00294264\n",
      "Iteration 92, loss = 0.00292341\n",
      "Iteration 93, loss = 0.00290463\n",
      "Iteration 94, loss = 0.00288639\n",
      "Iteration 95, loss = 0.00286834\n",
      "Iteration 96, loss = 0.00285032\n",
      "Iteration 97, loss = 0.00283249\n",
      "Iteration 98, loss = 0.00281528\n",
      "Iteration 99, loss = 0.00279813\n",
      "Iteration 100, loss = 0.00278095\n",
      "Iteration 101, loss = 0.00276461\n",
      "Iteration 102, loss = 0.00274819\n",
      "Iteration 103, loss = 0.00273227\n",
      "Iteration 104, loss = 0.00271641\n",
      "Iteration 105, loss = 0.00270063\n",
      "Iteration 106, loss = 0.00268542\n",
      "Iteration 107, loss = 0.00267035\n",
      "Iteration 108, loss = 0.00265549\n",
      "Iteration 109, loss = 0.00264105\n",
      "Iteration 110, loss = 0.00262673\n",
      "Iteration 111, loss = 0.00261266\n",
      "Iteration 112, loss = 0.00259875\n",
      "Iteration 113, loss = 0.00258474\n",
      "Iteration 114, loss = 0.00257088\n",
      "Iteration 115, loss = 0.00255742\n",
      "Iteration 116, loss = 0.00254427\n",
      "Iteration 117, loss = 0.00253136\n",
      "Iteration 118, loss = 0.00251861\n",
      "Iteration 119, loss = 0.00250607\n",
      "Iteration 120, loss = 0.00249345\n",
      "Iteration 121, loss = 0.00248120\n",
      "Iteration 122, loss = 0.00246887\n",
      "Iteration 123, loss = 0.00245658\n",
      "Iteration 124, loss = 0.00244463\n",
      "Iteration 125, loss = 0.00243281\n",
      "Iteration 126, loss = 0.00242128\n",
      "Iteration 127, loss = 0.00240989\n",
      "Iteration 128, loss = 0.00239860\n",
      "Iteration 129, loss = 0.00238741\n",
      "Iteration 130, loss = 0.00237625\n",
      "Iteration 131, loss = 0.00236478\n",
      "Iteration 132, loss = 0.00235396\n",
      "Iteration 133, loss = 0.00234326\n",
      "Iteration 134, loss = 0.00233283\n",
      "Iteration 135, loss = 0.00232240\n",
      "Iteration 136, loss = 0.00231217\n",
      "Iteration 137, loss = 0.00230210\n",
      "Iteration 138, loss = 0.00229202\n",
      "Iteration 139, loss = 0.00228208\n",
      "Iteration 140, loss = 0.00227227\n",
      "Iteration 141, loss = 0.00226245\n",
      "Training loss did not improve more than tol=0.000010 for two consecutive epochs. Stopping.\n"
     ]
    },
    {
     "data": {
      "text/plain": [
       "MLPClassifier(activation='logistic', alpha=0.0001, batch_size='auto',\n",
       "       beta_1=0.9, beta_2=0.999, early_stopping=False, epsilon=1e-08,\n",
       "       hidden_layer_sizes=(256, 128), learning_rate='constant',\n",
       "       learning_rate_init=0.005, max_iter=500, momentum=0.9,\n",
       "       nesterovs_momentum=True, power_t=0.5, random_state=None,\n",
       "       shuffle=True, solver='adam', tol=1e-05, validation_fraction=0.1,\n",
       "       verbose=True, warm_start=True)"
      ]
     },
     "execution_count": 24,
     "metadata": {},
     "output_type": "execute_result"
    }
   ],
   "source": [
    "scaler = StandardScaler()\n",
    "\n",
    "with open('sequencing_indices.pkl') as f:\n",
    "    indices = pkl.load(f)\n",
    "\n",
    "indices = indices[:25000]\n",
    "\n",
    "X = X.iloc[:, indices[:25000]]\n",
    "\n",
    "X = scaler.fit_transform(X)\n",
    "\n",
    "clf = MLPClassifier(hidden_layer_sizes=(256, 128), activation='logistic', #solver='lbfgs', #learning_rate='adaptive',\n",
    "                verbose=True, tol=1e-5 ,max_iter=500, learning_rate_init=0.005\n",
    "                , warm_start = True\n",
    "               )\n",
    "\n",
    "clf.fit(X, Y)"
   ]
  },
  {
   "cell_type": "code",
   "execution_count": 25,
   "metadata": {},
   "outputs": [],
   "source": [
    "with open('sequencing_model.pkl' , 'wb') as f:\n",
    "    pkl.dump(clf, f)"
   ]
  },
  {
   "cell_type": "code",
   "execution_count": 27,
   "metadata": {},
   "outputs": [],
   "source": [
    "with open('sequencing_scalar.pkl' , 'wb') as f:\n",
    "    pkl.dump(scaler, f)"
   ]
  },
  {
   "cell_type": "markdown",
   "metadata": {},
   "source": [
    "## Converting feature indices to feature names "
   ]
  },
  {
   "cell_type": "code",
   "execution_count": 28,
   "metadata": {},
   "outputs": [],
   "source": [
    "with open('both_indices.pkl') as f:\n",
    "    indices = pkl.load(f)\n",
    "\n",
    "indices = indices[:25000]\n",
    "\n",
    "ma = list(master_set)\n",
    "multi_features = []\n",
    "for i in indices:\n",
    "    multi_features.append(ma[i])\n",
    "    \n",
    "with open('multi_features.pkl','wb') as f:\n",
    "    pkl.dump(multi_features,f)\n",
    "    \n",
    "\n",
    "\n",
    "with open('population_indices.pkl') as f:\n",
    "    pop_indices = pkl.load(f)   \n",
    "    pop_indices  = pop_indices[:25000]\n",
    "\n",
    "pop_features = []\n",
    "for i in pop_indices:\n",
    "    pop_features.append(ma[i])\n",
    "    \n",
    "with open('pop_features.pkl','wb') as f:\n",
    "    pkl.dump(pop_features,f)\n",
    "    \n",
    "    \n",
    "    \n",
    "with open('sequencing_indices.pkl') as f:\n",
    "    seq_indices = pkl.load(f)   \n",
    "    seq_indices  = seq_indices[:25000]\n",
    "\n",
    "seq_features = []\n",
    "for i in seq_indices:\n",
    "    seq_features.append(ma[i])\n",
    "    \n",
    "with open('seq_features.pkl','wb') as f:\n",
    "    pkl.dump(seq_features,f)"
   ]
  },
  {
   "cell_type": "code",
   "execution_count": 29,
   "metadata": {},
   "outputs": [],
   "source": [
    "all_scalers = {}\n",
    "with open('joint_scalar.pkl') as f:\n",
    "    multi = pkl.load(f)\n",
    "\n",
    "all_scalers['multi_scaler'] = multi\n",
    " \n",
    "\n",
    "with open('population_scalar.pkl') as f:\n",
    "    pop = pkl.load(f)   \n",
    "\n",
    "all_scalers['pop_scaler'] = pop\n",
    "    \n",
    "with open('sequencing_scalar.pkl') as f:\n",
    "    seq = pkl.load(f)   \n",
    "\n",
    "all_scalers['seq_scaler'] = seq\n",
    "with open('all_scalers.pkl','wb') as f:\n",
    "    pkl.dump(all_scalers,f)"
   ]
  },
  {
   "cell_type": "code",
   "execution_count": 13,
   "metadata": {},
   "outputs": [
    {
     "data": {
      "text/plain": [
       "3"
      ]
     },
     "execution_count": 13,
     "metadata": {},
     "output_type": "execute_result"
    }
   ],
   "source": [
    "len(all_scalers)"
   ]
  },
  {
   "cell_type": "code",
   "execution_count": 30,
   "metadata": {},
   "outputs": [],
   "source": [
    "models = {}\n",
    "with open('joint_model.pkl') as f:\n",
    "    multi = pkl.load(f)\n",
    "\n",
    "models['joint_model'] = multi\n",
    " \n",
    "\n",
    "with open('population_model.pkl') as f:\n",
    "    pop = pkl.load(f)   \n",
    "\n",
    "models['population'] = pop\n",
    "    \n",
    "with open('sequencing_model.pkl') as f:\n",
    "    seq = pkl.load(f)   \n",
    "\n",
    "models['sequencing_center'] = seq\n",
    "with open('models.pkl','wb') as f:\n",
    "    pkl.dump(models,f)"
   ]
  },
  {
   "cell_type": "code",
   "execution_count": null,
   "metadata": {},
   "outputs": [],
   "source": []
  }
 ],
 "metadata": {
  "kernelspec": {
   "display_name": "Python 2",
   "language": "python",
   "name": "python2"
  },
  "language_info": {
   "codemirror_mode": {
    "name": "ipython",
    "version": 2
   },
   "file_extension": ".py",
   "mimetype": "text/x-python",
   "name": "python",
   "nbconvert_exporter": "python",
   "pygments_lexer": "ipython2",
   "version": "2.7.14"
  }
 },
 "nbformat": 4,
 "nbformat_minor": 2
}
