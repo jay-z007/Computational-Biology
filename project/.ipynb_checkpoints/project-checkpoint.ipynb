{
 "cells": [
  {
   "cell_type": "code",
   "execution_count": 29,
   "metadata": {
    "collapsed": true
   },
   "outputs": [],
   "source": [
    "import pandas as pd\n",
    "import numpy as np\n",
    "import pickle as pkl\n",
    "from sklearn.ensemble import RandomForestClassifier\n",
    "from sklearn.model_selection import train_test_split\n",
    "from sklearn.metrics import f1_score\n",
    "from sklearn.svm import LinearSVC\n",
    "from sklearn.model_selection import StratifiedKFold\n",
    "from sklearn.model_selection import cross_val_score"
   ]
  },
  {
   "cell_type": "code",
   "execution_count": 4,
   "metadata": {},
   "outputs": [],
   "source": [
    "with open(\"tpm_train.pkl\", 'rb') as input_file:\n",
    "    data = pkl.load(input_file)\n",
    "    "
   ]
  },
  {
   "cell_type": "code",
   "execution_count": 5,
   "metadata": {},
   "outputs": [
    {
     "data": {
      "text/plain": [
       "array([['ERR188408', '0.234074', '0.0', ..., '423.902', '3361.92', 'TSI'],\n",
       "       ['ERR188348', '0.0', '0.0', ..., '360.488', '1861.0', 'CEU'],\n",
       "       ['ERR188021', '0.221792', '0.0', ..., '85.9032', '2026.97', 'TSI'],\n",
       "       ..., \n",
       "       ['ERR188363', '0.0', '0.0', ..., '122.26', '1556.3', 'YRI'],\n",
       "       ['ERR188434', '0.0', '0.0', ..., '184.407', '1144.4', 'YRI'],\n",
       "       ['ERR188474', '0.0', '0.0', ..., '266.749', '2566.61', 'CEU']],\n",
       "      dtype='|S11')"
      ]
     },
     "execution_count": 5,
     "metadata": {},
     "output_type": "execute_result"
    }
   ],
   "source": [
    "data"
   ]
  },
  {
   "cell_type": "code",
   "execution_count": 7,
   "metadata": {},
   "outputs": [],
   "source": [
    "data = pd.DataFrame(data)"
   ]
  },
  {
   "cell_type": "code",
   "execution_count": 15,
   "metadata": {},
   "outputs": [
    {
     "data": {
      "text/html": [
       "<div>\n",
       "<style>\n",
       "    .dataframe thead tr:only-child th {\n",
       "        text-align: right;\n",
       "    }\n",
       "\n",
       "    .dataframe thead th {\n",
       "        text-align: left;\n",
       "    }\n",
       "\n",
       "    .dataframe tbody tr th {\n",
       "        vertical-align: top;\n",
       "    }\n",
       "</style>\n",
       "<table border=\"1\" class=\"dataframe\">\n",
       "  <thead>\n",
       "    <tr style=\"text-align: right;\">\n",
       "      <th></th>\n",
       "      <th>1</th>\n",
       "      <th>2</th>\n",
       "      <th>3</th>\n",
       "      <th>4</th>\n",
       "      <th>5</th>\n",
       "      <th>6</th>\n",
       "      <th>7</th>\n",
       "      <th>8</th>\n",
       "      <th>9</th>\n",
       "      <th>10</th>\n",
       "      <th>...</th>\n",
       "      <th>199316</th>\n",
       "      <th>199317</th>\n",
       "      <th>199318</th>\n",
       "      <th>199319</th>\n",
       "      <th>199320</th>\n",
       "      <th>199321</th>\n",
       "      <th>199322</th>\n",
       "      <th>199323</th>\n",
       "      <th>199324</th>\n",
       "      <th>199325</th>\n",
       "    </tr>\n",
       "    <tr>\n",
       "      <th>0</th>\n",
       "      <th></th>\n",
       "      <th></th>\n",
       "      <th></th>\n",
       "      <th></th>\n",
       "      <th></th>\n",
       "      <th></th>\n",
       "      <th></th>\n",
       "      <th></th>\n",
       "      <th></th>\n",
       "      <th></th>\n",
       "      <th></th>\n",
       "      <th></th>\n",
       "      <th></th>\n",
       "      <th></th>\n",
       "      <th></th>\n",
       "      <th></th>\n",
       "      <th></th>\n",
       "      <th></th>\n",
       "      <th></th>\n",
       "      <th></th>\n",
       "      <th></th>\n",
       "    </tr>\n",
       "  </thead>\n",
       "  <tbody>\n",
       "    <tr>\n",
       "      <th>ERR188408</th>\n",
       "      <td>0.234074</td>\n",
       "      <td>0.0</td>\n",
       "      <td>3.67617</td>\n",
       "      <td>0.0</td>\n",
       "      <td>0.0</td>\n",
       "      <td>0.0</td>\n",
       "      <td>0.0</td>\n",
       "      <td>0.0</td>\n",
       "      <td>0.424268</td>\n",
       "      <td>0.0</td>\n",
       "      <td>...</td>\n",
       "      <td>47.2799</td>\n",
       "      <td>67.1317</td>\n",
       "      <td>309.765</td>\n",
       "      <td>3487.45</td>\n",
       "      <td>8528.7</td>\n",
       "      <td>205.423</td>\n",
       "      <td>5413.82</td>\n",
       "      <td>423.902</td>\n",
       "      <td>3361.92</td>\n",
       "      <td>TSI</td>\n",
       "    </tr>\n",
       "    <tr>\n",
       "      <th>ERR188348</th>\n",
       "      <td>0.0</td>\n",
       "      <td>0.0</td>\n",
       "      <td>1.98881</td>\n",
       "      <td>0.0</td>\n",
       "      <td>0.0</td>\n",
       "      <td>0.0</td>\n",
       "      <td>0.0</td>\n",
       "      <td>0.0</td>\n",
       "      <td>0.137385</td>\n",
       "      <td>0.0</td>\n",
       "      <td>...</td>\n",
       "      <td>18.325</td>\n",
       "      <td>33.0064</td>\n",
       "      <td>23.371</td>\n",
       "      <td>2073.77</td>\n",
       "      <td>5866.83</td>\n",
       "      <td>148.636</td>\n",
       "      <td>4562.6</td>\n",
       "      <td>360.488</td>\n",
       "      <td>1861.0</td>\n",
       "      <td>CEU</td>\n",
       "    </tr>\n",
       "    <tr>\n",
       "      <th>ERR188021</th>\n",
       "      <td>0.221792</td>\n",
       "      <td>0.0</td>\n",
       "      <td>5.4206</td>\n",
       "      <td>0.0</td>\n",
       "      <td>0.0</td>\n",
       "      <td>0.0</td>\n",
       "      <td>0.0</td>\n",
       "      <td>0.0</td>\n",
       "      <td>1.08004</td>\n",
       "      <td>0.0</td>\n",
       "      <td>...</td>\n",
       "      <td>35.2899</td>\n",
       "      <td>36.7604</td>\n",
       "      <td>92.426</td>\n",
       "      <td>3532.69</td>\n",
       "      <td>5837.02</td>\n",
       "      <td>299.965</td>\n",
       "      <td>3237.99</td>\n",
       "      <td>85.9032</td>\n",
       "      <td>2026.97</td>\n",
       "      <td>TSI</td>\n",
       "    </tr>\n",
       "    <tr>\n",
       "      <th>ERR188289</th>\n",
       "      <td>0.0</td>\n",
       "      <td>0.0</td>\n",
       "      <td>8.2935</td>\n",
       "      <td>0.0</td>\n",
       "      <td>0.0</td>\n",
       "      <td>0.0</td>\n",
       "      <td>0.0</td>\n",
       "      <td>0.0</td>\n",
       "      <td>0.404072</td>\n",
       "      <td>0.0</td>\n",
       "      <td>...</td>\n",
       "      <td>27.2531</td>\n",
       "      <td>62.6821</td>\n",
       "      <td>87.8155</td>\n",
       "      <td>2366.44</td>\n",
       "      <td>6055.96</td>\n",
       "      <td>121.125</td>\n",
       "      <td>2903.42</td>\n",
       "      <td>459.035</td>\n",
       "      <td>1813.84</td>\n",
       "      <td>GBR</td>\n",
       "    </tr>\n",
       "    <tr>\n",
       "      <th>ERR188262</th>\n",
       "      <td>0.016667</td>\n",
       "      <td>0.0</td>\n",
       "      <td>2.00487</td>\n",
       "      <td>0.0</td>\n",
       "      <td>0.0</td>\n",
       "      <td>0.0</td>\n",
       "      <td>0.0</td>\n",
       "      <td>0.0</td>\n",
       "      <td>0.68098</td>\n",
       "      <td>0.0</td>\n",
       "      <td>...</td>\n",
       "      <td>28.6091</td>\n",
       "      <td>79.9203</td>\n",
       "      <td>103.341</td>\n",
       "      <td>3527.36</td>\n",
       "      <td>6186.93</td>\n",
       "      <td>74.8239</td>\n",
       "      <td>5829.34</td>\n",
       "      <td>119.75</td>\n",
       "      <td>2343.64</td>\n",
       "      <td>CEU</td>\n",
       "    </tr>\n",
       "  </tbody>\n",
       "</table>\n",
       "<p>5 rows × 199325 columns</p>\n",
       "</div>"
      ],
      "text/plain": [
       "             1      2        3      4      5      6      7      8       \\\n",
       "0                                                                        \n",
       "ERR188408  0.234074    0.0  3.67617    0.0    0.0    0.0    0.0    0.0   \n",
       "ERR188348       0.0    0.0  1.98881    0.0    0.0    0.0    0.0    0.0   \n",
       "ERR188021  0.221792    0.0   5.4206    0.0    0.0    0.0    0.0    0.0   \n",
       "ERR188289       0.0    0.0   8.2935    0.0    0.0    0.0    0.0    0.0   \n",
       "ERR188262  0.016667    0.0  2.00487    0.0    0.0    0.0    0.0    0.0   \n",
       "\n",
       "             9      10      ...     199316   199317   199318   199319  \\\n",
       "0                           ...                                         \n",
       "ERR188408  0.424268    0.0  ...    47.2799  67.1317  309.765  3487.45   \n",
       "ERR188348  0.137385    0.0  ...     18.325  33.0064   23.371  2073.77   \n",
       "ERR188021   1.08004    0.0  ...    35.2899  36.7604   92.426  3532.69   \n",
       "ERR188289  0.404072    0.0  ...    27.2531  62.6821  87.8155  2366.44   \n",
       "ERR188262   0.68098    0.0  ...    28.6091  79.9203  103.341  3527.36   \n",
       "\n",
       "            199320   199321   199322   199323   199324 199325  \n",
       "0                                                              \n",
       "ERR188408   8528.7  205.423  5413.82  423.902  3361.92    TSI  \n",
       "ERR188348  5866.83  148.636   4562.6  360.488   1861.0    CEU  \n",
       "ERR188021  5837.02  299.965  3237.99  85.9032  2026.97    TSI  \n",
       "ERR188289  6055.96  121.125  2903.42  459.035  1813.84    GBR  \n",
       "ERR188262  6186.93  74.8239  5829.34   119.75  2343.64    CEU  \n",
       "\n",
       "[5 rows x 199325 columns]"
      ]
     },
     "execution_count": 15,
     "metadata": {},
     "output_type": "execute_result"
    }
   ],
   "source": [
    "data.set_index(0, inplace=True)\n",
    "data.head()"
   ]
  },
  {
   "cell_type": "code",
   "execution_count": 12,
   "metadata": {},
   "outputs": [
    {
     "data": {
      "text/plain": [
       "0    TSI\n",
       "1    CEU\n",
       "2    TSI\n",
       "3    GBR\n",
       "4    CEU\n",
       "Name: 199325, dtype: object"
      ]
     },
     "execution_count": 12,
     "metadata": {},
     "output_type": "execute_result"
    }
   ],
   "source": [
    "label = data[199325]\n",
    "label.head()"
   ]
  },
  {
   "cell_type": "code",
   "execution_count": 20,
   "metadata": {},
   "outputs": [],
   "source": [
    "X_train, X_test, y_train, y_test = train_test_split(data.drop([199325], axis=1), label, test_size=0.3)"
   ]
  },
  {
   "cell_type": "code",
   "execution_count": 27,
   "metadata": {},
   "outputs": [],
   "source": [
    "clf = RandomForestClassifier(n_estimators=200, max_depth=60, random_state=0, n_jobs=-1)\n",
    "clf.fit(X_train, y_train)\n",
    "\n",
    "y_pred = clf.predict(X_test)\n",
    "\n",
    "print f1_score(y_test, y_pred, average='macro')\n"
   ]
  },
  {
   "cell_type": "code",
   "execution_count": null,
   "metadata": {},
   "outputs": [],
   "source": [
    "clf = LinearSVC(random_state=0)\n",
    "scores = cross_val_score(clf, data.drop([199325], axis=1), label, cv=5)\n",
    "# clf.fit(X_train, y_train)\n",
    "\n",
    "\n",
    "# print clf.coef_\n",
    "\n",
    "# print clf.intercept_\n",
    "\n",
    "# y_pred = clf.predict(X_test)c\n",
    "\n",
    "# print f1_score(y_test, y_pred, average='macro')\n",
    "print score.mean(), scores.std()\n"
   ]
  },
  {
   "cell_type": "code",
   "execution_count": null,
   "metadata": {
    "collapsed": true
   },
   "outputs": [],
   "source": []
  }
 ],
 "metadata": {
  "kernelspec": {
   "display_name": "Python 2",
   "language": "python",
   "name": "python2"
  },
  "language_info": {
   "codemirror_mode": {
    "name": "ipython",
    "version": 2
   },
   "file_extension": ".py",
   "mimetype": "text/x-python",
   "name": "python",
   "nbconvert_exporter": "python",
   "pygments_lexer": "ipython2",
   "version": "2.7.12"
  }
 },
 "nbformat": 4,
 "nbformat_minor": 2
}
